{
  "nbformat": 4,
  "nbformat_minor": 0,
  "metadata": {
    "colab": {
      "name": "Summers_HW3.ipynb",
      "provenance": [],
      "collapsed_sections": [],
      "machine_shape": "hm"
    },
    "kernelspec": {
      "display_name": "Python 3",
      "name": "python3"
    }
  },
  "cells": [
    {
      "cell_type": "markdown",
      "metadata": {
        "id": "Q8mU2kegufAW"
      },
      "source": [
        "# Starter Notebook for AY22-2 CS485 HW3 - POTUS Tweet\n",
        "\n",
        "Welcome to the starter notebook for CS485 HW3. While it is not required that you use this notebook, it is highly recommended, due to the partial pre/post-processing that has been done for you. If you feel a deviation from this notebook is necessary in order to implement a brilliant idea, please seek approval from your instructor.\n",
        "\n",
        "In the cells below, refer to the \"Student Requirements\" in each section heading for steps you must take. The majority of your time will be spent in the `Define Model` block."
      ]
    },
    {
      "cell_type": "markdown",
      "metadata": {
        "id": "6EbEn2H_vRtk"
      },
      "source": [
        "### Imports/Prep\n",
        "\n",
        "Student Requirements:\n",
        "* Add imports as necessary (a baseline set has been provided for you)"
      ]
    },
    {
      "cell_type": "code",
      "metadata": {
        "id": "n3qx_Ym0ta04",
        "colab": {
          "base_uri": "https://localhost:8080/"
        },
        "outputId": "5037aac9-c340-4ded-fa9d-64ee4d28d501"
      },
      "source": [
        "# general\n",
        "import os\n",
        "import numpy as np\n",
        "import pandas as pd\n",
        "import matplotlib.pyplot as plt\n",
        "import warnings\n",
        "warnings.filterwarnings(\"ignore\")\n",
        "import re\n",
        "\n",
        "# tensorflow/keras\n",
        "from tensorflow.keras.models import Sequential, load_model\n",
        "from tensorflow.keras.layers import Dense, SimpleRNN, Bidirectional, LSTM, Embedding\n",
        "from tensorflow.keras.callbacks import LambdaCallback, ModelCheckpoint, EarlyStopping\n",
        "\n",
        "# connect to environment (if mounting to Google Drive)\n",
        "try:\n",
        "    from google.colab import drive\n",
        "    drive.mount('/content/drive', force_remount = True)\n",
        "    print(\"ENVIRONMENT: Google Drive\")\n",
        "except:\n",
        "    print(\"ENVIRONMENT: Local\")"
      ],
      "execution_count": 16,
      "outputs": [
        {
          "output_type": "stream",
          "name": "stdout",
          "text": [
            "Mounted at /content/drive\n",
            "ENVIRONMENT: Google Drive\n"
          ]
        }
      ]
    },
    {
      "cell_type": "markdown",
      "metadata": {
        "id": "C0-sZKZ2uwUU"
      },
      "source": [
        "### Back-end Functions (no modifications necessary, though feel free to review)"
      ]
    },
    {
      "cell_type": "code",
      "metadata": {
        "id": "DY9uq6xcuvda"
      },
      "source": [
        "# returns the index of a predicted character\n",
        "def sample(preds):\n",
        "  preds = np.asarray(preds).astype('float64')\n",
        "  preds = np.log(preds)\n",
        "  exp_preds = np.exp(preds)\n",
        "  preds = exp_preds / np.sum(exp_preds)\n",
        "  probas = np.random.multinomial(1, preds, 1)\n",
        "  return np.argmax(probas)\n",
        "\n",
        "# generates text after each epoch (used in Lambda Callback)\n",
        "def on_epoch_end(epoch, logs):\n",
        "  print()\n",
        "  print('----- Generating text after Epoch: %d' % epoch)\n",
        "  seed_length = 20\n",
        "  start_index = np.random.randint(0, len(corp) - seed_length - 1)\n",
        "  generated = ''\n",
        "  segment = corp[start_index: start_index + seed_length]\n",
        "  generated = generated + segment\n",
        "  print('----- Generating with seed: \"' + segment + '\"')\n",
        "  sys.stdout.write(generated)\n",
        "  for i in range(140):\n",
        "    x_pred = np.zeros((1, maxlen, len(chars)))\n",
        "    for t, char in enumerate(segment):\n",
        "        x_pred[0, t, char_i[char]] = 1.\n",
        "\n",
        "    preds = model.predict(x_pred, verbose=0)[0]\n",
        "    next_index = sample(preds)\n",
        "    next_char = i_char[next_index]\n",
        "\n",
        "    generated += next_char\n",
        "    segment = segment[1:] + next_char\n",
        "\n",
        "    sys.stdout.write(next_char)\n",
        "    sys.stdout.flush()\n",
        "\n",
        "# creates test sequences for trained model prediction\n",
        "def create_test_sequences(path):\n",
        "  df = pd.read_csv(path)\n",
        "  corp = ' '.join([x for x in df['text']])\n",
        "  corp = ' '.join(re.sub('[^a-z]+', ' ', corp.lower()).split())\n",
        "  print('Test Corpus Length: ' + str(len(corp)) + ' characters.')\n",
        "\n",
        "  char_i = dict((c, i) for i, c in enumerate(chars))\n",
        "  i_char = dict((i, c) for i, c in enumerate(chars))\n",
        "\n",
        "  maxlen = 20\n",
        "  step = 1\n",
        "  seqs = []\n",
        "\n",
        "  for i in range(0, len(corp) - maxlen, step):\n",
        "    seqs.append(corp[i: i + maxlen]) # training data\n",
        "\n",
        "  print('Total Sequences Generated: ' + str(len(seqs)) + '.')\n",
        "\n",
        "  test_seqs = np.zeros((len(seqs), maxlen, len(chars)), dtype = np.bool)\n",
        "\n",
        "  for i, seq in enumerate(seqs):\n",
        "    for t, char in enumerate(seq):\n",
        "      test_seqs[i, t, char_i[char]] = 1\n",
        "\n",
        "  print('Test Sequence Array Shape:', test_seqs.shape)\n",
        "  print('Returning test sequence array.')\n",
        "  return test_seqs\n",
        "\n",
        "# generates predictions & saves Kaggle submission in correct format\n",
        "def make_predictions(model_path, submission_path, test_seqs):\n",
        "\n",
        "  print('\\nLoading model from provided path...\\n')\n",
        "\n",
        "  model = load_model(model_path)\n",
        "\n",
        "  print('\\nGenerating & Formatting Predictions...\\n')\n",
        "\n",
        "  # make predictions on test sequences\n",
        "  predictions = model.predict(test_seqs, verbose = 1)\n",
        "  # converts predicted values into original characters\n",
        "  predictions_final = []\n",
        "  for i in range((predictions.shape)[0]):\n",
        "    predictions_final.append(i_char[sample(predictions[i])])\n",
        "\n",
        "  print('\\nGenerating Submission...\\n')\n",
        "\n",
        "  for i in range(len(predictions_final)):\n",
        "      if predictions_final[i] == ' ':\n",
        "          predictions_final[i] = '<s>'\n",
        "  l = np.asarray(predictions_final, dtype = 'object').reshape(len(predictions_final),1)\n",
        "  n = np.arange(len(predictions_final), dtype = 'object').reshape(len(predictions_final), 1)\n",
        "  stack = np.hstack((n,l))\n",
        "  p_stack = pd.DataFrame(stack)\n",
        "  \n",
        "  print(\"\\nSaving in provided path as 'submission.csv'...\\n\")\n",
        "\n",
        "  p_stack.to_csv(submission_path + 'submission.csv', index = False, header = ['Id', 'Category'])\n",
        "\n",
        "  print('\\nDone!\\n')"
      ],
      "execution_count": 17,
      "outputs": []
    },
    {
      "cell_type": "markdown",
      "metadata": {
        "id": "7PM8zjQxu-pO"
      },
      "source": [
        "### Load Data & Preprocess\n",
        "\n",
        "Student Requirements:\n",
        "* Change path to your training data (if using Colab, all paths start with '/content/drive/')\n",
        "* Run the code blocks below to get a feel for what has already been done. Informative print() statements have been provided.\n",
        "\n",
        "Things to consider:\n",
        "* The text from each tweet is extracted, converted to lowercase, and filtered for alphabetic characters only (plus ' '). These steps are required to constrain the problem across the class and format submissions correctly.\n",
        "* Beyond the above, consider what other preprocessing steps might help. You could tokenize by word and remove very rare and/or very common yet ambiguous words. You could also remove certain tweets (for example, flagged tweets, or tweets containing urls). Feel free to experiment."
      ]
    },
    {
      "cell_type": "code",
      "metadata": {
        "id": "VZSqKZYyvBbd",
        "colab": {
          "base_uri": "https://localhost:8080/",
          "height": 224
        },
        "outputId": "b72145a1-3c7a-4f53-d233-9c0cd5fbaabe"
      },
      "source": [
        "# read tweet csv\n",
        "#df = pd.read_csv('[PATH TO TRAINING DATA]')\n",
        "df = pd.read_csv('/content/drive/My Drive/tweets_train.csv')\n",
        "print(df.shape)\n",
        "df.head()\n"
      ],
      "execution_count": 18,
      "outputs": [
        {
          "output_type": "stream",
          "name": "stdout",
          "text": [
            "(40000, 9)\n"
          ]
        },
        {
          "output_type": "execute_result",
          "data": {
            "text/plain": [
              "                    id                                               text  \\\n",
              "0  1158691113047416800  “Did George Bush ever condemn President Obama ...   \n",
              "1   595806866543874000  \"\"@cjwthefishermen: @realDonaldTrump \"\"I will....   \n",
              "2  1302100674562457600                   So true! https://t.co/0f8hl4vhCS   \n",
              "3   539964811959095300  \"\"@stewy1510: @realDonaldTrump @thefulldish U ...   \n",
              "4   580374395023163400  \"\"@MauiJano You have my presidential vote! We ...   \n",
              "\n",
              "  isRetweet isDeleted               device  favorites  retweets  \\\n",
              "0         f         f   Twitter for iPhone     105965     30339   \n",
              "1         f         f  Twitter for Android         20        12   \n",
              "2         f         f   Twitter for iPhone      52188     13908   \n",
              "3         f         f  Twitter for Android         27        13   \n",
              "4         f         f   Twitter Web Client         35        17   \n",
              "\n",
              "                  date isFlagged  \n",
              "0  2019-08-06 10:47:43         f  \n",
              "1  2015-05-06 04:26:41         f  \n",
              "2  2020-09-05 04:26:07         f  \n",
              "3  2014-12-03 02:10:17         f  \n",
              "4  2015-03-24 14:23:33         f  "
            ],
            "text/html": [
              "\n",
              "  <div id=\"df-e33323e9-5388-4046-9fb4-116d9330d095\">\n",
              "    <div class=\"colab-df-container\">\n",
              "      <div>\n",
              "<style scoped>\n",
              "    .dataframe tbody tr th:only-of-type {\n",
              "        vertical-align: middle;\n",
              "    }\n",
              "\n",
              "    .dataframe tbody tr th {\n",
              "        vertical-align: top;\n",
              "    }\n",
              "\n",
              "    .dataframe thead th {\n",
              "        text-align: right;\n",
              "    }\n",
              "</style>\n",
              "<table border=\"1\" class=\"dataframe\">\n",
              "  <thead>\n",
              "    <tr style=\"text-align: right;\">\n",
              "      <th></th>\n",
              "      <th>id</th>\n",
              "      <th>text</th>\n",
              "      <th>isRetweet</th>\n",
              "      <th>isDeleted</th>\n",
              "      <th>device</th>\n",
              "      <th>favorites</th>\n",
              "      <th>retweets</th>\n",
              "      <th>date</th>\n",
              "      <th>isFlagged</th>\n",
              "    </tr>\n",
              "  </thead>\n",
              "  <tbody>\n",
              "    <tr>\n",
              "      <th>0</th>\n",
              "      <td>1158691113047416800</td>\n",
              "      <td>“Did George Bush ever condemn President Obama ...</td>\n",
              "      <td>f</td>\n",
              "      <td>f</td>\n",
              "      <td>Twitter for iPhone</td>\n",
              "      <td>105965</td>\n",
              "      <td>30339</td>\n",
              "      <td>2019-08-06 10:47:43</td>\n",
              "      <td>f</td>\n",
              "    </tr>\n",
              "    <tr>\n",
              "      <th>1</th>\n",
              "      <td>595806866543874000</td>\n",
              "      <td>\"\"@cjwthefishermen: @realDonaldTrump \"\"I will....</td>\n",
              "      <td>f</td>\n",
              "      <td>f</td>\n",
              "      <td>Twitter for Android</td>\n",
              "      <td>20</td>\n",
              "      <td>12</td>\n",
              "      <td>2015-05-06 04:26:41</td>\n",
              "      <td>f</td>\n",
              "    </tr>\n",
              "    <tr>\n",
              "      <th>2</th>\n",
              "      <td>1302100674562457600</td>\n",
              "      <td>So true! https://t.co/0f8hl4vhCS</td>\n",
              "      <td>f</td>\n",
              "      <td>f</td>\n",
              "      <td>Twitter for iPhone</td>\n",
              "      <td>52188</td>\n",
              "      <td>13908</td>\n",
              "      <td>2020-09-05 04:26:07</td>\n",
              "      <td>f</td>\n",
              "    </tr>\n",
              "    <tr>\n",
              "      <th>3</th>\n",
              "      <td>539964811959095300</td>\n",
              "      <td>\"\"@stewy1510: @realDonaldTrump @thefulldish U ...</td>\n",
              "      <td>f</td>\n",
              "      <td>f</td>\n",
              "      <td>Twitter for Android</td>\n",
              "      <td>27</td>\n",
              "      <td>13</td>\n",
              "      <td>2014-12-03 02:10:17</td>\n",
              "      <td>f</td>\n",
              "    </tr>\n",
              "    <tr>\n",
              "      <th>4</th>\n",
              "      <td>580374395023163400</td>\n",
              "      <td>\"\"@MauiJano You have my presidential vote! We ...</td>\n",
              "      <td>f</td>\n",
              "      <td>f</td>\n",
              "      <td>Twitter Web Client</td>\n",
              "      <td>35</td>\n",
              "      <td>17</td>\n",
              "      <td>2015-03-24 14:23:33</td>\n",
              "      <td>f</td>\n",
              "    </tr>\n",
              "  </tbody>\n",
              "</table>\n",
              "</div>\n",
              "      <button class=\"colab-df-convert\" onclick=\"convertToInteractive('df-e33323e9-5388-4046-9fb4-116d9330d095')\"\n",
              "              title=\"Convert this dataframe to an interactive table.\"\n",
              "              style=\"display:none;\">\n",
              "        \n",
              "  <svg xmlns=\"http://www.w3.org/2000/svg\" height=\"24px\"viewBox=\"0 0 24 24\"\n",
              "       width=\"24px\">\n",
              "    <path d=\"M0 0h24v24H0V0z\" fill=\"none\"/>\n",
              "    <path d=\"M18.56 5.44l.94 2.06.94-2.06 2.06-.94-2.06-.94-.94-2.06-.94 2.06-2.06.94zm-11 1L8.5 8.5l.94-2.06 2.06-.94-2.06-.94L8.5 2.5l-.94 2.06-2.06.94zm10 10l.94 2.06.94-2.06 2.06-.94-2.06-.94-.94-2.06-.94 2.06-2.06.94z\"/><path d=\"M17.41 7.96l-1.37-1.37c-.4-.4-.92-.59-1.43-.59-.52 0-1.04.2-1.43.59L10.3 9.45l-7.72 7.72c-.78.78-.78 2.05 0 2.83L4 21.41c.39.39.9.59 1.41.59.51 0 1.02-.2 1.41-.59l7.78-7.78 2.81-2.81c.8-.78.8-2.07 0-2.86zM5.41 20L4 18.59l7.72-7.72 1.47 1.35L5.41 20z\"/>\n",
              "  </svg>\n",
              "      </button>\n",
              "      \n",
              "  <style>\n",
              "    .colab-df-container {\n",
              "      display:flex;\n",
              "      flex-wrap:wrap;\n",
              "      gap: 12px;\n",
              "    }\n",
              "\n",
              "    .colab-df-convert {\n",
              "      background-color: #E8F0FE;\n",
              "      border: none;\n",
              "      border-radius: 50%;\n",
              "      cursor: pointer;\n",
              "      display: none;\n",
              "      fill: #1967D2;\n",
              "      height: 32px;\n",
              "      padding: 0 0 0 0;\n",
              "      width: 32px;\n",
              "    }\n",
              "\n",
              "    .colab-df-convert:hover {\n",
              "      background-color: #E2EBFA;\n",
              "      box-shadow: 0px 1px 2px rgba(60, 64, 67, 0.3), 0px 1px 3px 1px rgba(60, 64, 67, 0.15);\n",
              "      fill: #174EA6;\n",
              "    }\n",
              "\n",
              "    [theme=dark] .colab-df-convert {\n",
              "      background-color: #3B4455;\n",
              "      fill: #D2E3FC;\n",
              "    }\n",
              "\n",
              "    [theme=dark] .colab-df-convert:hover {\n",
              "      background-color: #434B5C;\n",
              "      box-shadow: 0px 1px 3px 1px rgba(0, 0, 0, 0.15);\n",
              "      filter: drop-shadow(0px 1px 2px rgba(0, 0, 0, 0.3));\n",
              "      fill: #FFFFFF;\n",
              "    }\n",
              "  </style>\n",
              "\n",
              "      <script>\n",
              "        const buttonEl =\n",
              "          document.querySelector('#df-e33323e9-5388-4046-9fb4-116d9330d095 button.colab-df-convert');\n",
              "        buttonEl.style.display =\n",
              "          google.colab.kernel.accessAllowed ? 'block' : 'none';\n",
              "\n",
              "        async function convertToInteractive(key) {\n",
              "          const element = document.querySelector('#df-e33323e9-5388-4046-9fb4-116d9330d095');\n",
              "          const dataTable =\n",
              "            await google.colab.kernel.invokeFunction('convertToInteractive',\n",
              "                                                     [key], {});\n",
              "          if (!dataTable) return;\n",
              "\n",
              "          const docLinkHtml = 'Like what you see? Visit the ' +\n",
              "            '<a target=\"_blank\" href=https://colab.research.google.com/notebooks/data_table.ipynb>data table notebook</a>'\n",
              "            + ' to learn more about interactive tables.';\n",
              "          element.innerHTML = '';\n",
              "          dataTable['output_type'] = 'display_data';\n",
              "          await google.colab.output.renderOutput(dataTable, element);\n",
              "          const docLink = document.createElement('div');\n",
              "          docLink.innerHTML = docLinkHtml;\n",
              "          element.appendChild(docLink);\n",
              "        }\n",
              "      </script>\n",
              "    </div>\n",
              "  </div>\n",
              "  "
            ]
          },
          "metadata": {},
          "execution_count": 18
        }
      ]
    },
    {
      "cell_type": "code",
      "metadata": {
        "id": "RmaFOMRNvNKd",
        "colab": {
          "base_uri": "https://localhost:8080/"
        },
        "outputId": "56cf9c4f-b803-4a2e-d1fc-d07c2f47381c"
      },
      "source": [
        "# extract tweets & build corpus\n",
        "corp = ' '.join([x for x in df['text']])\n",
        "print('BEFORE: ' + corp[:100])\n",
        "\n",
        "# make lowercase, remove non-alphabetic characters\n",
        "corp = ' '.join(re.sub('[^a-z]+', ' ', corp.lower()).split())\n",
        "print('AFTER: ' + corp[:100])"
      ],
      "execution_count": 19,
      "outputs": [
        {
          "output_type": "stream",
          "name": "stdout",
          "text": [
            "BEFORE: “Did George Bush ever condemn President Obama after Sandy Hook. President Obama had 32 mass shooting\n",
            "AFTER: did george bush ever condemn president obama after sandy hook president obama had mass shootings dur\n"
          ]
        }
      ]
    },
    {
      "cell_type": "code",
      "metadata": {
        "id": "BNes-oWW4JDj",
        "colab": {
          "base_uri": "https://localhost:8080/"
        },
        "outputId": "d5e76642-e7a7-46ad-95ad-358b6224c6d4"
      },
      "source": [
        "# get all unique characters\n",
        "print('Corpus Length: ' + str(len(corp)) + ' characters.')\n",
        "chars = sorted(list(set(corp)))\n",
        "print('Total Unique Characters: ' + str(len(chars)))"
      ],
      "execution_count": 20,
      "outputs": [
        {
          "output_type": "stream",
          "name": "stdout",
          "text": [
            "Corpus Length: 4811350 characters.\n",
            "Total Unique Characters: 27\n"
          ]
        }
      ]
    },
    {
      "cell_type": "code",
      "metadata": {
        "id": "8JAMizpU7ye1"
      },
      "source": [
        "# create dictionaries that map from char to int / int to char (used to swap between character & one-hot encodings later)\n",
        "char_i = dict((c, i) for i, c in enumerate(chars))\n",
        "i_char = dict((i, c) for i, c in enumerate(chars))"
      ],
      "execution_count": 21,
      "outputs": []
    },
    {
      "cell_type": "code",
      "metadata": {
        "id": "VT67-k-n77ak",
        "colab": {
          "base_uri": "https://localhost:8080/"
        },
        "outputId": "52dd81a2-2747-4b37-962c-c4254f5422ec"
      },
      "source": [
        "# split corpus into sequences\n",
        "maxlen = 20 # determines the length of character sequences used for training\n",
        "step = 100 # how many characters to skip between each extracted sequence (to sub-sample the full corpus)\n",
        "seqs = []\n",
        "next_chars = []\n",
        "\n",
        "for i in range(0, len(corp) - maxlen, step):\n",
        "  seqs.append(corp[i: i + maxlen]) # training data\n",
        "  next_chars.append(corp[i + maxlen]) # target values\n",
        "\n",
        "print('Total Sequences Generated: ' + str(len(seqs)) + '.')"
      ],
      "execution_count": 22,
      "outputs": [
        {
          "output_type": "stream",
          "name": "stdout",
          "text": [
            "Total Sequences Generated: 48114.\n"
          ]
        }
      ]
    },
    {
      "cell_type": "code",
      "source": [
        "#print(seqs[1])\n",
        "#print(next_chars[1])"
      ],
      "metadata": {
        "id": "PwJRpUgMC2lx"
      },
      "execution_count": null,
      "outputs": []
    },
    {
      "cell_type": "code",
      "metadata": {
        "id": "RMzd91Tm8NTv",
        "colab": {
          "base_uri": "https://localhost:8080/"
        },
        "outputId": "f5c6545b-4026-4966-db93-4de58a1c4fb6"
      },
      "source": [
        "# One-Hot Encoding\n",
        "x_train = np.zeros((len(seqs), maxlen, len(chars)), dtype = np.bool)\n",
        "y_train = np.zeros((len(seqs), len(chars)), dtype = np.bool)\n",
        "for i, seq in enumerate(seqs):\n",
        "  for t, char in enumerate(seq):\n",
        "    x_train[i, t, char_i[char]] = 1\n",
        "  y_train[i, char_i[next_chars[i]]] = 1\n",
        "\n",
        "print(x_train.shape, y_train.shape)\n",
        "#print(x_train[1])\n",
        "print(len(x_train[0]))"
      ],
      "execution_count": 23,
      "outputs": [
        {
          "output_type": "stream",
          "name": "stdout",
          "text": [
            "(48114, 20, 27) (48114, 27)\n",
            "20\n"
          ]
        }
      ]
    },
    {
      "cell_type": "markdown",
      "metadata": {
        "id": "8VwTjt3wyi8O"
      },
      "source": [
        "### Define & Train Model\n",
        "Student Requirements:\n",
        "* Define and compile a sequential RECURRENT neural network model.\n",
        "* Note the provided callbacks - ModelCheckpoint will save your best model to the path of your choice. LambdaCallback will generate some text between each epoch so you can observe your model's generative power improve over training epochs.\n",
        "* Update the path to save your model.\n",
        "* Fit the model to your training data.\n",
        "\n",
        "Things to Consider:\n",
        "* Consider all available hyperparameters (height, width, activation functions, optimizer, loss function, learning rate, epochs, batch size, regularization methods, STEP SIZE, etc.)\n",
        "* You should start with a baseline and continue to iterate. Keep track of evaluation results so you know if you are headed in a positive direction.\n",
        "* Consider bias and variance...is your network overfitting? What can you do about that?"
      ]
    },
    {
      "cell_type": "code",
      "metadata": {
        "id": "ay_IRvaC8m-w",
        "colab": {
          "base_uri": "https://localhost:8080/"
        },
        "outputId": "404bae09-8fe8-45e3-d4c5-57bf8b6b97aa"
      },
      "source": [
        "\n",
        "model = Sequential()\n",
        "from keras import layers\n",
        "from keras.layers import LSTM\n",
        "import sys\n",
        "from keras.layers import Dropout\n",
        "# DEFINE YOUR MODEL HERE\n",
        "#model = Sequential()\n",
        "# I used:\n",
        "#https://machinelearningmastery.com/text-generation-lstm-recurrent-neural-networks-python-keras/\n",
        "# In order to understand the syntax for implementing an LSTM layer. Specifically, the source code had:\n",
        "# model.add(LSTM(256, input_shape=(X.shape[1], X.shape[2]))). Which I added to my own code, but changed the number of neurons.\n",
        "\n",
        "model = Sequential()\n",
        "                      #good                                      #Good\n",
        "#model.add(Embedding(input_dim = 27, output_dim = 128, input_shape = (20, 27))) # take 20 characters at a time and convert to tokens 128 \n",
        "model.add(LSTM(128, return_sequences = True, input_shape = (x_train.shape[1], x_train.shape[2])))\n",
        "model.add(LSTM(128))\n",
        "\n",
        "model.add(Dense(128)) # new\n",
        "model.add(Dropout(0.2))\n",
        "model.add(Dense(27, activation = 'softmax'))\n",
        "model.summary()\n",
        "# callback list\n",
        "A = LambdaCallback(on_epoch_end=on_epoch_end)\n",
        "B = ModelCheckpoint(filepath = '/content/drive/My Drive/', save_best_only = True, verbose = 1)\n",
        "\n",
        "C = EarlyStopping(monitor = 'val_acc', \n",
        "                           min_delta = .001, # after each epoch we want to see the val accuracy imporve by 0.001\n",
        "                           patience = 20, # if min_delta not seen after 10 epochs, stop training\n",
        "                           verbose = 1,\n",
        "                           restore_best_weights = True) # restore weights of peak val accuracy of that epoch\n",
        "cb_list = [A, B, C]\n",
        "\n",
        "#compile\n",
        "model.compile(optimizer = 'adam', loss = 'categorical_crossentropy', metrics = ['acc'])\n",
        "\n",
        "# train model\n",
        "\n",
        "history = model.fit(x = x_train,\n",
        "                    y = y_train,\n",
        "                    epochs = 1000,\n",
        "                    steps_per_epoch = 20,\n",
        "                    batch_size = 128,\n",
        "\n",
        "                    validation_split = .2,\n",
        "                    verbose = 1,\n",
        "                    callbacks = cb_list)"
      ],
      "execution_count": null,
      "outputs": [
        {
          "output_type": "stream",
          "name": "stdout",
          "text": [
            "Model: \"sequential_1\"\n",
            "_________________________________________________________________\n",
            " Layer (type)                Output Shape              Param #   \n",
            "=================================================================\n",
            " lstm (LSTM)                 (None, 20, 128)           79872     \n",
            "                                                                 \n",
            " lstm_1 (LSTM)               (None, 128)               131584    \n",
            "                                                                 \n",
            " dense (Dense)               (None, 128)               16512     \n",
            "                                                                 \n",
            " dropout (Dropout)           (None, 128)               0         \n",
            "                                                                 \n",
            " dense_1 (Dense)             (None, 27)                3483      \n",
            "                                                                 \n",
            "=================================================================\n",
            "Total params: 231,451\n",
            "Trainable params: 231,451\n",
            "Non-trainable params: 0\n",
            "_________________________________________________________________\n",
            "Epoch 1/1000\n",
            "19/20 [===========================>..] - ETA: 0s - loss: 3.0771 - acc: 0.1456\n",
            "----- Generating text after Epoch: 0\n",
            "----- Generating with seed: \"cks miranda diplo re\"\n",
            "cks miranda diplo renog lmtftrctfot arp smcrt sewtara l hatmlkrts dgit rpeiomplhbtev sf   sveeeooeotsornou nrbptufqesbmnu  r srkixhto  threfohjhtrtgehoutves  se\n",
            "Epoch 1: val_loss improved from inf to 2.92265, saving model to /content/drive/My Drive/\n"
          ]
        },
        {
          "output_type": "stream",
          "name": "stderr",
          "text": [
            "WARNING:absl:Found untraced functions such as lstm_cell_layer_call_fn, lstm_cell_layer_call_and_return_conditional_losses, lstm_cell_1_layer_call_fn, lstm_cell_1_layer_call_and_return_conditional_losses while saving (showing 4 of 4). These functions will not be directly callable after loading.\n"
          ]
        },
        {
          "output_type": "stream",
          "name": "stdout",
          "text": [
            "INFO:tensorflow:Assets written to: /content/drive/My Drive/assets\n"
          ]
        },
        {
          "output_type": "stream",
          "name": "stderr",
          "text": [
            "INFO:tensorflow:Assets written to: /content/drive/My Drive/assets\n",
            "WARNING:absl:<keras.layers.recurrent.LSTMCell object at 0x7fb3ffecbd50> has the same name 'LSTMCell' as a built-in Keras object. Consider renaming <class 'keras.layers.recurrent.LSTMCell'> to avoid naming conflicts when loading with `tf.keras.models.load_model`. If renaming is not possible, pass the object in the `custom_objects` parameter of the load function.\n",
            "WARNING:absl:<keras.layers.recurrent.LSTMCell object at 0x7fb38749db10> has the same name 'LSTMCell' as a built-in Keras object. Consider renaming <class 'keras.layers.recurrent.LSTMCell'> to avoid naming conflicts when loading with `tf.keras.models.load_model`. If renaming is not possible, pass the object in the `custom_objects` parameter of the load function.\n"
          ]
        },
        {
          "output_type": "stream",
          "name": "stdout",
          "text": [
            "\b\b\b\b\b\b\b\b\b\b\b\b\b\b\b\b\b\b\b\b\b\b\b\b\b\b\b\b\b\b\b\b\b\b\b\b\b\b\b\b\b\b\b\b\b\b\b\b\b\b\b\b\b\b\b\b\b\b\b\b\b\b\b\b\b\b\b\b\b\b\b\b\b\b\b\b\b\r20/20 [==============================] - 30s 1s/step - loss: 3.0723 - acc: 0.1449 - val_loss: 2.9226 - val_acc: 0.1797\n",
            "Epoch 2/1000\n",
            "19/20 [===========================>..] - ETA: 0s - loss: 2.9346 - acc: 0.1850\n",
            "----- Generating text after Epoch: 1\n",
            "----- Generating with seed: \"here are many of the\"\n",
            "here are many of thedgo  rl k nci voedpshw chsowldoabfllmi hn woopn  tyoem  feyhooet  tea eosslgbpdrsaesgwwaenootut wahuc tn yyneqttyyoe  pa asoaulph odcltowgdi\n",
            "Epoch 2: val_loss improved from 2.92265 to 2.90170, saving model to /content/drive/My Drive/\n"
          ]
        },
        {
          "output_type": "stream",
          "name": "stderr",
          "text": [
            "WARNING:absl:Found untraced functions such as lstm_cell_layer_call_fn, lstm_cell_layer_call_and_return_conditional_losses, lstm_cell_1_layer_call_fn, lstm_cell_1_layer_call_and_return_conditional_losses while saving (showing 4 of 4). These functions will not be directly callable after loading.\n"
          ]
        },
        {
          "output_type": "stream",
          "name": "stdout",
          "text": [
            "INFO:tensorflow:Assets written to: /content/drive/My Drive/assets\n"
          ]
        },
        {
          "output_type": "stream",
          "name": "stderr",
          "text": [
            "INFO:tensorflow:Assets written to: /content/drive/My Drive/assets\n",
            "WARNING:absl:<keras.layers.recurrent.LSTMCell object at 0x7fb3ffecbd50> has the same name 'LSTMCell' as a built-in Keras object. Consider renaming <class 'keras.layers.recurrent.LSTMCell'> to avoid naming conflicts when loading with `tf.keras.models.load_model`. If renaming is not possible, pass the object in the `custom_objects` parameter of the load function.\n",
            "WARNING:absl:<keras.layers.recurrent.LSTMCell object at 0x7fb38749db10> has the same name 'LSTMCell' as a built-in Keras object. Consider renaming <class 'keras.layers.recurrent.LSTMCell'> to avoid naming conflicts when loading with `tf.keras.models.load_model`. If renaming is not possible, pass the object in the `custom_objects` parameter of the load function.\n"
          ]
        },
        {
          "output_type": "stream",
          "name": "stdout",
          "text": [
            "\b\b\b\b\b\b\b\b\b\b\b\b\b\b\b\b\b\b\b\b\b\b\b\b\b\b\b\b\b\b\b\b\b\b\b\b\b\b\b\b\b\b\b\b\b\b\b\b\b\b\b\b\b\b\b\b\b\b\b\b\b\b\b\b\b\b\b\b\b\b\b\b\b\b\b\b\b\r20/20 [==============================] - 30s 2s/step - loss: 2.9343 - acc: 0.1840 - val_loss: 2.9017 - val_acc: 0.1797\n",
            "Epoch 3/1000\n",
            "19/20 [===========================>..] - ETA: 0s - loss: 2.9129 - acc: 0.1653\n",
            "----- Generating text after Epoch: 2\n",
            "----- Generating with seed: \" increase in history\"\n",
            " increase in historypyhebti hcuem tibuemgfursneil rblmqm edr dfi gggetne qfehjfovq  rmth ahu edsjhh selt hsasiosereacheatbgtreinaipridt o teatipeeorzhlpni thtsr\n",
            "Epoch 3: val_loss did not improve from 2.90170\n",
            "20/20 [==============================] - 10s 516ms/step - loss: 2.9204 - acc: 0.1633 - val_loss: 2.9035 - val_acc: 0.1797\n",
            "Epoch 4/1000\n",
            "19/20 [===========================>..] - ETA: 0s - loss: 2.9495 - acc: 0.1674\n",
            "----- Generating text after Epoch: 3\n",
            "----- Generating with seed: \"cial session so easy\"\n",
            "cial session so easyemcgis lttmbelenidba wekwtaiete aados oetfwrfoalbkaeczactci ota enrvoaaowih  rlonlnucaapnaelttt inmeinftrxxfim neslctd cj nmnve   cgbwttbmrm\n",
            "Epoch 4: val_loss improved from 2.90170 to 2.90102, saving model to /content/drive/My Drive/\n"
          ]
        },
        {
          "output_type": "stream",
          "name": "stderr",
          "text": [
            "WARNING:absl:Found untraced functions such as lstm_cell_layer_call_fn, lstm_cell_layer_call_and_return_conditional_losses, lstm_cell_1_layer_call_fn, lstm_cell_1_layer_call_and_return_conditional_losses while saving (showing 4 of 4). These functions will not be directly callable after loading.\n"
          ]
        },
        {
          "output_type": "stream",
          "name": "stdout",
          "text": [
            "INFO:tensorflow:Assets written to: /content/drive/My Drive/assets\n"
          ]
        },
        {
          "output_type": "stream",
          "name": "stderr",
          "text": [
            "INFO:tensorflow:Assets written to: /content/drive/My Drive/assets\n",
            "WARNING:absl:<keras.layers.recurrent.LSTMCell object at 0x7fb3ffecbd50> has the same name 'LSTMCell' as a built-in Keras object. Consider renaming <class 'keras.layers.recurrent.LSTMCell'> to avoid naming conflicts when loading with `tf.keras.models.load_model`. If renaming is not possible, pass the object in the `custom_objects` parameter of the load function.\n",
            "WARNING:absl:<keras.layers.recurrent.LSTMCell object at 0x7fb38749db10> has the same name 'LSTMCell' as a built-in Keras object. Consider renaming <class 'keras.layers.recurrent.LSTMCell'> to avoid naming conflicts when loading with `tf.keras.models.load_model`. If renaming is not possible, pass the object in the `custom_objects` parameter of the load function.\n"
          ]
        },
        {
          "output_type": "stream",
          "name": "stdout",
          "text": [
            "\b\b\b\b\b\b\b\b\b\b\b\b\b\b\b\b\b\b\b\b\b\b\b\b\b\b\b\b\b\b\b\b\b\b\b\b\b\b\b\b\b\b\b\b\b\b\b\b\b\b\b\b\b\b\b\b\b\b\b\b\b\b\b\b\b\b\b\b\b\b\b\b\b\b\b\b\b\r20/20 [==============================] - 21s 1s/step - loss: 2.9482 - acc: 0.1664 - val_loss: 2.9010 - val_acc: 0.1797\n",
            "Epoch 5/1000\n",
            "19/20 [===========================>..] - ETA: 0s - loss: 2.9029 - acc: 0.1772\n",
            "----- Generating text after Epoch: 4\n",
            "----- Generating with seed: \"ys looked up to real\"\n",
            "ys looked up to real prkehecabuu eei v  rlc ytp tehah dohoah a bqcok zdcandhnoeeon  stioracnhatheebgcup wiwlan tdin r our qr ewcheh m eca uspomdacl rounetb ter \n",
            "Epoch 5: val_loss improved from 2.90102 to 2.88636, saving model to /content/drive/My Drive/\n"
          ]
        },
        {
          "output_type": "stream",
          "name": "stderr",
          "text": [
            "WARNING:absl:Found untraced functions such as lstm_cell_layer_call_fn, lstm_cell_layer_call_and_return_conditional_losses, lstm_cell_1_layer_call_fn, lstm_cell_1_layer_call_and_return_conditional_losses while saving (showing 4 of 4). These functions will not be directly callable after loading.\n"
          ]
        },
        {
          "output_type": "stream",
          "name": "stdout",
          "text": [
            "INFO:tensorflow:Assets written to: /content/drive/My Drive/assets\n"
          ]
        },
        {
          "output_type": "stream",
          "name": "stderr",
          "text": [
            "INFO:tensorflow:Assets written to: /content/drive/My Drive/assets\n",
            "WARNING:absl:<keras.layers.recurrent.LSTMCell object at 0x7fb3ffecbd50> has the same name 'LSTMCell' as a built-in Keras object. Consider renaming <class 'keras.layers.recurrent.LSTMCell'> to avoid naming conflicts when loading with `tf.keras.models.load_model`. If renaming is not possible, pass the object in the `custom_objects` parameter of the load function.\n",
            "WARNING:absl:<keras.layers.recurrent.LSTMCell object at 0x7fb38749db10> has the same name 'LSTMCell' as a built-in Keras object. Consider renaming <class 'keras.layers.recurrent.LSTMCell'> to avoid naming conflicts when loading with `tf.keras.models.load_model`. If renaming is not possible, pass the object in the `custom_objects` parameter of the load function.\n"
          ]
        },
        {
          "output_type": "stream",
          "name": "stdout",
          "text": [
            "\b\b\b\b\b\b\b\b\b\b\b\b\b\b\b\b\b\b\b\b\b\b\b\b\b\b\b\b\b\b\b\b\b\b\b\b\b\b\b\b\b\b\b\b\b\b\b\b\b\b\b\b\b\b\b\b\b\b\b\b\b\b\b\b\b\b\b\b\b\b\b\b\b\b\b\b\b\r20/20 [==============================] - 21s 1s/step - loss: 2.9018 - acc: 0.1777 - val_loss: 2.8864 - val_acc: 0.1797\n",
            "Epoch 6/1000\n",
            "19/20 [===========================>..] - ETA: 0s - loss: 2.8931 - acc: 0.1768\n",
            "----- Generating text after Epoch: 5\n",
            "----- Generating with seed: \"r watch kevinb reald\"\n",
            "r watch kevinb realdthtd oemite n ls hlygln rrrn apthum pme  ornt d r aiuhot grtvswn aaeskn   enenemp ulfiieepinji rsaeviscwm ie vzev ehorvn wolhs vhetew cinwpo\n",
            "Epoch 6: val_loss improved from 2.88636 to 2.88598, saving model to /content/drive/My Drive/\n"
          ]
        },
        {
          "output_type": "stream",
          "name": "stderr",
          "text": [
            "WARNING:absl:Found untraced functions such as lstm_cell_layer_call_fn, lstm_cell_layer_call_and_return_conditional_losses, lstm_cell_1_layer_call_fn, lstm_cell_1_layer_call_and_return_conditional_losses while saving (showing 4 of 4). These functions will not be directly callable after loading.\n"
          ]
        },
        {
          "output_type": "stream",
          "name": "stdout",
          "text": [
            "INFO:tensorflow:Assets written to: /content/drive/My Drive/assets\n"
          ]
        },
        {
          "output_type": "stream",
          "name": "stderr",
          "text": [
            "INFO:tensorflow:Assets written to: /content/drive/My Drive/assets\n",
            "WARNING:absl:<keras.layers.recurrent.LSTMCell object at 0x7fb3ffecbd50> has the same name 'LSTMCell' as a built-in Keras object. Consider renaming <class 'keras.layers.recurrent.LSTMCell'> to avoid naming conflicts when loading with `tf.keras.models.load_model`. If renaming is not possible, pass the object in the `custom_objects` parameter of the load function.\n",
            "WARNING:absl:<keras.layers.recurrent.LSTMCell object at 0x7fb38749db10> has the same name 'LSTMCell' as a built-in Keras object. Consider renaming <class 'keras.layers.recurrent.LSTMCell'> to avoid naming conflicts when loading with `tf.keras.models.load_model`. If renaming is not possible, pass the object in the `custom_objects` parameter of the load function.\n"
          ]
        },
        {
          "output_type": "stream",
          "name": "stdout",
          "text": [
            "\b\b\b\b\b\b\b\b\b\b\b\b\b\b\b\b\b\b\b\b\b\b\b\b\b\b\b\b\b\b\b\b\b\b\b\b\b\b\b\b\b\b\b\b\b\b\b\b\b\b\b\b\b\b\b\b\b\b\b\b\b\b\b\b\b\b\b\b\b\b\b\b\b\b\b\b\b\r20/20 [==============================] - 20s 1s/step - loss: 2.8938 - acc: 0.1766 - val_loss: 2.8860 - val_acc: 0.1797\n",
            "Epoch 7/1000\n",
            "19/20 [===========================>..] - ETA: 0s - loss: 2.8867 - acc: 0.1850\n",
            "----- Generating text after Epoch: 6\n",
            "----- Generating with seed: \"ancy pelosi s war po\"\n",
            "ancy pelosi s war posaoyien n   m lmjbaawtogtdnntoreefo qhbtewsanent hu or rtvwwyaa nmwapr s estiwhntltfa  sag bma guop itomh   fapadenbt sobtoaotapa nvesta noo\n",
            "Epoch 7: val_loss improved from 2.88598 to 2.87739, saving model to /content/drive/My Drive/\n"
          ]
        },
        {
          "output_type": "stream",
          "name": "stderr",
          "text": [
            "WARNING:absl:Found untraced functions such as lstm_cell_layer_call_fn, lstm_cell_layer_call_and_return_conditional_losses, lstm_cell_1_layer_call_fn, lstm_cell_1_layer_call_and_return_conditional_losses while saving (showing 4 of 4). These functions will not be directly callable after loading.\n"
          ]
        },
        {
          "output_type": "stream",
          "name": "stdout",
          "text": [
            "INFO:tensorflow:Assets written to: /content/drive/My Drive/assets\n"
          ]
        },
        {
          "output_type": "stream",
          "name": "stderr",
          "text": [
            "INFO:tensorflow:Assets written to: /content/drive/My Drive/assets\n",
            "WARNING:absl:<keras.layers.recurrent.LSTMCell object at 0x7fb3ffecbd50> has the same name 'LSTMCell' as a built-in Keras object. Consider renaming <class 'keras.layers.recurrent.LSTMCell'> to avoid naming conflicts when loading with `tf.keras.models.load_model`. If renaming is not possible, pass the object in the `custom_objects` parameter of the load function.\n",
            "WARNING:absl:<keras.layers.recurrent.LSTMCell object at 0x7fb38749db10> has the same name 'LSTMCell' as a built-in Keras object. Consider renaming <class 'keras.layers.recurrent.LSTMCell'> to avoid naming conflicts when loading with `tf.keras.models.load_model`. If renaming is not possible, pass the object in the `custom_objects` parameter of the load function.\n"
          ]
        },
        {
          "output_type": "stream",
          "name": "stdout",
          "text": [
            "\b\b\b\b\b\b\b\b\b\b\b\b\b\b\b\b\b\b\b\b\b\b\b\b\b\b\b\b\b\b\b\b\b\b\b\b\b\b\b\b\b\b\b\b\b\b\b\b\b\b\b\b\b\b\b\b\b\b\b\b\b\b\b\b\b\b\b\b\b\b\b\b\b\b\b\b\b\r20/20 [==============================] - 21s 1s/step - loss: 2.8899 - acc: 0.1832 - val_loss: 2.8774 - val_acc: 0.1797\n",
            "Epoch 8/1000\n",
            "19/20 [===========================>..] - ETA: 0s - loss: 2.8794 - acc: 0.1768\n",
            "----- Generating text after Epoch: 7\n",
            "----- Generating with seed: \" politics http t co \"\n",
            " politics http t co etrvitrw cwzsr gtrilinace eltyl swohsal  egib  sllscsseshbil o  wsutscbta wtrartj rte gweenfst worile nnto isu eiritoi iglttsrt lt nt vyyeox\n",
            "Epoch 8: val_loss improved from 2.87739 to 2.86861, saving model to /content/drive/My Drive/\n"
          ]
        },
        {
          "output_type": "stream",
          "name": "stderr",
          "text": [
            "WARNING:absl:Found untraced functions such as lstm_cell_layer_call_fn, lstm_cell_layer_call_and_return_conditional_losses, lstm_cell_1_layer_call_fn, lstm_cell_1_layer_call_and_return_conditional_losses while saving (showing 4 of 4). These functions will not be directly callable after loading.\n"
          ]
        },
        {
          "output_type": "stream",
          "name": "stdout",
          "text": [
            "INFO:tensorflow:Assets written to: /content/drive/My Drive/assets\n"
          ]
        },
        {
          "output_type": "stream",
          "name": "stderr",
          "text": [
            "INFO:tensorflow:Assets written to: /content/drive/My Drive/assets\n",
            "WARNING:absl:<keras.layers.recurrent.LSTMCell object at 0x7fb3ffecbd50> has the same name 'LSTMCell' as a built-in Keras object. Consider renaming <class 'keras.layers.recurrent.LSTMCell'> to avoid naming conflicts when loading with `tf.keras.models.load_model`. If renaming is not possible, pass the object in the `custom_objects` parameter of the load function.\n",
            "WARNING:absl:<keras.layers.recurrent.LSTMCell object at 0x7fb38749db10> has the same name 'LSTMCell' as a built-in Keras object. Consider renaming <class 'keras.layers.recurrent.LSTMCell'> to avoid naming conflicts when loading with `tf.keras.models.load_model`. If renaming is not possible, pass the object in the `custom_objects` parameter of the load function.\n"
          ]
        },
        {
          "output_type": "stream",
          "name": "stdout",
          "text": [
            "\b\b\b\b\b\b\b\b\b\b\b\b\b\b\b\b\b\b\b\b\b\b\b\b\b\b\b\b\b\b\b\b\b\b\b\b\b\b\b\b\b\b\b\b\b\b\b\b\b\b\b\b\b\b\b\b\b\b\b\b\b\b\b\b\b\b\b\b\b\b\b\b\b\b\b\b\b\r20/20 [==============================] - 20s 1s/step - loss: 2.8817 - acc: 0.1758 - val_loss: 2.8686 - val_acc: 0.1797\n",
            "Epoch 9/1000\n",
            "19/20 [===========================>..] - ETA: 0s - loss: 2.8928 - acc: 0.1772\n",
            "----- Generating text after Epoch: 8\n",
            "----- Generating with seed: \"d stupor realdonaldt\"\n",
            "d stupor realdonaldt hinseadseghnth ercnohdts   cdoeqrc eegluoode su oturbee deeaeibnsonubtet u fobmf  rdlaoses trcofn cmhil wneirtihooio ono nhea ktduacdnkinae\n",
            "Epoch 9: val_loss improved from 2.86861 to 2.85297, saving model to /content/drive/My Drive/\n"
          ]
        },
        {
          "output_type": "stream",
          "name": "stderr",
          "text": [
            "WARNING:absl:Found untraced functions such as lstm_cell_layer_call_fn, lstm_cell_layer_call_and_return_conditional_losses, lstm_cell_1_layer_call_fn, lstm_cell_1_layer_call_and_return_conditional_losses while saving (showing 4 of 4). These functions will not be directly callable after loading.\n"
          ]
        },
        {
          "output_type": "stream",
          "name": "stdout",
          "text": [
            "INFO:tensorflow:Assets written to: /content/drive/My Drive/assets\n"
          ]
        },
        {
          "output_type": "stream",
          "name": "stderr",
          "text": [
            "INFO:tensorflow:Assets written to: /content/drive/My Drive/assets\n",
            "WARNING:absl:<keras.layers.recurrent.LSTMCell object at 0x7fb3ffecbd50> has the same name 'LSTMCell' as a built-in Keras object. Consider renaming <class 'keras.layers.recurrent.LSTMCell'> to avoid naming conflicts when loading with `tf.keras.models.load_model`. If renaming is not possible, pass the object in the `custom_objects` parameter of the load function.\n",
            "WARNING:absl:<keras.layers.recurrent.LSTMCell object at 0x7fb38749db10> has the same name 'LSTMCell' as a built-in Keras object. Consider renaming <class 'keras.layers.recurrent.LSTMCell'> to avoid naming conflicts when loading with `tf.keras.models.load_model`. If renaming is not possible, pass the object in the `custom_objects` parameter of the load function.\n"
          ]
        },
        {
          "output_type": "stream",
          "name": "stdout",
          "text": [
            "\b\b\b\b\b\b\b\b\b\b\b\b\b\b\b\b\b\b\b\b\b\b\b\b\b\b\b\b\b\b\b\b\b\b\b\b\b\b\b\b\b\b\b\b\b\b\b\b\b\b\b\b\b\b\b\b\b\b\b\b\b\b\b\b\b\b\b\b\b\b\b\b\b\b\b\b\b\r20/20 [==============================] - 20s 1s/step - loss: 2.8933 - acc: 0.1750 - val_loss: 2.8530 - val_acc: 0.1813\n",
            "Epoch 10/1000\n",
            "19/20 [===========================>..] - ETA: 0s - loss: 2.8337 - acc: 0.1883\n",
            "----- Generating text after Epoch: 9\n",
            "----- Generating with seed: \"e reputation of robe\"\n",
            "e reputation of robe tpg haee not feo eoe s trtck eso pktst ees eenaaipd t ghatin e treeean  ohari gb  uip es he  doa dk naray ttt  ppsc uto npkae li dt meltn a\n",
            "Epoch 10: val_loss improved from 2.85297 to 2.81761, saving model to /content/drive/My Drive/\n"
          ]
        },
        {
          "output_type": "stream",
          "name": "stderr",
          "text": [
            "WARNING:absl:Found untraced functions such as lstm_cell_layer_call_fn, lstm_cell_layer_call_and_return_conditional_losses, lstm_cell_1_layer_call_fn, lstm_cell_1_layer_call_and_return_conditional_losses while saving (showing 4 of 4). These functions will not be directly callable after loading.\n"
          ]
        },
        {
          "output_type": "stream",
          "name": "stdout",
          "text": [
            "INFO:tensorflow:Assets written to: /content/drive/My Drive/assets\n"
          ]
        },
        {
          "output_type": "stream",
          "name": "stderr",
          "text": [
            "INFO:tensorflow:Assets written to: /content/drive/My Drive/assets\n",
            "WARNING:absl:<keras.layers.recurrent.LSTMCell object at 0x7fb3ffecbd50> has the same name 'LSTMCell' as a built-in Keras object. Consider renaming <class 'keras.layers.recurrent.LSTMCell'> to avoid naming conflicts when loading with `tf.keras.models.load_model`. If renaming is not possible, pass the object in the `custom_objects` parameter of the load function.\n",
            "WARNING:absl:<keras.layers.recurrent.LSTMCell object at 0x7fb38749db10> has the same name 'LSTMCell' as a built-in Keras object. Consider renaming <class 'keras.layers.recurrent.LSTMCell'> to avoid naming conflicts when loading with `tf.keras.models.load_model`. If renaming is not possible, pass the object in the `custom_objects` parameter of the load function.\n"
          ]
        },
        {
          "output_type": "stream",
          "name": "stdout",
          "text": [
            "\b\b\b\b\b\b\b\b\b\b\b\b\b\b\b\b\b\b\b\b\b\b\b\b\b\b\b\b\b\b\b\b\b\b\b\b\b\b\b\b\b\b\b\b\b\b\b\b\b\b\b\b\b\b\b\b\b\b\b\b\b\b\b\b\b\b\b\b\b\b\b\b\b\b\b\b\b\r20/20 [==============================] - 21s 1s/step - loss: 2.8336 - acc: 0.1898 - val_loss: 2.8176 - val_acc: 0.1924\n",
            "Epoch 11/1000\n",
            "19/20 [===========================>..] - ETA: 0s - loss: 2.8175 - acc: 0.2019\n",
            "----- Generating text after Epoch: 10\n",
            "----- Generating with seed: \"rk has been conditio\"\n",
            "rk has been conditiohe ho oeo mtn c ooldroomllohpoo  cyuukueioenvtte soet ois wcrcud cko mug keel irs tmobeln bntjte soe htee gnbe tdi cosen ao kto bmme ggaie w\n",
            "Epoch 11: val_loss improved from 2.81761 to 2.79032, saving model to /content/drive/My Drive/\n"
          ]
        },
        {
          "output_type": "stream",
          "name": "stderr",
          "text": [
            "WARNING:absl:Found untraced functions such as lstm_cell_layer_call_fn, lstm_cell_layer_call_and_return_conditional_losses, lstm_cell_1_layer_call_fn, lstm_cell_1_layer_call_and_return_conditional_losses while saving (showing 4 of 4). These functions will not be directly callable after loading.\n"
          ]
        },
        {
          "output_type": "stream",
          "name": "stdout",
          "text": [
            "INFO:tensorflow:Assets written to: /content/drive/My Drive/assets\n"
          ]
        },
        {
          "output_type": "stream",
          "name": "stderr",
          "text": [
            "INFO:tensorflow:Assets written to: /content/drive/My Drive/assets\n",
            "WARNING:absl:<keras.layers.recurrent.LSTMCell object at 0x7fb3ffecbd50> has the same name 'LSTMCell' as a built-in Keras object. Consider renaming <class 'keras.layers.recurrent.LSTMCell'> to avoid naming conflicts when loading with `tf.keras.models.load_model`. If renaming is not possible, pass the object in the `custom_objects` parameter of the load function.\n",
            "WARNING:absl:<keras.layers.recurrent.LSTMCell object at 0x7fb38749db10> has the same name 'LSTMCell' as a built-in Keras object. Consider renaming <class 'keras.layers.recurrent.LSTMCell'> to avoid naming conflicts when loading with `tf.keras.models.load_model`. If renaming is not possible, pass the object in the `custom_objects` parameter of the load function.\n"
          ]
        },
        {
          "output_type": "stream",
          "name": "stdout",
          "text": [
            "\b\b\b\b\b\b\b\b\b\b\b\b\b\b\b\b\b\b\b\b\b\b\b\b\b\b\b\b\b\b\b\b\b\b\b\b\b\b\b\b\b\b\b\b\b\b\b\b\b\b\b\b\b\b\b\b\b\b\b\b\b\b\b\b\b\b\b\b\b\b\b\b\b\b\b\b\b\r20/20 [==============================] - 20s 1s/step - loss: 2.8164 - acc: 0.2023 - val_loss: 2.7903 - val_acc: 0.2057\n",
            "Epoch 12/1000\n",
            "19/20 [===========================>..] - ETA: 0s - loss: 2.8077 - acc: 0.2052\n",
            "----- Generating text after Epoch: 11\n",
            "----- Generating with seed: \"treating illegal imm\"\n",
            "treating illegal immn jtsp ugi ke geaeevmde acotiantteo wfrtum oa waeks otw hren ohrep hy tus pcuts woup cihrghcnaae ai lam tno  on thgn ko wpsab ayne os aris a\n",
            "Epoch 12: val_loss improved from 2.79032 to 2.75758, saving model to /content/drive/My Drive/\n"
          ]
        },
        {
          "output_type": "stream",
          "name": "stderr",
          "text": [
            "WARNING:absl:Found untraced functions such as lstm_cell_layer_call_fn, lstm_cell_layer_call_and_return_conditional_losses, lstm_cell_1_layer_call_fn, lstm_cell_1_layer_call_and_return_conditional_losses while saving (showing 4 of 4). These functions will not be directly callable after loading.\n"
          ]
        },
        {
          "output_type": "stream",
          "name": "stdout",
          "text": [
            "INFO:tensorflow:Assets written to: /content/drive/My Drive/assets\n"
          ]
        },
        {
          "output_type": "stream",
          "name": "stderr",
          "text": [
            "INFO:tensorflow:Assets written to: /content/drive/My Drive/assets\n",
            "WARNING:absl:<keras.layers.recurrent.LSTMCell object at 0x7fb3ffecbd50> has the same name 'LSTMCell' as a built-in Keras object. Consider renaming <class 'keras.layers.recurrent.LSTMCell'> to avoid naming conflicts when loading with `tf.keras.models.load_model`. If renaming is not possible, pass the object in the `custom_objects` parameter of the load function.\n",
            "WARNING:absl:<keras.layers.recurrent.LSTMCell object at 0x7fb38749db10> has the same name 'LSTMCell' as a built-in Keras object. Consider renaming <class 'keras.layers.recurrent.LSTMCell'> to avoid naming conflicts when loading with `tf.keras.models.load_model`. If renaming is not possible, pass the object in the `custom_objects` parameter of the load function.\n"
          ]
        },
        {
          "output_type": "stream",
          "name": "stdout",
          "text": [
            "\b\b\b\b\b\b\b\b\b\b\b\b\b\b\b\b\b\b\b\b\b\b\b\b\b\b\b\b\b\b\b\b\b\b\b\b\b\b\b\b\b\b\b\b\b\b\b\b\b\b\b\b\b\b\b\b\b\b\b\b\b\b\b\b\b\b\b\b\b\b\b\b\b\b\b\b\b\r20/20 [==============================] - 20s 1s/step - loss: 2.8037 - acc: 0.2062 - val_loss: 2.7576 - val_acc: 0.2058\n",
            "Epoch 13/1000\n",
            "19/20 [===========================>..] - ETA: 0s - loss: 2.7390 - acc: 0.2122\n",
            "----- Generating text after Epoch: 12\n",
            "----- Generating with seed: \"joining the republic\"\n",
            "joining the republickn sn ti trtoacdeytio acc oerpstias deitqaotd tttvoe en cncdp fe satlndt ohsrt wss hrte itar pel hsqhino ana ropru til r elonh luee etnee wo\n",
            "Epoch 13: val_loss improved from 2.75758 to 2.74181, saving model to /content/drive/My Drive/\n"
          ]
        },
        {
          "output_type": "stream",
          "name": "stderr",
          "text": [
            "WARNING:absl:Found untraced functions such as lstm_cell_layer_call_fn, lstm_cell_layer_call_and_return_conditional_losses, lstm_cell_1_layer_call_fn, lstm_cell_1_layer_call_and_return_conditional_losses while saving (showing 4 of 4). These functions will not be directly callable after loading.\n"
          ]
        },
        {
          "output_type": "stream",
          "name": "stdout",
          "text": [
            "INFO:tensorflow:Assets written to: /content/drive/My Drive/assets\n"
          ]
        },
        {
          "output_type": "stream",
          "name": "stderr",
          "text": [
            "INFO:tensorflow:Assets written to: /content/drive/My Drive/assets\n",
            "WARNING:absl:<keras.layers.recurrent.LSTMCell object at 0x7fb3ffecbd50> has the same name 'LSTMCell' as a built-in Keras object. Consider renaming <class 'keras.layers.recurrent.LSTMCell'> to avoid naming conflicts when loading with `tf.keras.models.load_model`. If renaming is not possible, pass the object in the `custom_objects` parameter of the load function.\n",
            "WARNING:absl:<keras.layers.recurrent.LSTMCell object at 0x7fb38749db10> has the same name 'LSTMCell' as a built-in Keras object. Consider renaming <class 'keras.layers.recurrent.LSTMCell'> to avoid naming conflicts when loading with `tf.keras.models.load_model`. If renaming is not possible, pass the object in the `custom_objects` parameter of the load function.\n"
          ]
        },
        {
          "output_type": "stream",
          "name": "stdout",
          "text": [
            "\b\b\b\b\b\b\b\b\b\b\b\b\b\b\b\b\b\b\b\b\b\b\b\b\b\b\b\b\b\b\b\b\b\b\b\b\b\b\b\b\b\b\b\b\b\b\b\b\b\b\b\b\b\b\b\b\b\b\b\b\b\b\b\b\b\b\b\b\b\b\b\b\b\b\b\b\b\r20/20 [==============================] - 20s 1s/step - loss: 2.7433 - acc: 0.2102 - val_loss: 2.7418 - val_acc: 0.2198\n",
            "Epoch 14/1000\n",
            "19/20 [===========================>..] - ETA: 0s - loss: 2.7543 - acc: 0.2183\n",
            "----- Generating text after Epoch: 13\n",
            "----- Generating with seed: \"h nancy pelosi keith\"\n",
            "h nancy pelosi keiths lgeypolc vorilrtle wdeiltat mab oaep wilrelanioigdtn yho tocmera aramlgro oiicaldl dh ahlielnl aeolltieane gtanu h o wao ly llrvsr hhnabtn\n",
            "Epoch 14: val_loss improved from 2.74181 to 2.71399, saving model to /content/drive/My Drive/\n"
          ]
        },
        {
          "output_type": "stream",
          "name": "stderr",
          "text": [
            "WARNING:absl:Found untraced functions such as lstm_cell_layer_call_fn, lstm_cell_layer_call_and_return_conditional_losses, lstm_cell_1_layer_call_fn, lstm_cell_1_layer_call_and_return_conditional_losses while saving (showing 4 of 4). These functions will not be directly callable after loading.\n"
          ]
        },
        {
          "output_type": "stream",
          "name": "stdout",
          "text": [
            "INFO:tensorflow:Assets written to: /content/drive/My Drive/assets\n"
          ]
        },
        {
          "output_type": "stream",
          "name": "stderr",
          "text": [
            "INFO:tensorflow:Assets written to: /content/drive/My Drive/assets\n",
            "WARNING:absl:<keras.layers.recurrent.LSTMCell object at 0x7fb3ffecbd50> has the same name 'LSTMCell' as a built-in Keras object. Consider renaming <class 'keras.layers.recurrent.LSTMCell'> to avoid naming conflicts when loading with `tf.keras.models.load_model`. If renaming is not possible, pass the object in the `custom_objects` parameter of the load function.\n",
            "WARNING:absl:<keras.layers.recurrent.LSTMCell object at 0x7fb38749db10> has the same name 'LSTMCell' as a built-in Keras object. Consider renaming <class 'keras.layers.recurrent.LSTMCell'> to avoid naming conflicts when loading with `tf.keras.models.load_model`. If renaming is not possible, pass the object in the `custom_objects` parameter of the load function.\n"
          ]
        },
        {
          "output_type": "stream",
          "name": "stdout",
          "text": [
            "\b\b\b\b\b\b\b\b\b\b\b\b\b\b\b\b\b\b\b\b\b\b\b\b\b\b\b\b\b\b\b\b\b\b\b\b\b\b\b\b\b\b\b\b\b\b\b\b\b\b\b\b\b\b\b\b\b\b\b\b\b\b\b\b\b\b\b\b\b\b\b\b\b\b\b\b\b\r20/20 [==============================] - 20s 1s/step - loss: 2.7564 - acc: 0.2168 - val_loss: 2.7140 - val_acc: 0.2296\n",
            "Epoch 15/1000\n",
            "19/20 [===========================>..] - ETA: 0s - loss: 2.7137 - acc: 0.2262\n",
            "----- Generating text after Epoch: 14\n",
            "----- Generating with seed: \"years ago when they \"\n",
            "years ago when they tuoln py ihlts ze nmg jenr ao dteisis seafelnnhrns aershlr ioenn arndasseklpugklino zrd terd ne tegnd a fthws thslmn rn chyz ce pner tmho ye\n",
            "Epoch 15: val_loss improved from 2.71399 to 2.67222, saving model to /content/drive/My Drive/\n"
          ]
        },
        {
          "output_type": "stream",
          "name": "stderr",
          "text": [
            "WARNING:absl:Found untraced functions such as lstm_cell_layer_call_fn, lstm_cell_layer_call_and_return_conditional_losses, lstm_cell_1_layer_call_fn, lstm_cell_1_layer_call_and_return_conditional_losses while saving (showing 4 of 4). These functions will not be directly callable after loading.\n"
          ]
        },
        {
          "output_type": "stream",
          "name": "stdout",
          "text": [
            "INFO:tensorflow:Assets written to: /content/drive/My Drive/assets\n"
          ]
        },
        {
          "output_type": "stream",
          "name": "stderr",
          "text": [
            "INFO:tensorflow:Assets written to: /content/drive/My Drive/assets\n",
            "WARNING:absl:<keras.layers.recurrent.LSTMCell object at 0x7fb3ffecbd50> has the same name 'LSTMCell' as a built-in Keras object. Consider renaming <class 'keras.layers.recurrent.LSTMCell'> to avoid naming conflicts when loading with `tf.keras.models.load_model`. If renaming is not possible, pass the object in the `custom_objects` parameter of the load function.\n",
            "WARNING:absl:<keras.layers.recurrent.LSTMCell object at 0x7fb38749db10> has the same name 'LSTMCell' as a built-in Keras object. Consider renaming <class 'keras.layers.recurrent.LSTMCell'> to avoid naming conflicts when loading with `tf.keras.models.load_model`. If renaming is not possible, pass the object in the `custom_objects` parameter of the load function.\n"
          ]
        },
        {
          "output_type": "stream",
          "name": "stdout",
          "text": [
            "\b\b\b\b\b\b\b\b\b\b\b\b\b\b\b\b\b\b\b\b\b\b\b\b\b\b\b\b\b\b\b\b\b\b\b\b\b\b\b\b\b\b\b\b\b\b\b\b\b\b\b\b\b\b\b\b\b\b\b\b\b\b\b\b\b\b\b\b\b\b\b\b\b\b\b\b\b\r20/20 [==============================] - 19s 989ms/step - loss: 2.7130 - acc: 0.2270 - val_loss: 2.6722 - val_acc: 0.2377\n",
            "Epoch 16/1000\n",
            "19/20 [===========================>..] - ETA: 0s - loss: 2.6551 - acc: 0.2489\n",
            "----- Generating text after Epoch: 15\n",
            "----- Generating with seed: \"great speech thanks \"\n",
            "great speech thanks to goor at can sgte bieliae trrtull touned kom wprenpetai d thee io te ran xusy tacr ne wee phoe tarmnw trtegtat css wnluth a p thte ais cof\n",
            "Epoch 16: val_loss improved from 2.67222 to 2.64082, saving model to /content/drive/My Drive/\n"
          ]
        },
        {
          "output_type": "stream",
          "name": "stderr",
          "text": [
            "WARNING:absl:Found untraced functions such as lstm_cell_layer_call_fn, lstm_cell_layer_call_and_return_conditional_losses, lstm_cell_1_layer_call_fn, lstm_cell_1_layer_call_and_return_conditional_losses while saving (showing 4 of 4). These functions will not be directly callable after loading.\n"
          ]
        },
        {
          "output_type": "stream",
          "name": "stdout",
          "text": [
            "INFO:tensorflow:Assets written to: /content/drive/My Drive/assets\n"
          ]
        },
        {
          "output_type": "stream",
          "name": "stderr",
          "text": [
            "INFO:tensorflow:Assets written to: /content/drive/My Drive/assets\n",
            "WARNING:absl:<keras.layers.recurrent.LSTMCell object at 0x7fb3ffecbd50> has the same name 'LSTMCell' as a built-in Keras object. Consider renaming <class 'keras.layers.recurrent.LSTMCell'> to avoid naming conflicts when loading with `tf.keras.models.load_model`. If renaming is not possible, pass the object in the `custom_objects` parameter of the load function.\n",
            "WARNING:absl:<keras.layers.recurrent.LSTMCell object at 0x7fb38749db10> has the same name 'LSTMCell' as a built-in Keras object. Consider renaming <class 'keras.layers.recurrent.LSTMCell'> to avoid naming conflicts when loading with `tf.keras.models.load_model`. If renaming is not possible, pass the object in the `custom_objects` parameter of the load function.\n"
          ]
        },
        {
          "output_type": "stream",
          "name": "stdout",
          "text": [
            "\b\b\b\b\b\b\b\b\b\b\b\b\b\b\b\b\b\b\b\b\b\b\b\b\b\b\b\b\b\b\b\b\b\b\b\b\b\b\b\b\b\b\b\b\b\b\b\b\b\b\b\b\b\b\b\b\b\b\b\b\b\b\b\b\b\b\b\b\b\b\b\b\b\b\b\b\b\r20/20 [==============================] - 19s 1s/step - loss: 2.6554 - acc: 0.2477 - val_loss: 2.6408 - val_acc: 0.2436\n",
            "Epoch 17/1000\n",
            "19/20 [===========================>..] - ETA: 0s - loss: 2.6128 - acc: 0.2533\n",
            "----- Generating text after Epoch: 16\n",
            "----- Generating with seed: \"hqoufgmbqs rdbrewer \"\n",
            "hqoufgmbqs rdbrewer ge aew hha as avay too mraad nangrg orl oramlsat th angs call ifterll hermriis nearoy he tiuns shjs aes wa uua xeamee es ois rodhs tio tonk \n",
            "Epoch 17: val_loss improved from 2.64082 to 2.61192, saving model to /content/drive/My Drive/\n"
          ]
        },
        {
          "output_type": "stream",
          "name": "stderr",
          "text": [
            "WARNING:absl:Found untraced functions such as lstm_cell_layer_call_fn, lstm_cell_layer_call_and_return_conditional_losses, lstm_cell_1_layer_call_fn, lstm_cell_1_layer_call_and_return_conditional_losses while saving (showing 4 of 4). These functions will not be directly callable after loading.\n"
          ]
        },
        {
          "output_type": "stream",
          "name": "stdout",
          "text": [
            "INFO:tensorflow:Assets written to: /content/drive/My Drive/assets\n"
          ]
        },
        {
          "output_type": "stream",
          "name": "stderr",
          "text": [
            "INFO:tensorflow:Assets written to: /content/drive/My Drive/assets\n",
            "WARNING:absl:<keras.layers.recurrent.LSTMCell object at 0x7fb3ffecbd50> has the same name 'LSTMCell' as a built-in Keras object. Consider renaming <class 'keras.layers.recurrent.LSTMCell'> to avoid naming conflicts when loading with `tf.keras.models.load_model`. If renaming is not possible, pass the object in the `custom_objects` parameter of the load function.\n",
            "WARNING:absl:<keras.layers.recurrent.LSTMCell object at 0x7fb38749db10> has the same name 'LSTMCell' as a built-in Keras object. Consider renaming <class 'keras.layers.recurrent.LSTMCell'> to avoid naming conflicts when loading with `tf.keras.models.load_model`. If renaming is not possible, pass the object in the `custom_objects` parameter of the load function.\n"
          ]
        },
        {
          "output_type": "stream",
          "name": "stdout",
          "text": [
            "\b\b\b\b\b\b\b\b\b\b\b\b\b\b\b\b\b\b\b\b\b\b\b\b\b\b\b\b\b\b\b\b\b\b\b\b\b\b\b\b\b\b\b\b\b\b\b\b\b\b\b\b\b\b\b\b\b\b\b\b\b\b\b\b\b\b\b\b\b\b\b\b\b\b\b\b\b\r20/20 [==============================] - 19s 1s/step - loss: 2.6095 - acc: 0.2539 - val_loss: 2.6119 - val_acc: 0.2514\n",
            "Epoch 18/1000\n",
            "19/20 [===========================>..] - ETA: 0s - loss: 2.6024 - acc: 0.2529\n",
            "----- Generating text after Epoch: 17\n",
            "----- Generating with seed: \"ers thank you this i\"\n",
            "ers thank you this innn feftu mamtaiw ts skl geolo hunleslenny col wrtea ljepnd alutrin wmh iikangifnts ro liarw panb brsattiy renrfrok nno a loefeel hhaa trbik\n",
            "Epoch 18: val_loss improved from 2.61192 to 2.56931, saving model to /content/drive/My Drive/\n"
          ]
        },
        {
          "output_type": "stream",
          "name": "stderr",
          "text": [
            "WARNING:absl:Found untraced functions such as lstm_cell_layer_call_fn, lstm_cell_layer_call_and_return_conditional_losses, lstm_cell_1_layer_call_fn, lstm_cell_1_layer_call_and_return_conditional_losses while saving (showing 4 of 4). These functions will not be directly callable after loading.\n"
          ]
        },
        {
          "output_type": "stream",
          "name": "stdout",
          "text": [
            "INFO:tensorflow:Assets written to: /content/drive/My Drive/assets\n"
          ]
        },
        {
          "output_type": "stream",
          "name": "stderr",
          "text": [
            "INFO:tensorflow:Assets written to: /content/drive/My Drive/assets\n",
            "WARNING:absl:<keras.layers.recurrent.LSTMCell object at 0x7fb3ffecbd50> has the same name 'LSTMCell' as a built-in Keras object. Consider renaming <class 'keras.layers.recurrent.LSTMCell'> to avoid naming conflicts when loading with `tf.keras.models.load_model`. If renaming is not possible, pass the object in the `custom_objects` parameter of the load function.\n",
            "WARNING:absl:<keras.layers.recurrent.LSTMCell object at 0x7fb38749db10> has the same name 'LSTMCell' as a built-in Keras object. Consider renaming <class 'keras.layers.recurrent.LSTMCell'> to avoid naming conflicts when loading with `tf.keras.models.load_model`. If renaming is not possible, pass the object in the `custom_objects` parameter of the load function.\n"
          ]
        },
        {
          "output_type": "stream",
          "name": "stdout",
          "text": [
            "\b\b\b\b\b\b\b\b\b\b\b\b\b\b\b\b\b\b\b\b\b\b\b\b\b\b\b\b\b\b\b\b\b\b\b\b\b\b\b\b\b\b\b\b\b\b\b\b\b\b\b\b\b\b\b\b\b\b\b\b\b\b\b\b\b\b\b\b\b\b\b\b\b\b\b\b\b\r20/20 [==============================] - 19s 1s/step - loss: 2.5927 - acc: 0.2551 - val_loss: 2.5693 - val_acc: 0.2656\n",
            "Epoch 19/1000\n",
            "19/20 [===========================>..] - ETA: 0s - loss: 2.6126 - acc: 0.2430\n",
            "----- Generating text after Epoch: 18\n",
            "----- Generating with seed: \"ns and the world i a\"\n",
            "ns and the world i aln weatont jertlarntoranatehot al bo we f reereniweta coseteuwieom hr fe tene wamirod ral rnsukr cnsvinfsiog ay atiand oe at abhat itreg fva\n",
            "Epoch 19: val_loss improved from 2.56931 to 2.52846, saving model to /content/drive/My Drive/\n"
          ]
        },
        {
          "output_type": "stream",
          "name": "stderr",
          "text": [
            "WARNING:absl:Found untraced functions such as lstm_cell_layer_call_fn, lstm_cell_layer_call_and_return_conditional_losses, lstm_cell_1_layer_call_fn, lstm_cell_1_layer_call_and_return_conditional_losses while saving (showing 4 of 4). These functions will not be directly callable after loading.\n"
          ]
        },
        {
          "output_type": "stream",
          "name": "stdout",
          "text": [
            "INFO:tensorflow:Assets written to: /content/drive/My Drive/assets\n"
          ]
        },
        {
          "output_type": "stream",
          "name": "stderr",
          "text": [
            "INFO:tensorflow:Assets written to: /content/drive/My Drive/assets\n",
            "WARNING:absl:<keras.layers.recurrent.LSTMCell object at 0x7fb3ffecbd50> has the same name 'LSTMCell' as a built-in Keras object. Consider renaming <class 'keras.layers.recurrent.LSTMCell'> to avoid naming conflicts when loading with `tf.keras.models.load_model`. If renaming is not possible, pass the object in the `custom_objects` parameter of the load function.\n",
            "WARNING:absl:<keras.layers.recurrent.LSTMCell object at 0x7fb38749db10> has the same name 'LSTMCell' as a built-in Keras object. Consider renaming <class 'keras.layers.recurrent.LSTMCell'> to avoid naming conflicts when loading with `tf.keras.models.load_model`. If renaming is not possible, pass the object in the `custom_objects` parameter of the load function.\n"
          ]
        },
        {
          "output_type": "stream",
          "name": "stdout",
          "text": [
            "\b\b\b\b\b\b\b\b\b\b\b\b\b\b\b\b\b\b\b\b\b\b\b\b\b\b\b\b\b\b\b\b\b\b\b\b\b\b\b\b\b\b\b\b\b\b\b\b\b\b\b\b\b\b\b\b\b\b\b\b\b\b\b\b\b\b\b\b\b\b\b\b\b\b\b\b\b\r20/20 [==============================] - 19s 984ms/step - loss: 2.6067 - acc: 0.2438 - val_loss: 2.5285 - val_acc: 0.2761\n",
            "Epoch 20/1000\n",
            "19/20 [===========================>..] - ETA: 0s - loss: 2.5599 - acc: 0.2710\n",
            "----- Generating text after Epoch: 19\n",
            "----- Generating with seed: \"en borders will pote\"\n",
            "en borders will pote sot ie ronthatlthte ror forunstte srpencett cut an aenancutkat enthany bopb heate dime begcu j wad irgorir ank to to e hanvoloet hto i bemc\n",
            "Epoch 20: val_loss improved from 2.52846 to 2.50133, saving model to /content/drive/My Drive/\n"
          ]
        },
        {
          "output_type": "stream",
          "name": "stderr",
          "text": [
            "WARNING:absl:Found untraced functions such as lstm_cell_layer_call_fn, lstm_cell_layer_call_and_return_conditional_losses, lstm_cell_1_layer_call_fn, lstm_cell_1_layer_call_and_return_conditional_losses while saving (showing 4 of 4). These functions will not be directly callable after loading.\n"
          ]
        },
        {
          "output_type": "stream",
          "name": "stdout",
          "text": [
            "INFO:tensorflow:Assets written to: /content/drive/My Drive/assets\n"
          ]
        },
        {
          "output_type": "stream",
          "name": "stderr",
          "text": [
            "INFO:tensorflow:Assets written to: /content/drive/My Drive/assets\n",
            "WARNING:absl:<keras.layers.recurrent.LSTMCell object at 0x7fb3ffecbd50> has the same name 'LSTMCell' as a built-in Keras object. Consider renaming <class 'keras.layers.recurrent.LSTMCell'> to avoid naming conflicts when loading with `tf.keras.models.load_model`. If renaming is not possible, pass the object in the `custom_objects` parameter of the load function.\n",
            "WARNING:absl:<keras.layers.recurrent.LSTMCell object at 0x7fb38749db10> has the same name 'LSTMCell' as a built-in Keras object. Consider renaming <class 'keras.layers.recurrent.LSTMCell'> to avoid naming conflicts when loading with `tf.keras.models.load_model`. If renaming is not possible, pass the object in the `custom_objects` parameter of the load function.\n"
          ]
        },
        {
          "output_type": "stream",
          "name": "stdout",
          "text": [
            "\b\b\b\b\b\b\b\b\b\b\b\b\b\b\b\b\b\b\b\b\b\b\b\b\b\b\b\b\b\b\b\b\b\b\b\b\b\b\b\b\b\b\b\b\b\b\b\b\b\b\b\b\b\b\b\b\b\b\b\b\b\b\b\b\b\b\b\b\b\b\b\b\b\b\b\b\b\r20/20 [==============================] - 26s 1s/step - loss: 2.5507 - acc: 0.2754 - val_loss: 2.5013 - val_acc: 0.2841\n",
            "Epoch 21/1000\n",
            "19/20 [===========================>..] - ETA: 0s - loss: 2.4800 - acc: 0.2866\n",
            "----- Generating text after Epoch: 20\n",
            "----- Generating with seed: \" tax high crime easy\"\n",
            " tax high crime easy pokpsssint ho turp ce wilrid disey gosthsnt tics gy xnuind bealonthe cucon id ad eadrepd enniirlnany the t moy yrhas the aldtaln whav irdm \n",
            "Epoch 21: val_loss improved from 2.50133 to 2.47181, saving model to /content/drive/My Drive/\n"
          ]
        },
        {
          "output_type": "stream",
          "name": "stderr",
          "text": [
            "WARNING:absl:Found untraced functions such as lstm_cell_layer_call_fn, lstm_cell_layer_call_and_return_conditional_losses, lstm_cell_1_layer_call_fn, lstm_cell_1_layer_call_and_return_conditional_losses while saving (showing 4 of 4). These functions will not be directly callable after loading.\n"
          ]
        },
        {
          "output_type": "stream",
          "name": "stdout",
          "text": [
            "INFO:tensorflow:Assets written to: /content/drive/My Drive/assets\n"
          ]
        },
        {
          "output_type": "stream",
          "name": "stderr",
          "text": [
            "INFO:tensorflow:Assets written to: /content/drive/My Drive/assets\n",
            "WARNING:absl:<keras.layers.recurrent.LSTMCell object at 0x7fb3ffecbd50> has the same name 'LSTMCell' as a built-in Keras object. Consider renaming <class 'keras.layers.recurrent.LSTMCell'> to avoid naming conflicts when loading with `tf.keras.models.load_model`. If renaming is not possible, pass the object in the `custom_objects` parameter of the load function.\n",
            "WARNING:absl:<keras.layers.recurrent.LSTMCell object at 0x7fb38749db10> has the same name 'LSTMCell' as a built-in Keras object. Consider renaming <class 'keras.layers.recurrent.LSTMCell'> to avoid naming conflicts when loading with `tf.keras.models.load_model`. If renaming is not possible, pass the object in the `custom_objects` parameter of the load function.\n"
          ]
        },
        {
          "output_type": "stream",
          "name": "stdout",
          "text": [
            "\b\b\b\b\b\b\b\b\b\b\b\b\b\b\b\b\b\b\b\b\b\b\b\b\b\b\b\b\b\b\b\b\b\b\b\b\b\b\b\b\b\b\b\b\b\b\b\b\b\b\b\b\b\b\b\b\b\b\b\b\b\b\b\b\b\b\b\b\b\b\b\b\b\b\b\b\b\r20/20 [==============================] - 19s 1s/step - loss: 2.4776 - acc: 0.2895 - val_loss: 2.4718 - val_acc: 0.2877\n",
            "Epoch 22/1000\n",
            "19/20 [===========================>..] - ETA: 0s - loss: 2.5235 - acc: 0.2747\n",
            "----- Generating text after Epoch: 21\n",
            "----- Generating with seed: \"o discuss the tragic\"\n",
            "o discuss the tragico ndmhheny figessitav ucryeptey hotridnawa ining cherw cilouv rosozakovivinrot desteus thet he ps hoiulvank wot ubp ree ik more gevhl to he \n",
            "Epoch 22: val_loss improved from 2.47181 to 2.45775, saving model to /content/drive/My Drive/\n"
          ]
        },
        {
          "output_type": "stream",
          "name": "stderr",
          "text": [
            "WARNING:absl:Found untraced functions such as lstm_cell_layer_call_fn, lstm_cell_layer_call_and_return_conditional_losses, lstm_cell_1_layer_call_fn, lstm_cell_1_layer_call_and_return_conditional_losses while saving (showing 4 of 4). These functions will not be directly callable after loading.\n"
          ]
        },
        {
          "output_type": "stream",
          "name": "stdout",
          "text": [
            "INFO:tensorflow:Assets written to: /content/drive/My Drive/assets\n"
          ]
        },
        {
          "output_type": "stream",
          "name": "stderr",
          "text": [
            "INFO:tensorflow:Assets written to: /content/drive/My Drive/assets\n",
            "WARNING:absl:<keras.layers.recurrent.LSTMCell object at 0x7fb3ffecbd50> has the same name 'LSTMCell' as a built-in Keras object. Consider renaming <class 'keras.layers.recurrent.LSTMCell'> to avoid naming conflicts when loading with `tf.keras.models.load_model`. If renaming is not possible, pass the object in the `custom_objects` parameter of the load function.\n",
            "WARNING:absl:<keras.layers.recurrent.LSTMCell object at 0x7fb38749db10> has the same name 'LSTMCell' as a built-in Keras object. Consider renaming <class 'keras.layers.recurrent.LSTMCell'> to avoid naming conflicts when loading with `tf.keras.models.load_model`. If renaming is not possible, pass the object in the `custom_objects` parameter of the load function.\n"
          ]
        },
        {
          "output_type": "stream",
          "name": "stdout",
          "text": [
            "\b\b\b\b\b\b\b\b\b\b\b\b\b\b\b\b\b\b\b\b\b\b\b\b\b\b\b\b\b\b\b\b\b\b\b\b\b\b\b\b\b\b\b\b\b\b\b\b\b\b\b\b\b\b\b\b\b\b\b\b\b\b\b\b\b\b\b\b\b\b\b\b\b\b\b\b\b\r20/20 [==============================] - 19s 1s/step - loss: 2.5247 - acc: 0.2785 - val_loss: 2.4578 - val_acc: 0.2946\n",
            "Epoch 23/1000\n",
            "19/20 [===========================>..] - ETA: 0s - loss: 2.4670 - acc: 0.2924\n",
            "----- Generating text after Epoch: 22\n",
            "----- Generating with seed: \" t co czutygamqv wit\"\n",
            " t co czutygamqv wit hekely toroontpbatp mo muyiues fatr co fe boltrhyreleudod avh toabbet wrom vreup qatdoit ust hue bedea anls fisfhe pea cose an theutttprm c\n",
            "Epoch 23: val_loss improved from 2.45775 to 2.44449, saving model to /content/drive/My Drive/\n"
          ]
        },
        {
          "output_type": "stream",
          "name": "stderr",
          "text": [
            "WARNING:absl:Found untraced functions such as lstm_cell_layer_call_fn, lstm_cell_layer_call_and_return_conditional_losses, lstm_cell_1_layer_call_fn, lstm_cell_1_layer_call_and_return_conditional_losses while saving (showing 4 of 4). These functions will not be directly callable after loading.\n"
          ]
        },
        {
          "output_type": "stream",
          "name": "stdout",
          "text": [
            "INFO:tensorflow:Assets written to: /content/drive/My Drive/assets\n"
          ]
        },
        {
          "output_type": "stream",
          "name": "stderr",
          "text": [
            "INFO:tensorflow:Assets written to: /content/drive/My Drive/assets\n",
            "WARNING:absl:<keras.layers.recurrent.LSTMCell object at 0x7fb3ffecbd50> has the same name 'LSTMCell' as a built-in Keras object. Consider renaming <class 'keras.layers.recurrent.LSTMCell'> to avoid naming conflicts when loading with `tf.keras.models.load_model`. If renaming is not possible, pass the object in the `custom_objects` parameter of the load function.\n",
            "WARNING:absl:<keras.layers.recurrent.LSTMCell object at 0x7fb38749db10> has the same name 'LSTMCell' as a built-in Keras object. Consider renaming <class 'keras.layers.recurrent.LSTMCell'> to avoid naming conflicts when loading with `tf.keras.models.load_model`. If renaming is not possible, pass the object in the `custom_objects` parameter of the load function.\n"
          ]
        },
        {
          "output_type": "stream",
          "name": "stdout",
          "text": [
            "\b\b\b\b\b\b\b\b\b\b\b\b\b\b\b\b\b\b\b\b\b\b\b\b\b\b\b\b\b\b\b\b\b\b\b\b\b\b\b\b\b\b\b\b\b\b\b\b\b\b\b\b\b\b\b\b\b\b\b\b\b\b\b\b\b\b\b\b\b\b\b\b\b\b\b\b\b\r20/20 [==============================] - 19s 994ms/step - loss: 2.4702 - acc: 0.2898 - val_loss: 2.4445 - val_acc: 0.2997\n",
            "Epoch 24/1000\n",
            "19/20 [===========================>..] - ETA: 0s - loss: 2.4760 - acc: 0.2833\n",
            "----- Generating text after Epoch: 23\n",
            "----- Generating with seed: \" only hope that star\"\n",
            " only hope that starcofe nesari gte ce bant nm utp oupsle sias laene hor pamr ogrhtamenl idceol reupterige mon nojeo tertrewelitein lr caro wluuk werpes doe tp \n",
            "Epoch 24: val_loss improved from 2.44449 to 2.41546, saving model to /content/drive/My Drive/\n"
          ]
        },
        {
          "output_type": "stream",
          "name": "stderr",
          "text": [
            "WARNING:absl:Found untraced functions such as lstm_cell_layer_call_fn, lstm_cell_layer_call_and_return_conditional_losses, lstm_cell_1_layer_call_fn, lstm_cell_1_layer_call_and_return_conditional_losses while saving (showing 4 of 4). These functions will not be directly callable after loading.\n"
          ]
        },
        {
          "output_type": "stream",
          "name": "stdout",
          "text": [
            "INFO:tensorflow:Assets written to: /content/drive/My Drive/assets\n"
          ]
        },
        {
          "output_type": "stream",
          "name": "stderr",
          "text": [
            "INFO:tensorflow:Assets written to: /content/drive/My Drive/assets\n",
            "WARNING:absl:<keras.layers.recurrent.LSTMCell object at 0x7fb3ffecbd50> has the same name 'LSTMCell' as a built-in Keras object. Consider renaming <class 'keras.layers.recurrent.LSTMCell'> to avoid naming conflicts when loading with `tf.keras.models.load_model`. If renaming is not possible, pass the object in the `custom_objects` parameter of the load function.\n",
            "WARNING:absl:<keras.layers.recurrent.LSTMCell object at 0x7fb38749db10> has the same name 'LSTMCell' as a built-in Keras object. Consider renaming <class 'keras.layers.recurrent.LSTMCell'> to avoid naming conflicts when loading with `tf.keras.models.load_model`. If renaming is not possible, pass the object in the `custom_objects` parameter of the load function.\n"
          ]
        },
        {
          "output_type": "stream",
          "name": "stdout",
          "text": [
            "\b\b\b\b\b\b\b\b\b\b\b\b\b\b\b\b\b\b\b\b\b\b\b\b\b\b\b\b\b\b\b\b\b\b\b\b\b\b\b\b\b\b\b\b\b\b\b\b\b\b\b\b\b\b\b\b\b\b\b\b\b\b\b\b\b\b\b\b\b\b\b\b\b\b\b\b\b\r20/20 [==============================] - 19s 1s/step - loss: 2.4756 - acc: 0.2844 - val_loss: 2.4155 - val_acc: 0.3039\n",
            "Epoch 25/1000\n",
            "19/20 [===========================>..] - ETA: 0s - loss: 2.4799 - acc: 0.2796\n",
            "----- Generating text after Epoch: 24\n",
            "----- Generating with seed: \"day makeamericagreat\"\n",
            "day makeamericagreatalumsicf eattepcad rozgt prumy wy os garicg bogichibon omall gur thep fliul haviectenre locse e fo imtpore d or urge rer eut entsthe mit a t\n",
            "Epoch 25: val_loss improved from 2.41546 to 2.40002, saving model to /content/drive/My Drive/\n"
          ]
        },
        {
          "output_type": "stream",
          "name": "stderr",
          "text": [
            "WARNING:absl:Found untraced functions such as lstm_cell_layer_call_fn, lstm_cell_layer_call_and_return_conditional_losses, lstm_cell_1_layer_call_fn, lstm_cell_1_layer_call_and_return_conditional_losses while saving (showing 4 of 4). These functions will not be directly callable after loading.\n"
          ]
        },
        {
          "output_type": "stream",
          "name": "stdout",
          "text": [
            "INFO:tensorflow:Assets written to: /content/drive/My Drive/assets\n"
          ]
        },
        {
          "output_type": "stream",
          "name": "stderr",
          "text": [
            "INFO:tensorflow:Assets written to: /content/drive/My Drive/assets\n",
            "WARNING:absl:<keras.layers.recurrent.LSTMCell object at 0x7fb3ffecbd50> has the same name 'LSTMCell' as a built-in Keras object. Consider renaming <class 'keras.layers.recurrent.LSTMCell'> to avoid naming conflicts when loading with `tf.keras.models.load_model`. If renaming is not possible, pass the object in the `custom_objects` parameter of the load function.\n",
            "WARNING:absl:<keras.layers.recurrent.LSTMCell object at 0x7fb38749db10> has the same name 'LSTMCell' as a built-in Keras object. Consider renaming <class 'keras.layers.recurrent.LSTMCell'> to avoid naming conflicts when loading with `tf.keras.models.load_model`. If renaming is not possible, pass the object in the `custom_objects` parameter of the load function.\n"
          ]
        },
        {
          "output_type": "stream",
          "name": "stdout",
          "text": [
            "\b\b\b\b\b\b\b\b\b\b\b\b\b\b\b\b\b\b\b\b\b\b\b\b\b\b\b\b\b\b\b\b\b\b\b\b\b\b\b\b\b\b\b\b\b\b\b\b\b\b\b\b\b\b\b\b\b\b\b\b\b\b\b\b\b\b\b\b\b\b\b\b\b\b\b\b\b\r20/20 [==============================] - 21s 1s/step - loss: 2.4672 - acc: 0.2820 - val_loss: 2.4000 - val_acc: 0.2988\n",
            "Epoch 26/1000\n",
            "19/20 [===========================>..] - ETA: 0s - loss: 2.4288 - acc: 0.2767\n",
            "----- Generating text after Epoch: 25\n",
            "----- Generating with seed: \"arrel now is the tim\"\n",
            "arrel now is the timw bbasit araztoloqd sce dudp he merits noo antetris cantecegeko viht bos bamen nusecry ol mhy mhat rita nt his wod titk the mitp coydjs nuty\n",
            "Epoch 26: val_loss improved from 2.40002 to 2.39151, saving model to /content/drive/My Drive/\n"
          ]
        },
        {
          "output_type": "stream",
          "name": "stderr",
          "text": [
            "WARNING:absl:Found untraced functions such as lstm_cell_layer_call_fn, lstm_cell_layer_call_and_return_conditional_losses, lstm_cell_1_layer_call_fn, lstm_cell_1_layer_call_and_return_conditional_losses while saving (showing 4 of 4). These functions will not be directly callable after loading.\n"
          ]
        },
        {
          "output_type": "stream",
          "name": "stdout",
          "text": [
            "INFO:tensorflow:Assets written to: /content/drive/My Drive/assets\n"
          ]
        },
        {
          "output_type": "stream",
          "name": "stderr",
          "text": [
            "INFO:tensorflow:Assets written to: /content/drive/My Drive/assets\n",
            "WARNING:absl:<keras.layers.recurrent.LSTMCell object at 0x7fb3ffecbd50> has the same name 'LSTMCell' as a built-in Keras object. Consider renaming <class 'keras.layers.recurrent.LSTMCell'> to avoid naming conflicts when loading with `tf.keras.models.load_model`. If renaming is not possible, pass the object in the `custom_objects` parameter of the load function.\n",
            "WARNING:absl:<keras.layers.recurrent.LSTMCell object at 0x7fb38749db10> has the same name 'LSTMCell' as a built-in Keras object. Consider renaming <class 'keras.layers.recurrent.LSTMCell'> to avoid naming conflicts when loading with `tf.keras.models.load_model`. If renaming is not possible, pass the object in the `custom_objects` parameter of the load function.\n"
          ]
        },
        {
          "output_type": "stream",
          "name": "stdout",
          "text": [
            "\b\b\b\b\b\b\b\b\b\b\b\b\b\b\b\b\b\b\b\b\b\b\b\b\b\b\b\b\b\b\b\b\b\b\b\b\b\b\b\b\b\b\b\b\b\b\b\b\b\b\b\b\b\b\b\b\b\b\b\b\b\b\b\b\b\b\b\b\b\b\b\b\b\b\b\b\b\r20/20 [==============================] - 19s 1s/step - loss: 2.4301 - acc: 0.2754 - val_loss: 2.3915 - val_acc: 0.3039\n",
            "Epoch 27/1000\n",
            "19/20 [===========================>..] - ETA: 0s - loss: 2.3870 - acc: 0.3014\n",
            "----- Generating text after Epoch: 26\n",
            "----- Generating with seed: \"onsider running for \"\n",
            "onsider running for oo rhec and pitetisarn veurorede doth as ot porey ggvtse mit o we ftar worsey fo vpape oce hing hemton isk vhtpis tounk gancsotr ge citenme \n",
            "Epoch 27: val_loss improved from 2.39151 to 2.36298, saving model to /content/drive/My Drive/\n"
          ]
        },
        {
          "output_type": "stream",
          "name": "stderr",
          "text": [
            "WARNING:absl:Found untraced functions such as lstm_cell_layer_call_fn, lstm_cell_layer_call_and_return_conditional_losses, lstm_cell_1_layer_call_fn, lstm_cell_1_layer_call_and_return_conditional_losses while saving (showing 4 of 4). These functions will not be directly callable after loading.\n"
          ]
        },
        {
          "output_type": "stream",
          "name": "stdout",
          "text": [
            "INFO:tensorflow:Assets written to: /content/drive/My Drive/assets\n"
          ]
        },
        {
          "output_type": "stream",
          "name": "stderr",
          "text": [
            "INFO:tensorflow:Assets written to: /content/drive/My Drive/assets\n",
            "WARNING:absl:<keras.layers.recurrent.LSTMCell object at 0x7fb3ffecbd50> has the same name 'LSTMCell' as a built-in Keras object. Consider renaming <class 'keras.layers.recurrent.LSTMCell'> to avoid naming conflicts when loading with `tf.keras.models.load_model`. If renaming is not possible, pass the object in the `custom_objects` parameter of the load function.\n",
            "WARNING:absl:<keras.layers.recurrent.LSTMCell object at 0x7fb38749db10> has the same name 'LSTMCell' as a built-in Keras object. Consider renaming <class 'keras.layers.recurrent.LSTMCell'> to avoid naming conflicts when loading with `tf.keras.models.load_model`. If renaming is not possible, pass the object in the `custom_objects` parameter of the load function.\n"
          ]
        },
        {
          "output_type": "stream",
          "name": "stdout",
          "text": [
            "\b\b\b\b\b\b\b\b\b\b\b\b\b\b\b\b\b\b\b\b\b\b\b\b\b\b\b\b\b\b\b\b\b\b\b\b\b\b\b\b\b\b\b\b\b\b\b\b\b\b\b\b\b\b\b\b\b\b\b\b\b\b\b\b\b\b\b\b\b\b\b\b\b\b\b\b\b\r20/20 [==============================] - 19s 975ms/step - loss: 2.3857 - acc: 0.3004 - val_loss: 2.3630 - val_acc: 0.3138\n",
            "Epoch 28/1000\n",
            "19/20 [===========================>..] - ETA: 0s - loss: 2.3950 - acc: 0.2985\n",
            "----- Generating text after Epoch: 27\n",
            "----- Generating with seed: \"no loans no nothing \"\n",
            "no loans no nothing thig awa scha qasmen kixg ing tins lonelcirisarseamendefrimp redthy will ililctimeepsaqheromar butditheo this tor psighs lamd cer azchpe pet\n",
            "Epoch 28: val_loss improved from 2.36298 to 2.35770, saving model to /content/drive/My Drive/\n"
          ]
        },
        {
          "output_type": "stream",
          "name": "stderr",
          "text": [
            "WARNING:absl:Found untraced functions such as lstm_cell_layer_call_fn, lstm_cell_layer_call_and_return_conditional_losses, lstm_cell_1_layer_call_fn, lstm_cell_1_layer_call_and_return_conditional_losses while saving (showing 4 of 4). These functions will not be directly callable after loading.\n"
          ]
        },
        {
          "output_type": "stream",
          "name": "stdout",
          "text": [
            "INFO:tensorflow:Assets written to: /content/drive/My Drive/assets\n"
          ]
        },
        {
          "output_type": "stream",
          "name": "stderr",
          "text": [
            "INFO:tensorflow:Assets written to: /content/drive/My Drive/assets\n",
            "WARNING:absl:<keras.layers.recurrent.LSTMCell object at 0x7fb3ffecbd50> has the same name 'LSTMCell' as a built-in Keras object. Consider renaming <class 'keras.layers.recurrent.LSTMCell'> to avoid naming conflicts when loading with `tf.keras.models.load_model`. If renaming is not possible, pass the object in the `custom_objects` parameter of the load function.\n",
            "WARNING:absl:<keras.layers.recurrent.LSTMCell object at 0x7fb38749db10> has the same name 'LSTMCell' as a built-in Keras object. Consider renaming <class 'keras.layers.recurrent.LSTMCell'> to avoid naming conflicts when loading with `tf.keras.models.load_model`. If renaming is not possible, pass the object in the `custom_objects` parameter of the load function.\n"
          ]
        },
        {
          "output_type": "stream",
          "name": "stdout",
          "text": [
            "\b\b\b\b\b\b\b\b\b\b\b\b\b\b\b\b\b\b\b\b\b\b\b\b\b\b\b\b\b\b\b\b\b\b\b\b\b\b\b\b\b\b\b\b\b\b\b\b\b\b\b\b\b\b\b\b\b\b\b\b\b\b\b\b\b\b\b\b\b\b\b\b\b\b\b\b\b\r20/20 [==============================] - 19s 992ms/step - loss: 2.3988 - acc: 0.2973 - val_loss: 2.3577 - val_acc: 0.3207\n",
            "Epoch 29/1000\n",
            "19/20 [===========================>..] - ETA: 0s - loss: 2.3405 - acc: 0.3137\n",
            "----- Generating text after Epoch: 28\n",
            "----- Generating with seed: \"for the cause of fre\"\n",
            "for the cause of frey pomes hes gerered adtior hant ildolothr dotd ougithe wetl mil to nrentod licf becise nivhes dughor ye or al ans htisd anld amp cae iss wat\n",
            "Epoch 29: val_loss improved from 2.35770 to 2.34277, saving model to /content/drive/My Drive/\n"
          ]
        },
        {
          "output_type": "stream",
          "name": "stderr",
          "text": [
            "WARNING:absl:Found untraced functions such as lstm_cell_layer_call_fn, lstm_cell_layer_call_and_return_conditional_losses, lstm_cell_1_layer_call_fn, lstm_cell_1_layer_call_and_return_conditional_losses while saving (showing 4 of 4). These functions will not be directly callable after loading.\n"
          ]
        },
        {
          "output_type": "stream",
          "name": "stdout",
          "text": [
            "INFO:tensorflow:Assets written to: /content/drive/My Drive/assets\n"
          ]
        },
        {
          "output_type": "stream",
          "name": "stderr",
          "text": [
            "INFO:tensorflow:Assets written to: /content/drive/My Drive/assets\n",
            "WARNING:absl:<keras.layers.recurrent.LSTMCell object at 0x7fb3ffecbd50> has the same name 'LSTMCell' as a built-in Keras object. Consider renaming <class 'keras.layers.recurrent.LSTMCell'> to avoid naming conflicts when loading with `tf.keras.models.load_model`. If renaming is not possible, pass the object in the `custom_objects` parameter of the load function.\n",
            "WARNING:absl:<keras.layers.recurrent.LSTMCell object at 0x7fb38749db10> has the same name 'LSTMCell' as a built-in Keras object. Consider renaming <class 'keras.layers.recurrent.LSTMCell'> to avoid naming conflicts when loading with `tf.keras.models.load_model`. If renaming is not possible, pass the object in the `custom_objects` parameter of the load function.\n"
          ]
        },
        {
          "output_type": "stream",
          "name": "stdout",
          "text": [
            "\b\b\b\b\b\b\b\b\b\b\b\b\b\b\b\b\b\b\b\b\b\b\b\b\b\b\b\b\b\b\b\b\b\b\b\b\b\b\b\b\b\b\b\b\b\b\b\b\b\b\b\b\b\b\b\b\b\b\b\b\b\b\b\b\b\b\b\b\b\b\b\b\b\b\b\b\b\r20/20 [==============================] - 19s 979ms/step - loss: 2.3369 - acc: 0.3141 - val_loss: 2.3428 - val_acc: 0.3183\n",
            "Epoch 30/1000\n",
            "19/20 [===========================>..] - ETA: 0s - loss: 2.3833 - acc: 0.3072\n",
            "----- Generating text after Epoch: 29\n",
            "----- Generating with seed: \"layer of the week ht\"\n",
            "layer of the week ht the ot thatpe la toreds wocead ra leaty namhent hiclon libans a wele whe themimanisy cmav itiso afdos nisy aadegrima hot ad a ireotertabant\n",
            "Epoch 30: val_loss improved from 2.34277 to 2.32906, saving model to /content/drive/My Drive/\n"
          ]
        },
        {
          "output_type": "stream",
          "name": "stderr",
          "text": [
            "WARNING:absl:Found untraced functions such as lstm_cell_layer_call_fn, lstm_cell_layer_call_and_return_conditional_losses, lstm_cell_1_layer_call_fn, lstm_cell_1_layer_call_and_return_conditional_losses while saving (showing 4 of 4). These functions will not be directly callable after loading.\n"
          ]
        },
        {
          "output_type": "stream",
          "name": "stdout",
          "text": [
            "INFO:tensorflow:Assets written to: /content/drive/My Drive/assets\n"
          ]
        },
        {
          "output_type": "stream",
          "name": "stderr",
          "text": [
            "INFO:tensorflow:Assets written to: /content/drive/My Drive/assets\n",
            "WARNING:absl:<keras.layers.recurrent.LSTMCell object at 0x7fb3ffecbd50> has the same name 'LSTMCell' as a built-in Keras object. Consider renaming <class 'keras.layers.recurrent.LSTMCell'> to avoid naming conflicts when loading with `tf.keras.models.load_model`. If renaming is not possible, pass the object in the `custom_objects` parameter of the load function.\n",
            "WARNING:absl:<keras.layers.recurrent.LSTMCell object at 0x7fb38749db10> has the same name 'LSTMCell' as a built-in Keras object. Consider renaming <class 'keras.layers.recurrent.LSTMCell'> to avoid naming conflicts when loading with `tf.keras.models.load_model`. If renaming is not possible, pass the object in the `custom_objects` parameter of the load function.\n"
          ]
        },
        {
          "output_type": "stream",
          "name": "stdout",
          "text": [
            "\b\b\b\b\b\b\b\b\b\b\b\b\b\b\b\b\b\b\b\b\b\b\b\b\b\b\b\b\b\b\b\b\b\b\b\b\b\b\b\b\b\b\b\b\b\b\b\b\b\b\b\b\b\b\b\b\b\b\b\b\b\b\b\b\b\b\b\b\b\b\b\b\b\b\b\b\b\r20/20 [==============================] - 19s 991ms/step - loss: 2.3784 - acc: 0.3102 - val_loss: 2.3291 - val_acc: 0.3289\n",
            "Epoch 31/1000\n",
            "19/20 [===========================>..] - ETA: 0s - loss: 2.3484 - acc: 0.3102\n",
            "----- Generating text after Epoch: 30\n",
            "----- Generating with seed: \"ernor mitt romney pa\"\n",
            "ernor mitt romney pandesanst nut prentt stw wocrphecsit heit aret mut the vones abkingt at the meas defiy beralg thint ce formabt amt githre fye see wehe the go\n",
            "Epoch 31: val_loss improved from 2.32906 to 2.30364, saving model to /content/drive/My Drive/\n"
          ]
        },
        {
          "output_type": "stream",
          "name": "stderr",
          "text": [
            "WARNING:absl:Found untraced functions such as lstm_cell_layer_call_fn, lstm_cell_layer_call_and_return_conditional_losses, lstm_cell_1_layer_call_fn, lstm_cell_1_layer_call_and_return_conditional_losses while saving (showing 4 of 4). These functions will not be directly callable after loading.\n"
          ]
        },
        {
          "output_type": "stream",
          "name": "stdout",
          "text": [
            "INFO:tensorflow:Assets written to: /content/drive/My Drive/assets\n"
          ]
        },
        {
          "output_type": "stream",
          "name": "stderr",
          "text": [
            "INFO:tensorflow:Assets written to: /content/drive/My Drive/assets\n",
            "WARNING:absl:<keras.layers.recurrent.LSTMCell object at 0x7fb3ffecbd50> has the same name 'LSTMCell' as a built-in Keras object. Consider renaming <class 'keras.layers.recurrent.LSTMCell'> to avoid naming conflicts when loading with `tf.keras.models.load_model`. If renaming is not possible, pass the object in the `custom_objects` parameter of the load function.\n",
            "WARNING:absl:<keras.layers.recurrent.LSTMCell object at 0x7fb38749db10> has the same name 'LSTMCell' as a built-in Keras object. Consider renaming <class 'keras.layers.recurrent.LSTMCell'> to avoid naming conflicts when loading with `tf.keras.models.load_model`. If renaming is not possible, pass the object in the `custom_objects` parameter of the load function.\n"
          ]
        },
        {
          "output_type": "stream",
          "name": "stdout",
          "text": [
            "\b\b\b\b\b\b\b\b\b\b\b\b\b\b\b\b\b\b\b\b\b\b\b\b\b\b\b\b\b\b\b\b\b\b\b\b\b\b\b\b\b\b\b\b\b\b\b\b\b\b\b\b\b\b\b\b\b\b\b\b\b\b\b\b\b\b\b\b\b\b\b\b\b\b\b\b\b\r20/20 [==============================] - 19s 979ms/step - loss: 2.3443 - acc: 0.3123 - val_loss: 2.3036 - val_acc: 0.3269\n",
            "Epoch 32/1000\n",
            "19/20 [===========================>..] - ETA: 0s - loss: 2.3363 - acc: 0.2973\n",
            "----- Generating text after Epoch: 31\n",
            "----- Generating with seed: \"nd others at the fbi\"\n",
            "nd others at the fbim tobwern o ava jiscoft ig mharla wpenlagavaf pan ty theupteraclevendery dom nillitz wufptakaned wposiminnget parioas famipisy wenlenedont n\n",
            "Epoch 32: val_loss did not improve from 2.30364\n",
            "20/20 [==============================] - 9s 469ms/step - loss: 2.3265 - acc: 0.3012 - val_loss: 2.3046 - val_acc: 0.3283\n",
            "Epoch 33/1000\n",
            "19/20 [===========================>..] - ETA: 0s - loss: 2.3077 - acc: 0.3339\n",
            "----- Generating text after Epoch: 32\n",
            "----- Generating with seed: \"fsrugbyuud drdoucett\"\n",
            "fsrugbyuud drdoucettruny jacleosade grieg lot prandoed hilt pouneinis dersis wery no thit go dee ca the dove ancoriegy vor qtetin whrstore arnirberae misino rau\n",
            "Epoch 33: val_loss improved from 2.30364 to 2.28411, saving model to /content/drive/My Drive/\n"
          ]
        },
        {
          "output_type": "stream",
          "name": "stderr",
          "text": [
            "WARNING:absl:Found untraced functions such as lstm_cell_layer_call_fn, lstm_cell_layer_call_and_return_conditional_losses, lstm_cell_1_layer_call_fn, lstm_cell_1_layer_call_and_return_conditional_losses while saving (showing 4 of 4). These functions will not be directly callable after loading.\n"
          ]
        },
        {
          "output_type": "stream",
          "name": "stdout",
          "text": [
            "INFO:tensorflow:Assets written to: /content/drive/My Drive/assets\n"
          ]
        },
        {
          "output_type": "stream",
          "name": "stderr",
          "text": [
            "INFO:tensorflow:Assets written to: /content/drive/My Drive/assets\n",
            "WARNING:absl:<keras.layers.recurrent.LSTMCell object at 0x7fb3ffecbd50> has the same name 'LSTMCell' as a built-in Keras object. Consider renaming <class 'keras.layers.recurrent.LSTMCell'> to avoid naming conflicts when loading with `tf.keras.models.load_model`. If renaming is not possible, pass the object in the `custom_objects` parameter of the load function.\n",
            "WARNING:absl:<keras.layers.recurrent.LSTMCell object at 0x7fb38749db10> has the same name 'LSTMCell' as a built-in Keras object. Consider renaming <class 'keras.layers.recurrent.LSTMCell'> to avoid naming conflicts when loading with `tf.keras.models.load_model`. If renaming is not possible, pass the object in the `custom_objects` parameter of the load function.\n"
          ]
        },
        {
          "output_type": "stream",
          "name": "stdout",
          "text": [
            "\b\b\b\b\b\b\b\b\b\b\b\b\b\b\b\b\b\b\b\b\b\b\b\b\b\b\b\b\b\b\b\b\b\b\b\b\b\b\b\b\b\b\b\b\b\b\b\b\b\b\b\b\b\b\b\b\b\b\b\b\b\b\b\b\b\b\b\b\b\b\b\b\b\b\b\b\b\r20/20 [==============================] - 19s 1s/step - loss: 2.3148 - acc: 0.3320 - val_loss: 2.2841 - val_acc: 0.3321\n",
            "Epoch 34/1000\n",
            "19/20 [===========================>..] - ETA: 0s - loss: 2.3228 - acc: 0.3158\n",
            "----- Generating text after Epoch: 33\n",
            "----- Generating with seed: \" problem telling it \"\n",
            " problem telling it das fetergenng g of er whe and amhangenefur frune nerurd has izs ejam r fro fraverhand inlsl yeu vert hasr the our resk dis bes wamp preey o\n",
            "Epoch 34: val_loss did not improve from 2.28411\n",
            "20/20 [==============================] - 9s 482ms/step - loss: 2.3124 - acc: 0.3187 - val_loss: 2.2848 - val_acc: 0.3286\n",
            "Epoch 35/1000\n",
            "19/20 [===========================>..] - ETA: 0s - loss: 2.2788 - acc: 0.3236\n",
            "----- Generating text after Epoch: 34\n",
            "----- Generating with seed: \" bound gold trumplas\"\n",
            " bound gold trumplas ficiuver faamert sek and kais pe meos heraccec yoler the golenefs yons guics wice frice wiove loall me lilal to alarl erithe foraconict goe\n",
            "Epoch 35: val_loss improved from 2.28411 to 2.27695, saving model to /content/drive/My Drive/\n"
          ]
        },
        {
          "output_type": "stream",
          "name": "stderr",
          "text": [
            "WARNING:absl:Found untraced functions such as lstm_cell_layer_call_fn, lstm_cell_layer_call_and_return_conditional_losses, lstm_cell_1_layer_call_fn, lstm_cell_1_layer_call_and_return_conditional_losses while saving (showing 4 of 4). These functions will not be directly callable after loading.\n"
          ]
        },
        {
          "output_type": "stream",
          "name": "stdout",
          "text": [
            "INFO:tensorflow:Assets written to: /content/drive/My Drive/assets\n"
          ]
        },
        {
          "output_type": "stream",
          "name": "stderr",
          "text": [
            "INFO:tensorflow:Assets written to: /content/drive/My Drive/assets\n",
            "WARNING:absl:<keras.layers.recurrent.LSTMCell object at 0x7fb3ffecbd50> has the same name 'LSTMCell' as a built-in Keras object. Consider renaming <class 'keras.layers.recurrent.LSTMCell'> to avoid naming conflicts when loading with `tf.keras.models.load_model`. If renaming is not possible, pass the object in the `custom_objects` parameter of the load function.\n",
            "WARNING:absl:<keras.layers.recurrent.LSTMCell object at 0x7fb38749db10> has the same name 'LSTMCell' as a built-in Keras object. Consider renaming <class 'keras.layers.recurrent.LSTMCell'> to avoid naming conflicts when loading with `tf.keras.models.load_model`. If renaming is not possible, pass the object in the `custom_objects` parameter of the load function.\n"
          ]
        },
        {
          "output_type": "stream",
          "name": "stdout",
          "text": [
            "\b\b\b\b\b\b\b\b\b\b\b\b\b\b\b\b\b\b\b\b\b\b\b\b\b\b\b\b\b\b\b\b\b\b\b\b\b\b\b\b\b\b\b\b\b\b\b\b\b\b\b\b\b\b\b\b\b\b\b\b\b\b\b\b\b\b\b\b\b\b\b\b\b\b\b\b\b\r20/20 [==============================] - 19s 1s/step - loss: 2.2919 - acc: 0.3191 - val_loss: 2.2770 - val_acc: 0.3288\n",
            "Epoch 36/1000\n",
            "19/20 [===========================>..] - ETA: 0s - loss: 2.2776 - acc: 0.3347\n",
            "----- Generating text after Epoch: 35\n",
            "----- Generating with seed: \" to survive the pand\"\n",
            " to survive the pandiog i tiwent yino ous say bet tinw ht leete them corisil mhes cutte fer amlyey dame pne faty loatt galx palrang hamt kousl mey a p icpastet \n",
            "Epoch 36: val_loss improved from 2.27695 to 2.25730, saving model to /content/drive/My Drive/\n"
          ]
        },
        {
          "output_type": "stream",
          "name": "stderr",
          "text": [
            "WARNING:absl:Found untraced functions such as lstm_cell_layer_call_fn, lstm_cell_layer_call_and_return_conditional_losses, lstm_cell_1_layer_call_fn, lstm_cell_1_layer_call_and_return_conditional_losses while saving (showing 4 of 4). These functions will not be directly callable after loading.\n"
          ]
        },
        {
          "output_type": "stream",
          "name": "stdout",
          "text": [
            "INFO:tensorflow:Assets written to: /content/drive/My Drive/assets\n"
          ]
        },
        {
          "output_type": "stream",
          "name": "stderr",
          "text": [
            "INFO:tensorflow:Assets written to: /content/drive/My Drive/assets\n",
            "WARNING:absl:<keras.layers.recurrent.LSTMCell object at 0x7fb3ffecbd50> has the same name 'LSTMCell' as a built-in Keras object. Consider renaming <class 'keras.layers.recurrent.LSTMCell'> to avoid naming conflicts when loading with `tf.keras.models.load_model`. If renaming is not possible, pass the object in the `custom_objects` parameter of the load function.\n",
            "WARNING:absl:<keras.layers.recurrent.LSTMCell object at 0x7fb38749db10> has the same name 'LSTMCell' as a built-in Keras object. Consider renaming <class 'keras.layers.recurrent.LSTMCell'> to avoid naming conflicts when loading with `tf.keras.models.load_model`. If renaming is not possible, pass the object in the `custom_objects` parameter of the load function.\n"
          ]
        },
        {
          "output_type": "stream",
          "name": "stdout",
          "text": [
            "\b\b\b\b\b\b\b\b\b\b\b\b\b\b\b\b\b\b\b\b\b\b\b\b\b\b\b\b\b\b\b\b\b\b\b\b\b\b\b\b\b\b\b\b\b\b\b\b\b\b\b\b\b\b\b\b\b\b\b\b\b\b\b\b\b\b\b\b\b\b\b\b\b\b\b\b\b\r20/20 [==============================] - 20s 1s/step - loss: 2.2765 - acc: 0.3348 - val_loss: 2.2573 - val_acc: 0.3400\n",
            "Epoch 37/1000\n",
            "19/20 [===========================>..] - ETA: 0s - loss: 2.2570 - acc: 0.3339\n",
            "----- Generating text after Epoch: 36\n",
            "----- Generating with seed: \" see our country fai\"\n",
            " see our country faica degaldand tump gad matirenl caleldewrung are a dofth sretume is is the ledbatere loig whanl ourelin ce do wofrefd frorid reatho ge a tren\n",
            "Epoch 37: val_loss improved from 2.25730 to 2.24316, saving model to /content/drive/My Drive/\n"
          ]
        },
        {
          "output_type": "stream",
          "name": "stderr",
          "text": [
            "WARNING:absl:Found untraced functions such as lstm_cell_layer_call_fn, lstm_cell_layer_call_and_return_conditional_losses, lstm_cell_1_layer_call_fn, lstm_cell_1_layer_call_and_return_conditional_losses while saving (showing 4 of 4). These functions will not be directly callable after loading.\n"
          ]
        },
        {
          "output_type": "stream",
          "name": "stdout",
          "text": [
            "INFO:tensorflow:Assets written to: /content/drive/My Drive/assets\n"
          ]
        },
        {
          "output_type": "stream",
          "name": "stderr",
          "text": [
            "INFO:tensorflow:Assets written to: /content/drive/My Drive/assets\n",
            "WARNING:absl:<keras.layers.recurrent.LSTMCell object at 0x7fb3ffecbd50> has the same name 'LSTMCell' as a built-in Keras object. Consider renaming <class 'keras.layers.recurrent.LSTMCell'> to avoid naming conflicts when loading with `tf.keras.models.load_model`. If renaming is not possible, pass the object in the `custom_objects` parameter of the load function.\n",
            "WARNING:absl:<keras.layers.recurrent.LSTMCell object at 0x7fb38749db10> has the same name 'LSTMCell' as a built-in Keras object. Consider renaming <class 'keras.layers.recurrent.LSTMCell'> to avoid naming conflicts when loading with `tf.keras.models.load_model`. If renaming is not possible, pass the object in the `custom_objects` parameter of the load function.\n"
          ]
        },
        {
          "output_type": "stream",
          "name": "stdout",
          "text": [
            "\b\b\b\b\b\b\b\b\b\b\b\b\b\b\b\b\b\b\b\b\b\b\b\b\b\b\b\b\b\b\b\b\b\b\b\b\b\b\b\b\b\b\b\b\b\b\b\b\b\b\b\b\b\b\b\b\b\b\b\b\b\b\b\b\b\b\b\b\b\b\b\b\b\b\b\b\b\r20/20 [==============================] - 19s 992ms/step - loss: 2.2604 - acc: 0.3332 - val_loss: 2.2432 - val_acc: 0.3457\n",
            "Epoch 38/1000\n",
            "19/20 [===========================>..] - ETA: 0s - loss: 2.2506 - acc: 0.3285\n",
            "----- Generating text after Epoch: 37\n",
            "----- Generating with seed: \"ld it does nothing b\"\n",
            "ld it does nothing boladink nga sce fot a lotias s wallouadtraby sretanor trer to seoporatiin hts t t ce nnqpvornvig correseorat ame nomal ne tekertors asd mise\n",
            "Epoch 38: val_loss improved from 2.24316 to 2.23501, saving model to /content/drive/My Drive/\n"
          ]
        },
        {
          "output_type": "stream",
          "name": "stderr",
          "text": [
            "WARNING:absl:Found untraced functions such as lstm_cell_layer_call_fn, lstm_cell_layer_call_and_return_conditional_losses, lstm_cell_1_layer_call_fn, lstm_cell_1_layer_call_and_return_conditional_losses while saving (showing 4 of 4). These functions will not be directly callable after loading.\n"
          ]
        },
        {
          "output_type": "stream",
          "name": "stdout",
          "text": [
            "INFO:tensorflow:Assets written to: /content/drive/My Drive/assets\n"
          ]
        },
        {
          "output_type": "stream",
          "name": "stderr",
          "text": [
            "INFO:tensorflow:Assets written to: /content/drive/My Drive/assets\n",
            "WARNING:absl:<keras.layers.recurrent.LSTMCell object at 0x7fb3ffecbd50> has the same name 'LSTMCell' as a built-in Keras object. Consider renaming <class 'keras.layers.recurrent.LSTMCell'> to avoid naming conflicts when loading with `tf.keras.models.load_model`. If renaming is not possible, pass the object in the `custom_objects` parameter of the load function.\n",
            "WARNING:absl:<keras.layers.recurrent.LSTMCell object at 0x7fb38749db10> has the same name 'LSTMCell' as a built-in Keras object. Consider renaming <class 'keras.layers.recurrent.LSTMCell'> to avoid naming conflicts when loading with `tf.keras.models.load_model`. If renaming is not possible, pass the object in the `custom_objects` parameter of the load function.\n"
          ]
        },
        {
          "output_type": "stream",
          "name": "stdout",
          "text": [
            "\b\b\b\b\b\b\b\b\b\b\b\b\b\b\b\b\b\b\b\b\b\b\b\b\b\b\b\b\b\b\b\b\b\b\b\b\b\b\b\b\b\b\b\b\b\b\b\b\b\b\b\b\b\b\b\b\b\b\b\b\b\b\b\b\b\b\b\b\b\b\b\b\b\b\b\b\b\r20/20 [==============================] - 19s 995ms/step - loss: 2.2578 - acc: 0.3289 - val_loss: 2.2350 - val_acc: 0.3477\n",
            "Epoch 39/1000\n",
            "19/20 [===========================>..] - ETA: 0s - loss: 2.2422 - acc: 0.3553\n",
            "----- Generating text after Epoch: 38\n",
            "----- Generating with seed: \"inspecting the old p\"\n",
            "inspecting the old prof in wem anisyae e in malpentiit the wish pnowthr piihes rect rep in llding u wormaalt s atpy aun papbawtriasdos of an fefh the pessgoy s \n",
            "Epoch 39: val_loss did not improve from 2.23501\n",
            "20/20 [==============================] - 9s 472ms/step - loss: 2.2351 - acc: 0.3582 - val_loss: 2.2389 - val_acc: 0.3452\n",
            "Epoch 40/1000\n",
            "19/20 [===========================>..] - ETA: 0s - loss: 2.2553 - acc: 0.3396\n",
            "----- Generating text after Epoch: 39\n",
            "----- Generating with seed: \"pholes and it would \"\n",
            "pholes and it would a preun oxea avis on trus beny atry grevent the touf ming inty morcolingtheata ont thiney deor kad m nlap yuac i ic ive net word std st yrou\n",
            "Epoch 40: val_loss improved from 2.23501 to 2.22110, saving model to /content/drive/My Drive/\n"
          ]
        },
        {
          "output_type": "stream",
          "name": "stderr",
          "text": [
            "WARNING:absl:Found untraced functions such as lstm_cell_layer_call_fn, lstm_cell_layer_call_and_return_conditional_losses, lstm_cell_1_layer_call_fn, lstm_cell_1_layer_call_and_return_conditional_losses while saving (showing 4 of 4). These functions will not be directly callable after loading.\n"
          ]
        },
        {
          "output_type": "stream",
          "name": "stdout",
          "text": [
            "INFO:tensorflow:Assets written to: /content/drive/My Drive/assets\n"
          ]
        },
        {
          "output_type": "stream",
          "name": "stderr",
          "text": [
            "INFO:tensorflow:Assets written to: /content/drive/My Drive/assets\n",
            "WARNING:absl:<keras.layers.recurrent.LSTMCell object at 0x7fb3ffecbd50> has the same name 'LSTMCell' as a built-in Keras object. Consider renaming <class 'keras.layers.recurrent.LSTMCell'> to avoid naming conflicts when loading with `tf.keras.models.load_model`. If renaming is not possible, pass the object in the `custom_objects` parameter of the load function.\n",
            "WARNING:absl:<keras.layers.recurrent.LSTMCell object at 0x7fb38749db10> has the same name 'LSTMCell' as a built-in Keras object. Consider renaming <class 'keras.layers.recurrent.LSTMCell'> to avoid naming conflicts when loading with `tf.keras.models.load_model`. If renaming is not possible, pass the object in the `custom_objects` parameter of the load function.\n"
          ]
        },
        {
          "output_type": "stream",
          "name": "stdout",
          "text": [
            "\b\b\b\b\b\b\b\b\b\b\b\b\b\b\b\b\b\b\b\b\b\b\b\b\b\b\b\b\b\b\b\b\b\b\b\b\b\b\b\b\b\b\b\b\b\b\b\b\b\b\b\b\b\b\b\b\b\b\b\b\b\b\b\b\b\b\b\b\b\b\b\b\b\b\b\b\b\r20/20 [==============================] - 19s 989ms/step - loss: 2.2540 - acc: 0.3391 - val_loss: 2.2211 - val_acc: 0.3517\n",
            "Epoch 41/1000\n",
            "19/20 [===========================>..] - ETA: 0s - loss: 2.2244 - acc: 0.3405\n",
            "----- Generating text after Epoch: 40\n",
            "----- Generating with seed: \"ump hitting the nail\"\n",
            "ump hitting the nailke adecfredtels howtre thack the veel hoterepe i deonty warezse theedent hat deer andoriattlerssficlinitzoutien beps hasx wos moxy tho tras \n",
            "Epoch 41: val_loss improved from 2.22110 to 2.19831, saving model to /content/drive/My Drive/\n"
          ]
        },
        {
          "output_type": "stream",
          "name": "stderr",
          "text": [
            "WARNING:absl:Found untraced functions such as lstm_cell_layer_call_fn, lstm_cell_layer_call_and_return_conditional_losses, lstm_cell_1_layer_call_fn, lstm_cell_1_layer_call_and_return_conditional_losses while saving (showing 4 of 4). These functions will not be directly callable after loading.\n"
          ]
        },
        {
          "output_type": "stream",
          "name": "stdout",
          "text": [
            "INFO:tensorflow:Assets written to: /content/drive/My Drive/assets\n"
          ]
        },
        {
          "output_type": "stream",
          "name": "stderr",
          "text": [
            "INFO:tensorflow:Assets written to: /content/drive/My Drive/assets\n",
            "WARNING:absl:<keras.layers.recurrent.LSTMCell object at 0x7fb3ffecbd50> has the same name 'LSTMCell' as a built-in Keras object. Consider renaming <class 'keras.layers.recurrent.LSTMCell'> to avoid naming conflicts when loading with `tf.keras.models.load_model`. If renaming is not possible, pass the object in the `custom_objects` parameter of the load function.\n",
            "WARNING:absl:<keras.layers.recurrent.LSTMCell object at 0x7fb38749db10> has the same name 'LSTMCell' as a built-in Keras object. Consider renaming <class 'keras.layers.recurrent.LSTMCell'> to avoid naming conflicts when loading with `tf.keras.models.load_model`. If renaming is not possible, pass the object in the `custom_objects` parameter of the load function.\n"
          ]
        },
        {
          "output_type": "stream",
          "name": "stdout",
          "text": [
            "\b\b\b\b\b\b\b\b\b\b\b\b\b\b\b\b\b\b\b\b\b\b\b\b\b\b\b\b\b\b\b\b\b\b\b\b\b\b\b\b\b\b\b\b\b\b\b\b\b\b\b\b\b\b\b\b\b\b\b\b\b\b\b\b\b\b\b\b\b\b\b\b\b\b\b\b\b\r20/20 [==============================] - 19s 1s/step - loss: 2.2252 - acc: 0.3406 - val_loss: 2.1983 - val_acc: 0.3601\n",
            "Epoch 42/1000\n",
            "19/20 [===========================>..] - ETA: 0s - loss: 2.1929 - acc: 0.3520\n",
            "----- Generating text after Epoch: 41\n",
            "----- Generating with seed: \"leaaaase run for pre\"\n",
            "leaaaase run for prester onetxoe theimatte think fo douterlegs ig ovetefler then notrucd juvarnytteny worerey adter prebeumpes the that to whe dion to ther plic\n",
            "Epoch 42: val_loss did not improve from 2.19831\n",
            "20/20 [==============================] - 10s 504ms/step - loss: 2.1869 - acc: 0.3543 - val_loss: 2.2100 - val_acc: 0.3561\n",
            "Epoch 43/1000\n",
            "19/20 [===========================>..] - ETA: 0s - loss: 2.1528 - acc: 0.3618\n",
            "----- Generating text after Epoch: 42\n",
            "----- Generating with seed: \"they realize how imp\"\n",
            "they realize how impy noppicssan pmap ing cits in int gict yous i wiss toutsy cowtte pidion is but niig reost grealdofion if inbalt it euctup sttitse licend tis\n",
            "Epoch 43: val_loss did not improve from 2.19831\n",
            "20/20 [==============================] - 10s 528ms/step - loss: 2.1584 - acc: 0.3617 - val_loss: 2.2039 - val_acc: 0.3571\n",
            "Epoch 44/1000\n",
            "19/20 [===========================>..] - ETA: 0s - loss: 2.2867 - acc: 0.3322\n",
            "----- Generating text after Epoch: 43\n",
            "----- Generating with seed: \"s angeles amazing ro\"\n",
            "s angeles amazing robloobicamel yor ceia bih wenedstritgita ou treet res trecurend ret yer apreite peeme cher an the ins we to neat et tato atht tris be yeos co\n",
            "Epoch 44: val_loss improved from 2.19831 to 2.18506, saving model to /content/drive/My Drive/\n"
          ]
        },
        {
          "output_type": "stream",
          "name": "stderr",
          "text": [
            "WARNING:absl:Found untraced functions such as lstm_cell_layer_call_fn, lstm_cell_layer_call_and_return_conditional_losses, lstm_cell_1_layer_call_fn, lstm_cell_1_layer_call_and_return_conditional_losses while saving (showing 4 of 4). These functions will not be directly callable after loading.\n"
          ]
        },
        {
          "output_type": "stream",
          "name": "stdout",
          "text": [
            "INFO:tensorflow:Assets written to: /content/drive/My Drive/assets\n"
          ]
        },
        {
          "output_type": "stream",
          "name": "stderr",
          "text": [
            "INFO:tensorflow:Assets written to: /content/drive/My Drive/assets\n",
            "WARNING:absl:<keras.layers.recurrent.LSTMCell object at 0x7fb3ffecbd50> has the same name 'LSTMCell' as a built-in Keras object. Consider renaming <class 'keras.layers.recurrent.LSTMCell'> to avoid naming conflicts when loading with `tf.keras.models.load_model`. If renaming is not possible, pass the object in the `custom_objects` parameter of the load function.\n",
            "WARNING:absl:<keras.layers.recurrent.LSTMCell object at 0x7fb38749db10> has the same name 'LSTMCell' as a built-in Keras object. Consider renaming <class 'keras.layers.recurrent.LSTMCell'> to avoid naming conflicts when loading with `tf.keras.models.load_model`. If renaming is not possible, pass the object in the `custom_objects` parameter of the load function.\n"
          ]
        },
        {
          "output_type": "stream",
          "name": "stdout",
          "text": [
            "\b\b\b\b\b\b\b\b\b\b\b\b\b\b\b\b\b\b\b\b\b\b\b\b\b\b\b\b\b\b\b\b\b\b\b\b\b\b\b\b\b\b\b\b\b\b\b\b\b\b\b\b\b\b\b\b\b\b\b\b\b\b\b\b\b\b\b\b\b\b\b\b\b\b\b\b\b\r20/20 [==============================] - 19s 998ms/step - loss: 2.2843 - acc: 0.3324 - val_loss: 2.1851 - val_acc: 0.3545\n",
            "Epoch 45/1000\n",
            "19/20 [===========================>..] - ETA: 0s - loss: 2.2076 - acc: 0.3524\n",
            "----- Generating text after Epoch: 44\n",
            "----- Generating with seed: \" too totally wonderf\"\n",
            " too totally wonderferica ere clatend coula emaraaliis biging htpp t co ismnz  zingveshite the mewe repipitedant it bos elcelbes pricgong th t sour i confelmon \n",
            "Epoch 45: val_loss improved from 2.18506 to 2.17903, saving model to /content/drive/My Drive/\n"
          ]
        },
        {
          "output_type": "stream",
          "name": "stderr",
          "text": [
            "WARNING:absl:Found untraced functions such as lstm_cell_layer_call_fn, lstm_cell_layer_call_and_return_conditional_losses, lstm_cell_1_layer_call_fn, lstm_cell_1_layer_call_and_return_conditional_losses while saving (showing 4 of 4). These functions will not be directly callable after loading.\n"
          ]
        },
        {
          "output_type": "stream",
          "name": "stdout",
          "text": [
            "INFO:tensorflow:Assets written to: /content/drive/My Drive/assets\n"
          ]
        },
        {
          "output_type": "stream",
          "name": "stderr",
          "text": [
            "INFO:tensorflow:Assets written to: /content/drive/My Drive/assets\n",
            "WARNING:absl:<keras.layers.recurrent.LSTMCell object at 0x7fb3ffecbd50> has the same name 'LSTMCell' as a built-in Keras object. Consider renaming <class 'keras.layers.recurrent.LSTMCell'> to avoid naming conflicts when loading with `tf.keras.models.load_model`. If renaming is not possible, pass the object in the `custom_objects` parameter of the load function.\n",
            "WARNING:absl:<keras.layers.recurrent.LSTMCell object at 0x7fb38749db10> has the same name 'LSTMCell' as a built-in Keras object. Consider renaming <class 'keras.layers.recurrent.LSTMCell'> to avoid naming conflicts when loading with `tf.keras.models.load_model`. If renaming is not possible, pass the object in the `custom_objects` parameter of the load function.\n"
          ]
        },
        {
          "output_type": "stream",
          "name": "stdout",
          "text": [
            "\b\b\b\b\b\b\b\b\b\b\b\b\b\b\b\b\b\b\b\b\b\b\b\b\b\b\b\b\b\b\b\b\b\b\b\b\b\b\b\b\b\b\b\b\b\b\b\b\b\b\b\b\b\b\b\b\b\b\b\b\b\b\b\b\b\b\b\b\b\b\b\b\b\b\b\b\b\r20/20 [==============================] - 19s 1s/step - loss: 2.2107 - acc: 0.3492 - val_loss: 2.1790 - val_acc: 0.3583\n",
            "Epoch 46/1000\n",
            "19/20 [===========================>..] - ETA: 0s - loss: 2.1598 - acc: 0.3653\n",
            "----- Generating text after Epoch: 45\n",
            "----- Generating with seed: \"un for president in \"\n",
            "un for president in thy thiselh greecze nlicinssoota heway vitteray cleamard andignitt wokhiding talor tat efn https t co xtt zsfbt you elike jackuich rur hnwk \n",
            "Epoch 46: val_loss improved from 2.17903 to 2.17168, saving model to /content/drive/My Drive/\n"
          ]
        },
        {
          "output_type": "stream",
          "name": "stderr",
          "text": [
            "WARNING:absl:Found untraced functions such as lstm_cell_layer_call_fn, lstm_cell_layer_call_and_return_conditional_losses, lstm_cell_1_layer_call_fn, lstm_cell_1_layer_call_and_return_conditional_losses while saving (showing 4 of 4). These functions will not be directly callable after loading.\n"
          ]
        },
        {
          "output_type": "stream",
          "name": "stdout",
          "text": [
            "INFO:tensorflow:Assets written to: /content/drive/My Drive/assets\n"
          ]
        },
        {
          "output_type": "stream",
          "name": "stderr",
          "text": [
            "INFO:tensorflow:Assets written to: /content/drive/My Drive/assets\n",
            "WARNING:absl:<keras.layers.recurrent.LSTMCell object at 0x7fb3ffecbd50> has the same name 'LSTMCell' as a built-in Keras object. Consider renaming <class 'keras.layers.recurrent.LSTMCell'> to avoid naming conflicts when loading with `tf.keras.models.load_model`. If renaming is not possible, pass the object in the `custom_objects` parameter of the load function.\n",
            "WARNING:absl:<keras.layers.recurrent.LSTMCell object at 0x7fb38749db10> has the same name 'LSTMCell' as a built-in Keras object. Consider renaming <class 'keras.layers.recurrent.LSTMCell'> to avoid naming conflicts when loading with `tf.keras.models.load_model`. If renaming is not possible, pass the object in the `custom_objects` parameter of the load function.\n"
          ]
        },
        {
          "output_type": "stream",
          "name": "stdout",
          "text": [
            "\b\b\b\b\b\b\b\b\b\b\b\b\b\b\b\b\b\b\b\b\b\b\b\b\b\b\b\b\b\b\b\b\b\b\b\b\b\b\b\b\b\b\b\b\b\b\b\b\b\b\b\b\b\b\b\b\b\b\b\b\b\b\b\b\b\b\b\b\b\b\b\b\b\b\b\b\b\r20/20 [==============================] - 19s 991ms/step - loss: 2.1635 - acc: 0.3623 - val_loss: 2.1717 - val_acc: 0.3626\n",
            "Epoch 47/1000\n",
            "19/20 [===========================>..] - ETA: 0s - loss: 2.1585 - acc: 0.3635\n",
            "----- Generating text after Epoch: 46\n",
            "----- Generating with seed: \" math trump b m equi\"\n",
            " math trump b m equica wert deome co ep dang sankas ulimes s rukcsfant huske pren of andonos hy we to porl yare vas tha lojar a cherels that gutte the wesde tha\n",
            "Epoch 47: val_loss improved from 2.17168 to 2.17098, saving model to /content/drive/My Drive/\n"
          ]
        },
        {
          "output_type": "stream",
          "name": "stderr",
          "text": [
            "WARNING:absl:Found untraced functions such as lstm_cell_layer_call_fn, lstm_cell_layer_call_and_return_conditional_losses, lstm_cell_1_layer_call_fn, lstm_cell_1_layer_call_and_return_conditional_losses while saving (showing 4 of 4). These functions will not be directly callable after loading.\n"
          ]
        },
        {
          "output_type": "stream",
          "name": "stdout",
          "text": [
            "INFO:tensorflow:Assets written to: /content/drive/My Drive/assets\n"
          ]
        },
        {
          "output_type": "stream",
          "name": "stderr",
          "text": [
            "INFO:tensorflow:Assets written to: /content/drive/My Drive/assets\n",
            "WARNING:absl:<keras.layers.recurrent.LSTMCell object at 0x7fb3ffecbd50> has the same name 'LSTMCell' as a built-in Keras object. Consider renaming <class 'keras.layers.recurrent.LSTMCell'> to avoid naming conflicts when loading with `tf.keras.models.load_model`. If renaming is not possible, pass the object in the `custom_objects` parameter of the load function.\n",
            "WARNING:absl:<keras.layers.recurrent.LSTMCell object at 0x7fb38749db10> has the same name 'LSTMCell' as a built-in Keras object. Consider renaming <class 'keras.layers.recurrent.LSTMCell'> to avoid naming conflicts when loading with `tf.keras.models.load_model`. If renaming is not possible, pass the object in the `custom_objects` parameter of the load function.\n"
          ]
        },
        {
          "output_type": "stream",
          "name": "stdout",
          "text": [
            "\b\b\b\b\b\b\b\b\b\b\b\b\b\b\b\b\b\b\b\b\b\b\b\b\b\b\b\b\b\b\b\b\b\b\b\b\b\b\b\b\b\b\b\b\b\b\b\b\b\b\b\b\b\b\b\b\b\b\b\b\b\b\b\b\b\b\b\b\b\b\b\b\b\b\b\b\b\r20/20 [==============================] - 19s 979ms/step - loss: 2.1597 - acc: 0.3652 - val_loss: 2.1710 - val_acc: 0.3601\n",
            "Epoch 48/1000\n",
            "19/20 [===========================>..] - ETA: 0s - loss: 2.1599 - acc: 0.3532\n",
            "----- Generating text after Epoch: 47\n",
            "----- Generating with seed: \"e and deadly mistake\"\n",
            "e and deadly mistakeen benmignat greget you to ndap bnt the ent you k ke sseetor co a cocpre faprel cong ath ryeyladicl sarplfredlon plats reox pleallcon relkor\n",
            "Epoch 48: val_loss improved from 2.17098 to 2.15784, saving model to /content/drive/My Drive/\n"
          ]
        },
        {
          "output_type": "stream",
          "name": "stderr",
          "text": [
            "WARNING:absl:Found untraced functions such as lstm_cell_layer_call_fn, lstm_cell_layer_call_and_return_conditional_losses, lstm_cell_1_layer_call_fn, lstm_cell_1_layer_call_and_return_conditional_losses while saving (showing 4 of 4). These functions will not be directly callable after loading.\n"
          ]
        },
        {
          "output_type": "stream",
          "name": "stdout",
          "text": [
            "INFO:tensorflow:Assets written to: /content/drive/My Drive/assets\n"
          ]
        },
        {
          "output_type": "stream",
          "name": "stderr",
          "text": [
            "INFO:tensorflow:Assets written to: /content/drive/My Drive/assets\n",
            "WARNING:absl:<keras.layers.recurrent.LSTMCell object at 0x7fb3ffecbd50> has the same name 'LSTMCell' as a built-in Keras object. Consider renaming <class 'keras.layers.recurrent.LSTMCell'> to avoid naming conflicts when loading with `tf.keras.models.load_model`. If renaming is not possible, pass the object in the `custom_objects` parameter of the load function.\n",
            "WARNING:absl:<keras.layers.recurrent.LSTMCell object at 0x7fb38749db10> has the same name 'LSTMCell' as a built-in Keras object. Consider renaming <class 'keras.layers.recurrent.LSTMCell'> to avoid naming conflicts when loading with `tf.keras.models.load_model`. If renaming is not possible, pass the object in the `custom_objects` parameter of the load function.\n"
          ]
        },
        {
          "output_type": "stream",
          "name": "stdout",
          "text": [
            "\b\b\b\b\b\b\b\b\b\b\b\b\b\b\b\b\b\b\b\b\b\b\b\b\b\b\b\b\b\b\b\b\b\b\b\b\b\b\b\b\b\b\b\b\b\b\b\b\b\b\b\b\b\b\b\b\b\b\b\b\b\b\b\b\b\b\b\b\b\b\b\b\b\b\b\b\b\r20/20 [==============================] - 19s 1s/step - loss: 2.1603 - acc: 0.3543 - val_loss: 2.1578 - val_acc: 0.3714\n",
            "Epoch 49/1000\n",
            "19/20 [===========================>..] - ETA: 0s - loss: 2.1571 - acc: 0.3684\n",
            "----- Generating text after Epoch: 48\n",
            "----- Generating with seed: \"ing first things fir\"\n",
            "ing first things fir remenss ris in toreficor h tt t co je kvtte bupliing thk tess lises the is ofilate oherconfine to cawr gor yhip onay corend of ireak fanton\n",
            "Epoch 49: val_loss improved from 2.15784 to 2.14586, saving model to /content/drive/My Drive/\n"
          ]
        },
        {
          "output_type": "stream",
          "name": "stderr",
          "text": [
            "WARNING:absl:Found untraced functions such as lstm_cell_layer_call_fn, lstm_cell_layer_call_and_return_conditional_losses, lstm_cell_1_layer_call_fn, lstm_cell_1_layer_call_and_return_conditional_losses while saving (showing 4 of 4). These functions will not be directly callable after loading.\n"
          ]
        },
        {
          "output_type": "stream",
          "name": "stdout",
          "text": [
            "INFO:tensorflow:Assets written to: /content/drive/My Drive/assets\n"
          ]
        },
        {
          "output_type": "stream",
          "name": "stderr",
          "text": [
            "INFO:tensorflow:Assets written to: /content/drive/My Drive/assets\n",
            "WARNING:absl:<keras.layers.recurrent.LSTMCell object at 0x7fb3ffecbd50> has the same name 'LSTMCell' as a built-in Keras object. Consider renaming <class 'keras.layers.recurrent.LSTMCell'> to avoid naming conflicts when loading with `tf.keras.models.load_model`. If renaming is not possible, pass the object in the `custom_objects` parameter of the load function.\n",
            "WARNING:absl:<keras.layers.recurrent.LSTMCell object at 0x7fb38749db10> has the same name 'LSTMCell' as a built-in Keras object. Consider renaming <class 'keras.layers.recurrent.LSTMCell'> to avoid naming conflicts when loading with `tf.keras.models.load_model`. If renaming is not possible, pass the object in the `custom_objects` parameter of the load function.\n"
          ]
        },
        {
          "output_type": "stream",
          "name": "stdout",
          "text": [
            "\b\b\b\b\b\b\b\b\b\b\b\b\b\b\b\b\b\b\b\b\b\b\b\b\b\b\b\b\b\b\b\b\b\b\b\b\b\b\b\b\b\b\b\b\b\b\b\b\b\b\b\b\b\b\b\b\b\b\b\b\b\b\b\b\b\b\b\b\b\b\b\b\b\b\b\b\b\r20/20 [==============================] - 20s 1s/step - loss: 2.1554 - acc: 0.3703 - val_loss: 2.1459 - val_acc: 0.3708\n",
            "Epoch 50/1000\n",
            "19/20 [===========================>..] - ETA: 0s - loss: 2.1811 - acc: 0.3651\n",
            "----- Generating text after Epoch: 49\n",
            "----- Generating with seed: \" mztjgg mainstream m\"\n",
            " mztjgg mainstream me kap peric nor beflligres lims preale frum mur truttprs inud ne voxh the the etueth wtall jukeess lipllonntthh wisiles vost nus wasi ne cou\n",
            "Epoch 50: val_loss improved from 2.14586 to 2.14559, saving model to /content/drive/My Drive/\n"
          ]
        },
        {
          "output_type": "stream",
          "name": "stderr",
          "text": [
            "WARNING:absl:Found untraced functions such as lstm_cell_layer_call_fn, lstm_cell_layer_call_and_return_conditional_losses, lstm_cell_1_layer_call_fn, lstm_cell_1_layer_call_and_return_conditional_losses while saving (showing 4 of 4). These functions will not be directly callable after loading.\n"
          ]
        },
        {
          "output_type": "stream",
          "name": "stdout",
          "text": [
            "INFO:tensorflow:Assets written to: /content/drive/My Drive/assets\n"
          ]
        },
        {
          "output_type": "stream",
          "name": "stderr",
          "text": [
            "INFO:tensorflow:Assets written to: /content/drive/My Drive/assets\n",
            "WARNING:absl:<keras.layers.recurrent.LSTMCell object at 0x7fb3ffecbd50> has the same name 'LSTMCell' as a built-in Keras object. Consider renaming <class 'keras.layers.recurrent.LSTMCell'> to avoid naming conflicts when loading with `tf.keras.models.load_model`. If renaming is not possible, pass the object in the `custom_objects` parameter of the load function.\n",
            "WARNING:absl:<keras.layers.recurrent.LSTMCell object at 0x7fb38749db10> has the same name 'LSTMCell' as a built-in Keras object. Consider renaming <class 'keras.layers.recurrent.LSTMCell'> to avoid naming conflicts when loading with `tf.keras.models.load_model`. If renaming is not possible, pass the object in the `custom_objects` parameter of the load function.\n"
          ]
        },
        {
          "output_type": "stream",
          "name": "stdout",
          "text": [
            "\b\b\b\b\b\b\b\b\b\b\b\b\b\b\b\b\b\b\b\b\b\b\b\b\b\b\b\b\b\b\b\b\b\b\b\b\b\b\b\b\b\b\b\b\b\b\b\b\b\b\b\b\b\b\b\b\b\b\b\b\b\b\b\b\b\b\b\b\b\b\b\b\b\b\b\b\b\r20/20 [==============================] - 22s 1s/step - loss: 2.1743 - acc: 0.3680 - val_loss: 2.1456 - val_acc: 0.3637\n",
            "Epoch 51/1000\n",
            "20/20 [==============================] - ETA: 0s - loss: 2.1363 - acc: 0.3621\n",
            "----- Generating text after Epoch: 50\n",
            "----- Generating with seed: \"nal doral to check t\"\n",
            "nal doral to check thotke of reasd sedrect not chantar ow wirs porodery be kos the sianvey is winn txamkebde wfrtiben stas het phe casd of tho haneding umpbosa \n",
            "Epoch 51: val_loss did not improve from 2.14559\n",
            "20/20 [==============================] - 13s 690ms/step - loss: 2.1363 - acc: 0.3621 - val_loss: 2.1512 - val_acc: 0.3717\n",
            "Epoch 52/1000\n",
            "19/20 [===========================>..] - ETA: 0s - loss: 2.1583 - acc: 0.3598\n",
            "----- Generating text after Epoch: 51\n",
            "----- Generating with seed: \"ll of those that bel\"\n",
            "ll of those that belotter orwine ceurefc je phing http t co icifagv ecifbt s toverns fiwp op busceyuberodes thyorkan highas razoir laml theel koll stall un mint\n",
            "Epoch 52: val_loss improved from 2.14559 to 2.13066, saving model to /content/drive/My Drive/\n"
          ]
        },
        {
          "output_type": "stream",
          "name": "stderr",
          "text": [
            "WARNING:absl:Found untraced functions such as lstm_cell_layer_call_fn, lstm_cell_layer_call_and_return_conditional_losses, lstm_cell_1_layer_call_fn, lstm_cell_1_layer_call_and_return_conditional_losses while saving (showing 4 of 4). These functions will not be directly callable after loading.\n"
          ]
        },
        {
          "output_type": "stream",
          "name": "stdout",
          "text": [
            "INFO:tensorflow:Assets written to: /content/drive/My Drive/assets\n"
          ]
        },
        {
          "output_type": "stream",
          "name": "stderr",
          "text": [
            "INFO:tensorflow:Assets written to: /content/drive/My Drive/assets\n",
            "WARNING:absl:<keras.layers.recurrent.LSTMCell object at 0x7fb3ffecbd50> has the same name 'LSTMCell' as a built-in Keras object. Consider renaming <class 'keras.layers.recurrent.LSTMCell'> to avoid naming conflicts when loading with `tf.keras.models.load_model`. If renaming is not possible, pass the object in the `custom_objects` parameter of the load function.\n",
            "WARNING:absl:<keras.layers.recurrent.LSTMCell object at 0x7fb38749db10> has the same name 'LSTMCell' as a built-in Keras object. Consider renaming <class 'keras.layers.recurrent.LSTMCell'> to avoid naming conflicts when loading with `tf.keras.models.load_model`. If renaming is not possible, pass the object in the `custom_objects` parameter of the load function.\n"
          ]
        },
        {
          "output_type": "stream",
          "name": "stdout",
          "text": [
            "\b\b\b\b\b\b\b\b\b\b\b\b\b\b\b\b\b\b\b\b\b\b\b\b\b\b\b\b\b\b\b\b\b\b\b\b\b\b\b\b\b\b\b\b\b\b\b\b\b\b\b\b\b\b\b\b\b\b\b\b\b\b\b\b\b\b\b\b\b\b\b\b\b\b\b\b\b\r20/20 [==============================] - 19s 986ms/step - loss: 2.1557 - acc: 0.3602 - val_loss: 2.1307 - val_acc: 0.3742\n",
            "Epoch 53/1000\n",
            "19/20 [===========================>..] - ETA: 0s - loss: 2.1275 - acc: 0.3746\n",
            "----- Generating text after Epoch: 52\n",
            "----- Generating with seed: \"wrong all on merit l\"\n",
            "wrong all on merit las wond tany ms fern we po and on app retosne by thai an mpam wint hatime tuor than  miin mt clirn tho fato htdss to xanlmt he gpe bi wours \n",
            "Epoch 53: val_loss improved from 2.13066 to 2.12385, saving model to /content/drive/My Drive/\n"
          ]
        },
        {
          "output_type": "stream",
          "name": "stderr",
          "text": [
            "WARNING:absl:Found untraced functions such as lstm_cell_layer_call_fn, lstm_cell_layer_call_and_return_conditional_losses, lstm_cell_1_layer_call_fn, lstm_cell_1_layer_call_and_return_conditional_losses while saving (showing 4 of 4). These functions will not be directly callable after loading.\n"
          ]
        },
        {
          "output_type": "stream",
          "name": "stdout",
          "text": [
            "INFO:tensorflow:Assets written to: /content/drive/My Drive/assets\n"
          ]
        },
        {
          "output_type": "stream",
          "name": "stderr",
          "text": [
            "INFO:tensorflow:Assets written to: /content/drive/My Drive/assets\n",
            "WARNING:absl:<keras.layers.recurrent.LSTMCell object at 0x7fb3ffecbd50> has the same name 'LSTMCell' as a built-in Keras object. Consider renaming <class 'keras.layers.recurrent.LSTMCell'> to avoid naming conflicts when loading with `tf.keras.models.load_model`. If renaming is not possible, pass the object in the `custom_objects` parameter of the load function.\n",
            "WARNING:absl:<keras.layers.recurrent.LSTMCell object at 0x7fb38749db10> has the same name 'LSTMCell' as a built-in Keras object. Consider renaming <class 'keras.layers.recurrent.LSTMCell'> to avoid naming conflicts when loading with `tf.keras.models.load_model`. If renaming is not possible, pass the object in the `custom_objects` parameter of the load function.\n"
          ]
        },
        {
          "output_type": "stream",
          "name": "stdout",
          "text": [
            "\b\b\b\b\b\b\b\b\b\b\b\b\b\b\b\b\b\b\b\b\b\b\b\b\b\b\b\b\b\b\b\b\b\b\b\b\b\b\b\b\b\b\b\b\b\b\b\b\b\b\b\b\b\b\b\b\b\b\b\b\b\b\b\b\b\b\b\b\b\b\b\b\b\b\b\b\b\r20/20 [==============================] - 19s 997ms/step - loss: 2.1332 - acc: 0.3734 - val_loss: 2.1238 - val_acc: 0.3784\n",
            "Epoch 54/1000\n",
            "19/20 [===========================>..] - ETA: 0s - loss: 2.1182 - acc: 0.3783\n",
            "----- Generating text after Epoch: 53\n",
            "----- Generating with seed: \"ew by jeffrey lord a\"\n",
            "ew by jeffrey lord amy atoly grounding maand go th bkaker tee tremper thet meobaall to sed pog thy greaviny hts aro amponemiawaon i ppelecad to tiemer t das yfa\n",
            "Epoch 54: val_loss improved from 2.12385 to 2.11537, saving model to /content/drive/My Drive/\n"
          ]
        },
        {
          "output_type": "stream",
          "name": "stderr",
          "text": [
            "WARNING:absl:Found untraced functions such as lstm_cell_layer_call_fn, lstm_cell_layer_call_and_return_conditional_losses, lstm_cell_1_layer_call_fn, lstm_cell_1_layer_call_and_return_conditional_losses while saving (showing 4 of 4). These functions will not be directly callable after loading.\n"
          ]
        },
        {
          "output_type": "stream",
          "name": "stdout",
          "text": [
            "INFO:tensorflow:Assets written to: /content/drive/My Drive/assets\n"
          ]
        },
        {
          "output_type": "stream",
          "name": "stderr",
          "text": [
            "INFO:tensorflow:Assets written to: /content/drive/My Drive/assets\n",
            "WARNING:absl:<keras.layers.recurrent.LSTMCell object at 0x7fb3ffecbd50> has the same name 'LSTMCell' as a built-in Keras object. Consider renaming <class 'keras.layers.recurrent.LSTMCell'> to avoid naming conflicts when loading with `tf.keras.models.load_model`. If renaming is not possible, pass the object in the `custom_objects` parameter of the load function.\n",
            "WARNING:absl:<keras.layers.recurrent.LSTMCell object at 0x7fb38749db10> has the same name 'LSTMCell' as a built-in Keras object. Consider renaming <class 'keras.layers.recurrent.LSTMCell'> to avoid naming conflicts when loading with `tf.keras.models.load_model`. If renaming is not possible, pass the object in the `custom_objects` parameter of the load function.\n"
          ]
        },
        {
          "output_type": "stream",
          "name": "stdout",
          "text": [
            "\b\b\b\b\b\b\b\b\b\b\b\b\b\b\b\b\b\b\b\b\b\b\b\b\b\b\b\b\b\b\b\b\b\b\b\b\b\b\b\b\b\b\b\b\b\b\b\b\b\b\b\b\b\b\b\b\b\b\b\b\b\b\b\b\b\b\b\b\b\b\b\b\b\b\b\b\b\r20/20 [==============================] - 19s 975ms/step - loss: 2.1137 - acc: 0.3793 - val_loss: 2.1154 - val_acc: 0.3760\n",
            "Epoch 55/1000\n",
            "19/20 [===========================>..] - ETA: 0s - loss: 2.2144 - acc: 0.3532\n",
            "----- Generating text after Epoch: 54\n",
            "----- Generating with seed: \"logynow yes in deed \"\n",
            "logynow yes in deed http t co i pd  zj m colterd birse htisp forting gist dot doory shac in http s co oxpxgagb ff tho thing sad bit go re poredyrmatd de the alb\n",
            "Epoch 55: val_loss did not improve from 2.11537\n",
            "20/20 [==============================] - 9s 483ms/step - loss: 2.2183 - acc: 0.3535 - val_loss: 2.1183 - val_acc: 0.3742\n",
            "Epoch 56/1000\n",
            "19/20 [===========================>..] - ETA: 0s - loss: 2.1092 - acc: 0.3684\n",
            "----- Generating text after Epoch: 55\n",
            "----- Generating with seed: \"vesc vilmawolfe real\"\n",
            "vesc vilmawolfe realdanandtrump e the ties toold heach tocoed cousiuncpa ams aprens inseums daaldiraldimus molle poporulia amp grencany croude a bet mact to fla\n",
            "Epoch 56: val_loss improved from 2.11537 to 2.11264, saving model to /content/drive/My Drive/\n"
          ]
        },
        {
          "output_type": "stream",
          "name": "stderr",
          "text": [
            "WARNING:absl:Found untraced functions such as lstm_cell_layer_call_fn, lstm_cell_layer_call_and_return_conditional_losses, lstm_cell_1_layer_call_fn, lstm_cell_1_layer_call_and_return_conditional_losses while saving (showing 4 of 4). These functions will not be directly callable after loading.\n"
          ]
        },
        {
          "output_type": "stream",
          "name": "stdout",
          "text": [
            "INFO:tensorflow:Assets written to: /content/drive/My Drive/assets\n"
          ]
        },
        {
          "output_type": "stream",
          "name": "stderr",
          "text": [
            "INFO:tensorflow:Assets written to: /content/drive/My Drive/assets\n",
            "WARNING:absl:<keras.layers.recurrent.LSTMCell object at 0x7fb3ffecbd50> has the same name 'LSTMCell' as a built-in Keras object. Consider renaming <class 'keras.layers.recurrent.LSTMCell'> to avoid naming conflicts when loading with `tf.keras.models.load_model`. If renaming is not possible, pass the object in the `custom_objects` parameter of the load function.\n",
            "WARNING:absl:<keras.layers.recurrent.LSTMCell object at 0x7fb38749db10> has the same name 'LSTMCell' as a built-in Keras object. Consider renaming <class 'keras.layers.recurrent.LSTMCell'> to avoid naming conflicts when loading with `tf.keras.models.load_model`. If renaming is not possible, pass the object in the `custom_objects` parameter of the load function.\n"
          ]
        },
        {
          "output_type": "stream",
          "name": "stdout",
          "text": [
            "\b\b\b\b\b\b\b\b\b\b\b\b\b\b\b\b\b\b\b\b\b\b\b\b\b\b\b\b\b\b\b\b\b\b\b\b\b\b\b\b\b\b\b\b\b\b\b\b\b\b\b\b\b\b\b\b\b\b\b\b\b\b\b\b\b\b\b\b\b\b\b\b\b\b\b\b\b\r20/20 [==============================] - 19s 975ms/step - loss: 2.1055 - acc: 0.3680 - val_loss: 2.1126 - val_acc: 0.3782\n",
            "Epoch 57/1000\n",
            "19/20 [===========================>..] - ETA: 0s - loss: 2.1223 - acc: 0.3664\n",
            "----- Generating text after Epoch: 56\n",
            "----- Generating with seed: \"sissippi remember th\"\n",
            "sissippi remember the ones util ib gostlimakd ou previce micssoart maveons totell but ivermenty of dapluwer qo tha koroy tomedtor on ofarl proetay onested overt\n",
            "Epoch 57: val_loss improved from 2.11264 to 2.10395, saving model to /content/drive/My Drive/\n"
          ]
        },
        {
          "output_type": "stream",
          "name": "stderr",
          "text": [
            "WARNING:absl:Found untraced functions such as lstm_cell_layer_call_fn, lstm_cell_layer_call_and_return_conditional_losses, lstm_cell_1_layer_call_fn, lstm_cell_1_layer_call_and_return_conditional_losses while saving (showing 4 of 4). These functions will not be directly callable after loading.\n"
          ]
        },
        {
          "output_type": "stream",
          "name": "stdout",
          "text": [
            "INFO:tensorflow:Assets written to: /content/drive/My Drive/assets\n"
          ]
        },
        {
          "output_type": "stream",
          "name": "stderr",
          "text": [
            "INFO:tensorflow:Assets written to: /content/drive/My Drive/assets\n",
            "WARNING:absl:<keras.layers.recurrent.LSTMCell object at 0x7fb3ffecbd50> has the same name 'LSTMCell' as a built-in Keras object. Consider renaming <class 'keras.layers.recurrent.LSTMCell'> to avoid naming conflicts when loading with `tf.keras.models.load_model`. If renaming is not possible, pass the object in the `custom_objects` parameter of the load function.\n",
            "WARNING:absl:<keras.layers.recurrent.LSTMCell object at 0x7fb38749db10> has the same name 'LSTMCell' as a built-in Keras object. Consider renaming <class 'keras.layers.recurrent.LSTMCell'> to avoid naming conflicts when loading with `tf.keras.models.load_model`. If renaming is not possible, pass the object in the `custom_objects` parameter of the load function.\n"
          ]
        },
        {
          "output_type": "stream",
          "name": "stdout",
          "text": [
            "\b\b\b\b\b\b\b\b\b\b\b\b\b\b\b\b\b\b\b\b\b\b\b\b\b\b\b\b\b\b\b\b\b\b\b\b\b\b\b\b\b\b\b\b\b\b\b\b\b\b\b\b\b\b\b\b\b\b\b\b\b\b\b\b\b\b\b\b\b\b\b\b\b\b\b\b\b\r20/20 [==============================] - 19s 985ms/step - loss: 2.1134 - acc: 0.3672 - val_loss: 2.1039 - val_acc: 0.3719\n",
            "Epoch 58/1000\n",
            "19/20 [===========================>..] - ETA: 0s - loss: 2.0726 - acc: 0.3861\n",
            "----- Generating text after Epoch: 57\n",
            "----- Generating with seed: \"arge of the fisa cou\"\n",
            "arge of the fisa counisol inqrica hice e felrobed thut to be yow gresond ve domprull yov wirh ou loy etict masibm the berle ad you plerine awing for cca al anh \n",
            "Epoch 58: val_loss improved from 2.10395 to 2.09933, saving model to /content/drive/My Drive/\n"
          ]
        },
        {
          "output_type": "stream",
          "name": "stderr",
          "text": [
            "WARNING:absl:Found untraced functions such as lstm_cell_layer_call_fn, lstm_cell_layer_call_and_return_conditional_losses, lstm_cell_1_layer_call_fn, lstm_cell_1_layer_call_and_return_conditional_losses while saving (showing 4 of 4). These functions will not be directly callable after loading.\n"
          ]
        },
        {
          "output_type": "stream",
          "name": "stdout",
          "text": [
            "INFO:tensorflow:Assets written to: /content/drive/My Drive/assets\n"
          ]
        },
        {
          "output_type": "stream",
          "name": "stderr",
          "text": [
            "INFO:tensorflow:Assets written to: /content/drive/My Drive/assets\n",
            "WARNING:absl:<keras.layers.recurrent.LSTMCell object at 0x7fb3ffecbd50> has the same name 'LSTMCell' as a built-in Keras object. Consider renaming <class 'keras.layers.recurrent.LSTMCell'> to avoid naming conflicts when loading with `tf.keras.models.load_model`. If renaming is not possible, pass the object in the `custom_objects` parameter of the load function.\n",
            "WARNING:absl:<keras.layers.recurrent.LSTMCell object at 0x7fb38749db10> has the same name 'LSTMCell' as a built-in Keras object. Consider renaming <class 'keras.layers.recurrent.LSTMCell'> to avoid naming conflicts when loading with `tf.keras.models.load_model`. If renaming is not possible, pass the object in the `custom_objects` parameter of the load function.\n"
          ]
        },
        {
          "output_type": "stream",
          "name": "stdout",
          "text": [
            "\b\b\b\b\b\b\b\b\b\b\b\b\b\b\b\b\b\b\b\b\b\b\b\b\b\b\b\b\b\b\b\b\b\b\b\b\b\b\b\b\b\b\b\b\b\b\b\b\b\b\b\b\b\b\b\b\b\b\b\b\b\b\b\b\b\b\b\b\b\b\b\b\b\b\b\b\b\r20/20 [==============================] - 19s 988ms/step - loss: 2.0696 - acc: 0.3840 - val_loss: 2.0993 - val_acc: 0.3836\n",
            "Epoch 59/1000\n",
            "19/20 [===========================>..] - ETA: 0s - loss: 2.0736 - acc: 0.3791\n",
            "----- Generating text after Epoch: 58\n",
            "----- Generating with seed: \"ericagreatagain trum\"\n",
            "ericagreatagain trump ontaice to kighidiwalld to a fand deaplyifel couth the sbecwisf sthe yope of mos chutp and juting bet the shezed by sedibo a lousa mfuni a\n",
            "Epoch 59: val_loss improved from 2.09933 to 2.08841, saving model to /content/drive/My Drive/\n"
          ]
        },
        {
          "output_type": "stream",
          "name": "stderr",
          "text": [
            "WARNING:absl:Found untraced functions such as lstm_cell_layer_call_fn, lstm_cell_layer_call_and_return_conditional_losses, lstm_cell_1_layer_call_fn, lstm_cell_1_layer_call_and_return_conditional_losses while saving (showing 4 of 4). These functions will not be directly callable after loading.\n"
          ]
        },
        {
          "output_type": "stream",
          "name": "stdout",
          "text": [
            "INFO:tensorflow:Assets written to: /content/drive/My Drive/assets\n"
          ]
        },
        {
          "output_type": "stream",
          "name": "stderr",
          "text": [
            "INFO:tensorflow:Assets written to: /content/drive/My Drive/assets\n",
            "WARNING:absl:<keras.layers.recurrent.LSTMCell object at 0x7fb3ffecbd50> has the same name 'LSTMCell' as a built-in Keras object. Consider renaming <class 'keras.layers.recurrent.LSTMCell'> to avoid naming conflicts when loading with `tf.keras.models.load_model`. If renaming is not possible, pass the object in the `custom_objects` parameter of the load function.\n",
            "WARNING:absl:<keras.layers.recurrent.LSTMCell object at 0x7fb38749db10> has the same name 'LSTMCell' as a built-in Keras object. Consider renaming <class 'keras.layers.recurrent.LSTMCell'> to avoid naming conflicts when loading with `tf.keras.models.load_model`. If renaming is not possible, pass the object in the `custom_objects` parameter of the load function.\n"
          ]
        },
        {
          "output_type": "stream",
          "name": "stdout",
          "text": [
            "\b\b\b\b\b\b\b\b\b\b\b\b\b\b\b\b\b\b\b\b\b\b\b\b\b\b\b\b\b\b\b\b\b\b\b\b\b\b\b\b\b\b\b\b\b\b\b\b\b\b\b\b\b\b\b\b\b\b\b\b\b\b\b\b\b\b\b\b\b\b\b\b\b\b\b\b\b\r20/20 [==============================] - 19s 992ms/step - loss: 2.0671 - acc: 0.3797 - val_loss: 2.0884 - val_acc: 0.3887\n",
            "Epoch 60/1000\n",
            "19/20 [===========================>..] - ETA: 0s - loss: 2.0768 - acc: 0.3877\n",
            "----- Generating text after Epoch: 59\n",
            "----- Generating with seed: \"or mr trump it s cal\"\n",
            "or mr trump it s call cbe hing stong satife mo iut thy on souter ic tree ast y tope toor the bescoulle if an bucl the pibat and domsert we theuy s and ellydiog \n",
            "Epoch 60: val_loss improved from 2.08841 to 2.08580, saving model to /content/drive/My Drive/\n"
          ]
        },
        {
          "output_type": "stream",
          "name": "stderr",
          "text": [
            "WARNING:absl:Found untraced functions such as lstm_cell_layer_call_fn, lstm_cell_layer_call_and_return_conditional_losses, lstm_cell_1_layer_call_fn, lstm_cell_1_layer_call_and_return_conditional_losses while saving (showing 4 of 4). These functions will not be directly callable after loading.\n"
          ]
        },
        {
          "output_type": "stream",
          "name": "stdout",
          "text": [
            "INFO:tensorflow:Assets written to: /content/drive/My Drive/assets\n"
          ]
        },
        {
          "output_type": "stream",
          "name": "stderr",
          "text": [
            "INFO:tensorflow:Assets written to: /content/drive/My Drive/assets\n",
            "WARNING:absl:<keras.layers.recurrent.LSTMCell object at 0x7fb3ffecbd50> has the same name 'LSTMCell' as a built-in Keras object. Consider renaming <class 'keras.layers.recurrent.LSTMCell'> to avoid naming conflicts when loading with `tf.keras.models.load_model`. If renaming is not possible, pass the object in the `custom_objects` parameter of the load function.\n",
            "WARNING:absl:<keras.layers.recurrent.LSTMCell object at 0x7fb38749db10> has the same name 'LSTMCell' as a built-in Keras object. Consider renaming <class 'keras.layers.recurrent.LSTMCell'> to avoid naming conflicts when loading with `tf.keras.models.load_model`. If renaming is not possible, pass the object in the `custom_objects` parameter of the load function.\n"
          ]
        },
        {
          "output_type": "stream",
          "name": "stdout",
          "text": [
            "\b\b\b\b\b\b\b\b\b\b\b\b\b\b\b\b\b\b\b\b\b\b\b\b\b\b\b\b\b\b\b\b\b\b\b\b\b\b\b\b\b\b\b\b\b\b\b\b\b\b\b\b\b\b\b\b\b\b\b\b\b\b\b\b\b\b\b\b\b\b\b\b\b\b\b\b\b\r20/20 [==============================] - 19s 991ms/step - loss: 2.0747 - acc: 0.3863 - val_loss: 2.0858 - val_acc: 0.3803\n",
            "Epoch 61/1000\n",
            "19/20 [===========================>..] - ETA: 0s - loss: 2.0935 - acc: 0.3812\n",
            "----- Generating text after Epoch: 60\n",
            "----- Generating with seed: \"tvbliss ivankatrump \"\n",
            "tvbliss ivankatrump ben som boe hay gugry coprresty fith mabed emare ray the morits anifcoralt vet soungragod samine in canes wowe no anmexane dyarganpssttige s\n",
            "Epoch 61: val_loss improved from 2.08580 to 2.08101, saving model to /content/drive/My Drive/\n"
          ]
        },
        {
          "output_type": "stream",
          "name": "stderr",
          "text": [
            "WARNING:absl:Found untraced functions such as lstm_cell_layer_call_fn, lstm_cell_layer_call_and_return_conditional_losses, lstm_cell_1_layer_call_fn, lstm_cell_1_layer_call_and_return_conditional_losses while saving (showing 4 of 4). These functions will not be directly callable after loading.\n"
          ]
        },
        {
          "output_type": "stream",
          "name": "stdout",
          "text": [
            "INFO:tensorflow:Assets written to: /content/drive/My Drive/assets\n"
          ]
        },
        {
          "output_type": "stream",
          "name": "stderr",
          "text": [
            "INFO:tensorflow:Assets written to: /content/drive/My Drive/assets\n",
            "WARNING:absl:<keras.layers.recurrent.LSTMCell object at 0x7fb3ffecbd50> has the same name 'LSTMCell' as a built-in Keras object. Consider renaming <class 'keras.layers.recurrent.LSTMCell'> to avoid naming conflicts when loading with `tf.keras.models.load_model`. If renaming is not possible, pass the object in the `custom_objects` parameter of the load function.\n",
            "WARNING:absl:<keras.layers.recurrent.LSTMCell object at 0x7fb38749db10> has the same name 'LSTMCell' as a built-in Keras object. Consider renaming <class 'keras.layers.recurrent.LSTMCell'> to avoid naming conflicts when loading with `tf.keras.models.load_model`. If renaming is not possible, pass the object in the `custom_objects` parameter of the load function.\n"
          ]
        },
        {
          "output_type": "stream",
          "name": "stdout",
          "text": [
            "\b\b\b\b\b\b\b\b\b\b\b\b\b\b\b\b\b\b\b\b\b\b\b\b\b\b\b\b\b\b\b\b\b\b\b\b\b\b\b\b\b\b\b\b\b\b\b\b\b\b\b\b\b\b\b\b\b\b\b\b\b\b\b\b\b\b\b\b\b\b\b\b\b\b\b\b\b\r20/20 [==============================] - 19s 977ms/step - loss: 2.0893 - acc: 0.3825 - val_loss: 2.0810 - val_acc: 0.3858\n",
            "Epoch 62/1000\n",
            "19/20 [===========================>..] - ETA: 0s - loss: 2.0422 - acc: 0.3914\n",
            "----- Generating text after Epoch: 61\n",
            "----- Generating with seed: \"aldonaldtrump unmatc\"\n",
            "aldonaldtrump unmatcinn torambly of cladad thi hentice me bustters debime hus seing comation amexilcciten t if necdrestart de is res sirtiem berad sathe bet co \n",
            "Epoch 62: val_loss did not improve from 2.08101\n",
            "20/20 [==============================] - 9s 464ms/step - loss: 2.0418 - acc: 0.3902 - val_loss: 2.0928 - val_acc: 0.3792\n",
            "Epoch 63/1000\n",
            "19/20 [===========================>..] - ETA: 0s - loss: 2.0948 - acc: 0.3775\n",
            "----- Generating text after Epoch: 62\n",
            "----- Generating with seed: \" muller mike pompeo \"\n",
            " muller mike pompeo lif why sang paten taqwe a torale wrave mass lave will nevo to gily whoser gat no slour og yeryenes eviyon os forne minl jide sumpaojaal eve\n",
            "Epoch 63: val_loss improved from 2.08101 to 2.07212, saving model to /content/drive/My Drive/\n"
          ]
        },
        {
          "output_type": "stream",
          "name": "stderr",
          "text": [
            "WARNING:absl:Found untraced functions such as lstm_cell_layer_call_fn, lstm_cell_layer_call_and_return_conditional_losses, lstm_cell_1_layer_call_fn, lstm_cell_1_layer_call_and_return_conditional_losses while saving (showing 4 of 4). These functions will not be directly callable after loading.\n"
          ]
        },
        {
          "output_type": "stream",
          "name": "stdout",
          "text": [
            "INFO:tensorflow:Assets written to: /content/drive/My Drive/assets\n"
          ]
        },
        {
          "output_type": "stream",
          "name": "stderr",
          "text": [
            "INFO:tensorflow:Assets written to: /content/drive/My Drive/assets\n",
            "WARNING:absl:<keras.layers.recurrent.LSTMCell object at 0x7fb3ffecbd50> has the same name 'LSTMCell' as a built-in Keras object. Consider renaming <class 'keras.layers.recurrent.LSTMCell'> to avoid naming conflicts when loading with `tf.keras.models.load_model`. If renaming is not possible, pass the object in the `custom_objects` parameter of the load function.\n",
            "WARNING:absl:<keras.layers.recurrent.LSTMCell object at 0x7fb38749db10> has the same name 'LSTMCell' as a built-in Keras object. Consider renaming <class 'keras.layers.recurrent.LSTMCell'> to avoid naming conflicts when loading with `tf.keras.models.load_model`. If renaming is not possible, pass the object in the `custom_objects` parameter of the load function.\n"
          ]
        },
        {
          "output_type": "stream",
          "name": "stdout",
          "text": [
            "\b\b\b\b\b\b\b\b\b\b\b\b\b\b\b\b\b\b\b\b\b\b\b\b\b\b\b\b\b\b\b\b\b\b\b\b\b\b\b\b\b\b\b\b\b\b\b\b\b\b\b\b\b\b\b\b\b\b\b\b\b\b\b\b\b\b\b\b\b\b\b\b\b\b\b\b\b\r20/20 [==============================] - 19s 984ms/step - loss: 2.0886 - acc: 0.3789 - val_loss: 2.0721 - val_acc: 0.3858\n",
            "Epoch 64/1000\n",
            "19/20 [===========================>..] - ETA: 0s - loss: 2.0853 - acc: 0.3816\n",
            "----- Generating text after Epoch: 63\n",
            "----- Generating with seed: \"p wasn t sworn in no\"\n",
            "p wasn t sworn in noald medors s havers tie ouston tharl ker bely reald mallould paky the ont gasting bo and nu h spidn mameur ipa both pubr tuke on prese waald\n",
            "Epoch 64: val_loss improved from 2.07212 to 2.07007, saving model to /content/drive/My Drive/\n"
          ]
        },
        {
          "output_type": "stream",
          "name": "stderr",
          "text": [
            "WARNING:absl:Found untraced functions such as lstm_cell_layer_call_fn, lstm_cell_layer_call_and_return_conditional_losses, lstm_cell_1_layer_call_fn, lstm_cell_1_layer_call_and_return_conditional_losses while saving (showing 4 of 4). These functions will not be directly callable after loading.\n"
          ]
        },
        {
          "output_type": "stream",
          "name": "stdout",
          "text": [
            "INFO:tensorflow:Assets written to: /content/drive/My Drive/assets\n"
          ]
        },
        {
          "output_type": "stream",
          "name": "stderr",
          "text": [
            "INFO:tensorflow:Assets written to: /content/drive/My Drive/assets\n",
            "WARNING:absl:<keras.layers.recurrent.LSTMCell object at 0x7fb3ffecbd50> has the same name 'LSTMCell' as a built-in Keras object. Consider renaming <class 'keras.layers.recurrent.LSTMCell'> to avoid naming conflicts when loading with `tf.keras.models.load_model`. If renaming is not possible, pass the object in the `custom_objects` parameter of the load function.\n",
            "WARNING:absl:<keras.layers.recurrent.LSTMCell object at 0x7fb38749db10> has the same name 'LSTMCell' as a built-in Keras object. Consider renaming <class 'keras.layers.recurrent.LSTMCell'> to avoid naming conflicts when loading with `tf.keras.models.load_model`. If renaming is not possible, pass the object in the `custom_objects` parameter of the load function.\n"
          ]
        },
        {
          "output_type": "stream",
          "name": "stdout",
          "text": [
            "\b\b\b\b\b\b\b\b\b\b\b\b\b\b\b\b\b\b\b\b\b\b\b\b\b\b\b\b\b\b\b\b\b\b\b\b\b\b\b\b\b\b\b\b\b\b\b\b\b\b\b\b\b\b\b\b\b\b\b\b\b\b\b\b\b\b\b\b\b\b\b\b\b\b\b\b\b\r20/20 [==============================] - 19s 1s/step - loss: 2.0868 - acc: 0.3793 - val_loss: 2.0701 - val_acc: 0.3862\n",
            "Epoch 65/1000\n",
            "19/20 [===========================>..] - ETA: 0s - loss: 2.0333 - acc: 0.3960\n",
            "----- Generating text after Epoch: 64\n",
            "----- Generating with seed: \" he made to our cher\"\n",
            " he made to our cherpet go goater thinks bien the fer lor amprecimssated the nustroth m staminig co oxot https t co amjkvtrh jukctredtaldore p e tain grand bode\n",
            "Epoch 65: val_loss improved from 2.07007 to 2.06726, saving model to /content/drive/My Drive/\n"
          ]
        },
        {
          "output_type": "stream",
          "name": "stderr",
          "text": [
            "WARNING:absl:Found untraced functions such as lstm_cell_layer_call_fn, lstm_cell_layer_call_and_return_conditional_losses, lstm_cell_1_layer_call_fn, lstm_cell_1_layer_call_and_return_conditional_losses while saving (showing 4 of 4). These functions will not be directly callable after loading.\n"
          ]
        },
        {
          "output_type": "stream",
          "name": "stdout",
          "text": [
            "INFO:tensorflow:Assets written to: /content/drive/My Drive/assets\n"
          ]
        },
        {
          "output_type": "stream",
          "name": "stderr",
          "text": [
            "INFO:tensorflow:Assets written to: /content/drive/My Drive/assets\n",
            "WARNING:absl:<keras.layers.recurrent.LSTMCell object at 0x7fb3ffecbd50> has the same name 'LSTMCell' as a built-in Keras object. Consider renaming <class 'keras.layers.recurrent.LSTMCell'> to avoid naming conflicts when loading with `tf.keras.models.load_model`. If renaming is not possible, pass the object in the `custom_objects` parameter of the load function.\n",
            "WARNING:absl:<keras.layers.recurrent.LSTMCell object at 0x7fb38749db10> has the same name 'LSTMCell' as a built-in Keras object. Consider renaming <class 'keras.layers.recurrent.LSTMCell'> to avoid naming conflicts when loading with `tf.keras.models.load_model`. If renaming is not possible, pass the object in the `custom_objects` parameter of the load function.\n"
          ]
        },
        {
          "output_type": "stream",
          "name": "stdout",
          "text": [
            "\b\b\b\b\b\b\b\b\b\b\b\b\b\b\b\b\b\b\b\b\b\b\b\b\b\b\b\b\b\b\b\b\b\b\b\b\b\b\b\b\b\b\b\b\b\b\b\b\b\b\b\b\b\b\b\b\b\b\b\b\b\b\b\b\b\b\b\b\b\b\b\b\b\b\b\b\b\r20/20 [==============================] - 19s 992ms/step - loss: 2.0328 - acc: 0.3980 - val_loss: 2.0673 - val_acc: 0.3903\n",
            "Epoch 66/1000\n",
            "19/20 [===========================>..] - ETA: 0s - loss: 2.0520 - acc: 0.3845\n",
            "----- Generating text after Epoch: 65\n",
            "----- Generating with seed: \"istians being persec\"\n",
            "istians being persece https t co jmngydb birncowh we ple puntons rech forze waegent hwtts s canmpix ute moryer mapqy on the delitelt kercasce nat wasl be fop no\n",
            "Epoch 66: val_loss improved from 2.06726 to 2.05806, saving model to /content/drive/My Drive/\n"
          ]
        },
        {
          "output_type": "stream",
          "name": "stderr",
          "text": [
            "WARNING:absl:Found untraced functions such as lstm_cell_layer_call_fn, lstm_cell_layer_call_and_return_conditional_losses, lstm_cell_1_layer_call_fn, lstm_cell_1_layer_call_and_return_conditional_losses while saving (showing 4 of 4). These functions will not be directly callable after loading.\n"
          ]
        },
        {
          "output_type": "stream",
          "name": "stdout",
          "text": [
            "INFO:tensorflow:Assets written to: /content/drive/My Drive/assets\n"
          ]
        },
        {
          "output_type": "stream",
          "name": "stderr",
          "text": [
            "INFO:tensorflow:Assets written to: /content/drive/My Drive/assets\n",
            "WARNING:absl:<keras.layers.recurrent.LSTMCell object at 0x7fb3ffecbd50> has the same name 'LSTMCell' as a built-in Keras object. Consider renaming <class 'keras.layers.recurrent.LSTMCell'> to avoid naming conflicts when loading with `tf.keras.models.load_model`. If renaming is not possible, pass the object in the `custom_objects` parameter of the load function.\n",
            "WARNING:absl:<keras.layers.recurrent.LSTMCell object at 0x7fb38749db10> has the same name 'LSTMCell' as a built-in Keras object. Consider renaming <class 'keras.layers.recurrent.LSTMCell'> to avoid naming conflicts when loading with `tf.keras.models.load_model`. If renaming is not possible, pass the object in the `custom_objects` parameter of the load function.\n"
          ]
        },
        {
          "output_type": "stream",
          "name": "stdout",
          "text": [
            "\b\b\b\b\b\b\b\b\b\b\b\b\b\b\b\b\b\b\b\b\b\b\b\b\b\b\b\b\b\b\b\b\b\b\b\b\b\b\b\b\b\b\b\b\b\b\b\b\b\b\b\b\b\b\b\b\b\b\b\b\b\b\b\b\b\b\b\b\b\b\b\b\b\b\b\b\b\r20/20 [==============================] - 19s 996ms/step - loss: 2.0461 - acc: 0.3848 - val_loss: 2.0581 - val_acc: 0.3943\n",
            "Epoch 67/1000\n",
            "19/20 [===========================>..] - ETA: 0s - loss: 2.0335 - acc: 0.3914\n",
            "----- Generating text after Epoch: 66\n",
            "----- Generating with seed: \"ack amp jobs it mean\"\n",
            "ack amp jobs it meant wate romerory of saanenw httpst t co bmohd ets yuw thes aban treme dave runging oal butaming as nall precition appertebiwasry whayem the b\n",
            "Epoch 67: val_loss improved from 2.05806 to 2.05440, saving model to /content/drive/My Drive/\n"
          ]
        },
        {
          "output_type": "stream",
          "name": "stderr",
          "text": [
            "WARNING:absl:Found untraced functions such as lstm_cell_layer_call_fn, lstm_cell_layer_call_and_return_conditional_losses, lstm_cell_1_layer_call_fn, lstm_cell_1_layer_call_and_return_conditional_losses while saving (showing 4 of 4). These functions will not be directly callable after loading.\n"
          ]
        },
        {
          "output_type": "stream",
          "name": "stdout",
          "text": [
            "INFO:tensorflow:Assets written to: /content/drive/My Drive/assets\n"
          ]
        },
        {
          "output_type": "stream",
          "name": "stderr",
          "text": [
            "INFO:tensorflow:Assets written to: /content/drive/My Drive/assets\n",
            "WARNING:absl:<keras.layers.recurrent.LSTMCell object at 0x7fb3ffecbd50> has the same name 'LSTMCell' as a built-in Keras object. Consider renaming <class 'keras.layers.recurrent.LSTMCell'> to avoid naming conflicts when loading with `tf.keras.models.load_model`. If renaming is not possible, pass the object in the `custom_objects` parameter of the load function.\n",
            "WARNING:absl:<keras.layers.recurrent.LSTMCell object at 0x7fb38749db10> has the same name 'LSTMCell' as a built-in Keras object. Consider renaming <class 'keras.layers.recurrent.LSTMCell'> to avoid naming conflicts when loading with `tf.keras.models.load_model`. If renaming is not possible, pass the object in the `custom_objects` parameter of the load function.\n"
          ]
        },
        {
          "output_type": "stream",
          "name": "stdout",
          "text": [
            "\b\b\b\b\b\b\b\b\b\b\b\b\b\b\b\b\b\b\b\b\b\b\b\b\b\b\b\b\b\b\b\b\b\b\b\b\b\b\b\b\b\b\b\b\b\b\b\b\b\b\b\b\b\b\b\b\b\b\b\b\b\b\b\b\b\b\b\b\b\b\b\b\b\b\b\b\b\r20/20 [==============================] - 19s 992ms/step - loss: 2.0361 - acc: 0.3891 - val_loss: 2.0544 - val_acc: 0.3923\n",
            "Epoch 68/1000\n",
            "19/20 [===========================>..] - ETA: 0s - loss: 2.0506 - acc: 0.3927\n",
            "----- Generating text after Epoch: 67\n",
            "----- Generating with seed: \"endous courage and g\"\n",
            "endous courage and gloon sqenathih ebeaxo imiorl at is arkire of thenectey masin gohs ut unlzoute trump a mir sace white a rockennest thenspemt we plodler andog\n",
            "Epoch 68: val_loss did not improve from 2.05440\n",
            "20/20 [==============================] - 9s 483ms/step - loss: 2.0527 - acc: 0.3922 - val_loss: 2.0590 - val_acc: 0.3871\n",
            "Epoch 69/1000\n",
            "19/20 [===========================>..] - ETA: 0s - loss: 2.0067 - acc: 0.3947\n",
            "----- Generating text after Epoch: 68\n",
            "----- Generating with seed: \"garc realdonaldtrump\"\n",
            "garc realdonaldtrump dlaglan the mes neallon the remifning biss gule loal nessou wat wendy himnemy over the cebtall letion tout and frod vawing i ceorsof jficn \n",
            "Epoch 69: val_loss improved from 2.05440 to 2.04516, saving model to /content/drive/My Drive/\n"
          ]
        },
        {
          "output_type": "stream",
          "name": "stderr",
          "text": [
            "WARNING:absl:Found untraced functions such as lstm_cell_layer_call_fn, lstm_cell_layer_call_and_return_conditional_losses, lstm_cell_1_layer_call_fn, lstm_cell_1_layer_call_and_return_conditional_losses while saving (showing 4 of 4). These functions will not be directly callable after loading.\n"
          ]
        },
        {
          "output_type": "stream",
          "name": "stdout",
          "text": [
            "INFO:tensorflow:Assets written to: /content/drive/My Drive/assets\n"
          ]
        },
        {
          "output_type": "stream",
          "name": "stderr",
          "text": [
            "INFO:tensorflow:Assets written to: /content/drive/My Drive/assets\n",
            "WARNING:absl:<keras.layers.recurrent.LSTMCell object at 0x7fb3ffecbd50> has the same name 'LSTMCell' as a built-in Keras object. Consider renaming <class 'keras.layers.recurrent.LSTMCell'> to avoid naming conflicts when loading with `tf.keras.models.load_model`. If renaming is not possible, pass the object in the `custom_objects` parameter of the load function.\n",
            "WARNING:absl:<keras.layers.recurrent.LSTMCell object at 0x7fb38749db10> has the same name 'LSTMCell' as a built-in Keras object. Consider renaming <class 'keras.layers.recurrent.LSTMCell'> to avoid naming conflicts when loading with `tf.keras.models.load_model`. If renaming is not possible, pass the object in the `custom_objects` parameter of the load function.\n"
          ]
        },
        {
          "output_type": "stream",
          "name": "stdout",
          "text": [
            "\b\b\b\b\b\b\b\b\b\b\b\b\b\b\b\b\b\b\b\b\b\b\b\b\b\b\b\b\b\b\b\b\b\b\b\b\b\b\b\b\b\b\b\b\b\b\b\b\b\b\b\b\b\b\b\b\b\b\b\b\b\b\b\b\b\b\b\b\b\b\b\b\b\b\b\b\b\r20/20 [==============================] - 19s 1s/step - loss: 2.0136 - acc: 0.3926 - val_loss: 2.0452 - val_acc: 0.3973\n",
            "Epoch 70/1000\n",
            "19/20 [===========================>..] - ETA: 0s - loss: 2.0158 - acc: 0.4030\n",
            "----- Generating text after Epoch: 69\n",
            "----- Generating with seed: \"ans must go out and \"\n",
            "ans must go out and lectert achingtion my https t co dxymgboqnw elloat egreidican t m seccumionties for entay to reaching is now u duth hero the keozy gurt ast \n",
            "Epoch 70: val_loss did not improve from 2.04516\n",
            "20/20 [==============================] - 9s 496ms/step - loss: 2.0159 - acc: 0.4031 - val_loss: 2.0504 - val_acc: 0.3956\n",
            "Epoch 71/1000\n",
            "19/20 [===========================>..] - ETA: 0s - loss: 1.9854 - acc: 0.4161\n",
            "----- Generating text after Epoch: 70\n",
            "----- Generating with seed: \" his leadership brav\"\n",
            " his leadership brave ave morald manbege shy getteel the moul wats omerd bend wo have to tued reoo to mareopredsand itemicathet to ppat trey apprect and to goe \n",
            "Epoch 71: val_loss did not improve from 2.04516\n",
            "20/20 [==============================] - 9s 496ms/step - loss: 1.9907 - acc: 0.4129 - val_loss: 2.0465 - val_acc: 0.3927\n",
            "Epoch 72/1000\n",
            "18/20 [==========================>...] - ETA: 0s - loss: 2.0736 - acc: 0.3937\n",
            "----- Generating text after Epoch: 71\n",
            "----- Generating with seed: \"ns today trumpcares \"\n",
            "ns today trumpcares amlormal trump triak to werel libgent tho wautey hoxith ald axulcalingst hig atoly gneat finst you con taine killicanton lopsay bas pantouni\n",
            "Epoch 72: val_loss improved from 2.04516 to 2.03588, saving model to /content/drive/My Drive/\n"
          ]
        },
        {
          "output_type": "stream",
          "name": "stderr",
          "text": [
            "WARNING:absl:Found untraced functions such as lstm_cell_layer_call_fn, lstm_cell_layer_call_and_return_conditional_losses, lstm_cell_1_layer_call_fn, lstm_cell_1_layer_call_and_return_conditional_losses while saving (showing 4 of 4). These functions will not be directly callable after loading.\n"
          ]
        },
        {
          "output_type": "stream",
          "name": "stdout",
          "text": [
            "INFO:tensorflow:Assets written to: /content/drive/My Drive/assets\n"
          ]
        },
        {
          "output_type": "stream",
          "name": "stderr",
          "text": [
            "INFO:tensorflow:Assets written to: /content/drive/My Drive/assets\n",
            "WARNING:absl:<keras.layers.recurrent.LSTMCell object at 0x7fb3ffecbd50> has the same name 'LSTMCell' as a built-in Keras object. Consider renaming <class 'keras.layers.recurrent.LSTMCell'> to avoid naming conflicts when loading with `tf.keras.models.load_model`. If renaming is not possible, pass the object in the `custom_objects` parameter of the load function.\n",
            "WARNING:absl:<keras.layers.recurrent.LSTMCell object at 0x7fb38749db10> has the same name 'LSTMCell' as a built-in Keras object. Consider renaming <class 'keras.layers.recurrent.LSTMCell'> to avoid naming conflicts when loading with `tf.keras.models.load_model`. If renaming is not possible, pass the object in the `custom_objects` parameter of the load function.\n"
          ]
        },
        {
          "output_type": "stream",
          "name": "stdout",
          "text": [
            "\b\b\b\b\b\b\b\b\b\b\b\b\b\b\b\b\b\b\b\b\b\b\b\b\b\b\b\b\b\b\b\b\b\b\b\b\b\b\b\b\b\b\b\b\b\b\b\b\b\b\b\b\b\b\b\b\b\b\b\b\b\b\b\b\b\b\b\b\b\b\b\b\b\b\b\b\b\r20/20 [==============================] - 20s 1s/step - loss: 2.0818 - acc: 0.3898 - val_loss: 2.0359 - val_acc: 0.4009\n",
            "Epoch 73/1000\n",
            "19/20 [===========================>..] - ETA: 0s - loss: 2.0749 - acc: 0.3734\n",
            "----- Generating text after Epoch: 72\n",
            "----- Generating with seed: \"ker i think you try \"\n",
            "ker i think you try of the farca amp nets the bride spy serkeg t jo wiel sture weuse at feonis wat https t co jl dflkih you newar his mudd s you wabe realdollly\n",
            "Epoch 73: val_loss improved from 2.03588 to 2.02890, saving model to /content/drive/My Drive/\n"
          ]
        },
        {
          "output_type": "stream",
          "name": "stderr",
          "text": [
            "WARNING:absl:Found untraced functions such as lstm_cell_layer_call_fn, lstm_cell_layer_call_and_return_conditional_losses, lstm_cell_1_layer_call_fn, lstm_cell_1_layer_call_and_return_conditional_losses while saving (showing 4 of 4). These functions will not be directly callable after loading.\n"
          ]
        },
        {
          "output_type": "stream",
          "name": "stdout",
          "text": [
            "INFO:tensorflow:Assets written to: /content/drive/My Drive/assets\n"
          ]
        },
        {
          "output_type": "stream",
          "name": "stderr",
          "text": [
            "INFO:tensorflow:Assets written to: /content/drive/My Drive/assets\n",
            "WARNING:absl:<keras.layers.recurrent.LSTMCell object at 0x7fb3ffecbd50> has the same name 'LSTMCell' as a built-in Keras object. Consider renaming <class 'keras.layers.recurrent.LSTMCell'> to avoid naming conflicts when loading with `tf.keras.models.load_model`. If renaming is not possible, pass the object in the `custom_objects` parameter of the load function.\n",
            "WARNING:absl:<keras.layers.recurrent.LSTMCell object at 0x7fb38749db10> has the same name 'LSTMCell' as a built-in Keras object. Consider renaming <class 'keras.layers.recurrent.LSTMCell'> to avoid naming conflicts when loading with `tf.keras.models.load_model`. If renaming is not possible, pass the object in the `custom_objects` parameter of the load function.\n"
          ]
        },
        {
          "output_type": "stream",
          "name": "stdout",
          "text": [
            "\b\b\b\b\b\b\b\b\b\b\b\b\b\b\b\b\b\b\b\b\b\b\b\b\b\b\b\b\b\b\b\b\b\b\b\b\b\b\b\b\b\b\b\b\b\b\b\b\b\b\b\b\b\b\b\b\b\b\b\b\b\b\b\b\b\b\b\b\b\b\b\b\b\b\b\b\b\r20/20 [==============================] - 21s 1s/step - loss: 2.0816 - acc: 0.3719 - val_loss: 2.0289 - val_acc: 0.3971\n",
            "Epoch 74/1000\n",
            "19/20 [===========================>..] - ETA: 0s - loss: 2.0027 - acc: 0.4034\n",
            "----- Generating text after Epoch: 73\n",
            "----- Generating with seed: \"the border thank you\"\n",
            "the border thank your alies mutiesl brew to on for cacccliban bichadon and the everemeef reamige fromed https t co vzqn b hw xust yo we of vase reated tex stals\n",
            "Epoch 74: val_loss improved from 2.02890 to 2.02801, saving model to /content/drive/My Drive/\n"
          ]
        },
        {
          "output_type": "stream",
          "name": "stderr",
          "text": [
            "WARNING:absl:Found untraced functions such as lstm_cell_layer_call_fn, lstm_cell_layer_call_and_return_conditional_losses, lstm_cell_1_layer_call_fn, lstm_cell_1_layer_call_and_return_conditional_losses while saving (showing 4 of 4). These functions will not be directly callable after loading.\n"
          ]
        },
        {
          "output_type": "stream",
          "name": "stdout",
          "text": [
            "INFO:tensorflow:Assets written to: /content/drive/My Drive/assets\n"
          ]
        },
        {
          "output_type": "stream",
          "name": "stderr",
          "text": [
            "INFO:tensorflow:Assets written to: /content/drive/My Drive/assets\n",
            "WARNING:absl:<keras.layers.recurrent.LSTMCell object at 0x7fb3ffecbd50> has the same name 'LSTMCell' as a built-in Keras object. Consider renaming <class 'keras.layers.recurrent.LSTMCell'> to avoid naming conflicts when loading with `tf.keras.models.load_model`. If renaming is not possible, pass the object in the `custom_objects` parameter of the load function.\n",
            "WARNING:absl:<keras.layers.recurrent.LSTMCell object at 0x7fb38749db10> has the same name 'LSTMCell' as a built-in Keras object. Consider renaming <class 'keras.layers.recurrent.LSTMCell'> to avoid naming conflicts when loading with `tf.keras.models.load_model`. If renaming is not possible, pass the object in the `custom_objects` parameter of the load function.\n"
          ]
        },
        {
          "output_type": "stream",
          "name": "stdout",
          "text": [
            "\b\b\b\b\b\b\b\b\b\b\b\b\b\b\b\b\b\b\b\b\b\b\b\b\b\b\b\b\b\b\b\b\b\b\b\b\b\b\b\b\b\b\b\b\b\b\b\b\b\b\b\b\b\b\b\b\b\b\b\b\b\b\b\b\b\b\b\b\b\b\b\b\b\b\b\b\b\r20/20 [==============================] - 21s 1s/step - loss: 2.0008 - acc: 0.4031 - val_loss: 2.0280 - val_acc: 0.3997\n",
            "Epoch 75/1000\n",
            "19/20 [===========================>..] - ETA: 0s - loss: 1.9931 - acc: 0.4100\n",
            "----- Generating text after Epoch: 74\n",
            "----- Generating with seed: \" deserves a lot of c\"\n",
            " deserves a lot of chave at thankerxecafreppentonng to a great all the priecheparpica out thig cound mins anoxnqa diym me casint thar ads ampremp fol thie reush\n",
            "Epoch 75: val_loss did not improve from 2.02801\n",
            "20/20 [==============================] - 10s 525ms/step - loss: 1.9955 - acc: 0.4074 - val_loss: 2.0351 - val_acc: 0.3987\n",
            "Epoch 76/1000\n",
            "19/20 [===========================>..] - ETA: 0s - loss: 2.0307 - acc: 0.4021\n",
            "----- Generating text after Epoch: 75\n",
            "----- Generating with seed: \"he history of our co\"\n",
            "he history of our coprematiom fo vinots in and noblowines att crait lold attpry cous whan mikcove it abm geinggo tho loade the whe hmene do a   a loris of they \n",
            "Epoch 76: val_loss improved from 2.02801 to 2.02066, saving model to /content/drive/My Drive/\n"
          ]
        },
        {
          "output_type": "stream",
          "name": "stderr",
          "text": [
            "WARNING:absl:Found untraced functions such as lstm_cell_layer_call_fn, lstm_cell_layer_call_and_return_conditional_losses, lstm_cell_1_layer_call_fn, lstm_cell_1_layer_call_and_return_conditional_losses while saving (showing 4 of 4). These functions will not be directly callable after loading.\n"
          ]
        },
        {
          "output_type": "stream",
          "name": "stdout",
          "text": [
            "INFO:tensorflow:Assets written to: /content/drive/My Drive/assets\n"
          ]
        },
        {
          "output_type": "stream",
          "name": "stderr",
          "text": [
            "INFO:tensorflow:Assets written to: /content/drive/My Drive/assets\n",
            "WARNING:absl:<keras.layers.recurrent.LSTMCell object at 0x7fb3ffecbd50> has the same name 'LSTMCell' as a built-in Keras object. Consider renaming <class 'keras.layers.recurrent.LSTMCell'> to avoid naming conflicts when loading with `tf.keras.models.load_model`. If renaming is not possible, pass the object in the `custom_objects` parameter of the load function.\n",
            "WARNING:absl:<keras.layers.recurrent.LSTMCell object at 0x7fb38749db10> has the same name 'LSTMCell' as a built-in Keras object. Consider renaming <class 'keras.layers.recurrent.LSTMCell'> to avoid naming conflicts when loading with `tf.keras.models.load_model`. If renaming is not possible, pass the object in the `custom_objects` parameter of the load function.\n"
          ]
        },
        {
          "output_type": "stream",
          "name": "stdout",
          "text": [
            "\b\b\b\b\b\b\b\b\b\b\b\b\b\b\b\b\b\b\b\b\b\b\b\b\b\b\b\b\b\b\b\b\b\b\b\b\b\b\b\b\b\b\b\b\b\b\b\b\b\b\b\b\b\b\b\b\b\b\b\b\b\b\b\b\b\b\b\b\b\b\b\b\b\b\b\b\b\r20/20 [==============================] - 21s 1s/step - loss: 2.0237 - acc: 0.4055 - val_loss: 2.0207 - val_acc: 0.4038\n",
            "Epoch 77/1000\n",
            "19/20 [===========================>..] - ETA: 0s - loss: 1.9744 - acc: 0.4165\n",
            "----- Generating text after Epoch: 76\n",
            "----- Generating with seed: \"you trump https t co\"\n",
            "you trump https t co bcn sxzkftqep medlon ploull that ssecht gremacdmersoin sin cla pretover ofler real onatruaphery on tthin to to atting horld ho soolth leow \n",
            "Epoch 77: val_loss did not improve from 2.02066\n",
            "20/20 [==============================] - 10s 529ms/step - loss: 1.9844 - acc: 0.4156 - val_loss: 2.0252 - val_acc: 0.4032\n",
            "Epoch 78/1000\n",
            "19/20 [===========================>..] - ETA: 0s - loss: 1.9453 - acc: 0.4223\n",
            "----- Generating text after Epoch: 77\n",
            "----- Generating with seed: \"trump https t co l x\"\n",
            "trump https t co l xyb eclsmerant cbannes fot my turmidel my wask we goe bast for soeld jowd morory mst vinos lest the mabet to plows ofportws ower and ad porbe\n",
            "Epoch 78: val_loss improved from 2.02066 to 2.02047, saving model to /content/drive/My Drive/\n"
          ]
        },
        {
          "output_type": "stream",
          "name": "stderr",
          "text": [
            "WARNING:absl:Found untraced functions such as lstm_cell_layer_call_fn, lstm_cell_layer_call_and_return_conditional_losses, lstm_cell_1_layer_call_fn, lstm_cell_1_layer_call_and_return_conditional_losses while saving (showing 4 of 4). These functions will not be directly callable after loading.\n"
          ]
        },
        {
          "output_type": "stream",
          "name": "stdout",
          "text": [
            "INFO:tensorflow:Assets written to: /content/drive/My Drive/assets\n"
          ]
        },
        {
          "output_type": "stream",
          "name": "stderr",
          "text": [
            "INFO:tensorflow:Assets written to: /content/drive/My Drive/assets\n",
            "WARNING:absl:<keras.layers.recurrent.LSTMCell object at 0x7fb3ffecbd50> has the same name 'LSTMCell' as a built-in Keras object. Consider renaming <class 'keras.layers.recurrent.LSTMCell'> to avoid naming conflicts when loading with `tf.keras.models.load_model`. If renaming is not possible, pass the object in the `custom_objects` parameter of the load function.\n",
            "WARNING:absl:<keras.layers.recurrent.LSTMCell object at 0x7fb38749db10> has the same name 'LSTMCell' as a built-in Keras object. Consider renaming <class 'keras.layers.recurrent.LSTMCell'> to avoid naming conflicts when loading with `tf.keras.models.load_model`. If renaming is not possible, pass the object in the `custom_objects` parameter of the load function.\n"
          ]
        },
        {
          "output_type": "stream",
          "name": "stdout",
          "text": [
            "\b\b\b\b\b\b\b\b\b\b\b\b\b\b\b\b\b\b\b\b\b\b\b\b\b\b\b\b\b\b\b\b\b\b\b\b\b\b\b\b\b\b\b\b\b\b\b\b\b\b\b\b\b\b\b\b\b\b\b\b\b\b\b\b\b\b\b\b\b\b\b\b\b\b\b\b\b\r20/20 [==============================] - 21s 1s/step - loss: 1.9461 - acc: 0.4230 - val_loss: 2.0205 - val_acc: 0.4074\n",
            "Epoch 79/1000\n",
            "19/20 [===========================>..] - ETA: 0s - loss: 1.9143 - acc: 0.4441\n",
            "----- Generating text after Epoch: 78\n",
            "----- Generating with seed: \"mp is the only perso\"\n",
            "mp is the only persod on carlions viiines in the thin oup nemand in ht tozey eftati wave whe oftr the fere it veebrinald yhan erg twat ofn a billasunil un lorek\n",
            "Epoch 79: val_loss did not improve from 2.02047\n",
            "20/20 [==============================] - 10s 526ms/step - loss: 1.9264 - acc: 0.4398 - val_loss: 2.0287 - val_acc: 0.4053\n",
            "Epoch 80/1000\n",
            "18/20 [==========================>...] - ETA: 0s - loss: 2.0227 - acc: 0.3984\n",
            "----- Generating text after Epoch: 79\n",
            "----- Generating with seed: \"highest number since\"\n",
            "highest number sincersens m gout connadidn t nutp loippretit mone you then i a vote a corgids ducp angaviinar ausa poe rav rigisf lime juntery the apericked htt\n",
            "Epoch 80: val_loss improved from 2.02047 to 2.01465, saving model to /content/drive/My Drive/\n"
          ]
        },
        {
          "output_type": "stream",
          "name": "stderr",
          "text": [
            "WARNING:absl:Found untraced functions such as lstm_cell_layer_call_fn, lstm_cell_layer_call_and_return_conditional_losses, lstm_cell_1_layer_call_fn, lstm_cell_1_layer_call_and_return_conditional_losses while saving (showing 4 of 4). These functions will not be directly callable after loading.\n"
          ]
        },
        {
          "output_type": "stream",
          "name": "stdout",
          "text": [
            "INFO:tensorflow:Assets written to: /content/drive/My Drive/assets\n"
          ]
        },
        {
          "output_type": "stream",
          "name": "stderr",
          "text": [
            "INFO:tensorflow:Assets written to: /content/drive/My Drive/assets\n",
            "WARNING:absl:<keras.layers.recurrent.LSTMCell object at 0x7fb3ffecbd50> has the same name 'LSTMCell' as a built-in Keras object. Consider renaming <class 'keras.layers.recurrent.LSTMCell'> to avoid naming conflicts when loading with `tf.keras.models.load_model`. If renaming is not possible, pass the object in the `custom_objects` parameter of the load function.\n",
            "WARNING:absl:<keras.layers.recurrent.LSTMCell object at 0x7fb38749db10> has the same name 'LSTMCell' as a built-in Keras object. Consider renaming <class 'keras.layers.recurrent.LSTMCell'> to avoid naming conflicts when loading with `tf.keras.models.load_model`. If renaming is not possible, pass the object in the `custom_objects` parameter of the load function.\n"
          ]
        },
        {
          "output_type": "stream",
          "name": "stdout",
          "text": [
            "\b\b\b\b\b\b\b\b\b\b\b\b\b\b\b\b\b\b\b\b\b\b\b\b\b\b\b\b\b\b\b\b\b\b\b\b\b\b\b\b\b\b\b\b\b\b\b\b\b\b\b\b\b\b\b\b\b\b\b\b\b\b\b\b\b\b\b\b\b\b\b\b\b\b\b\b\b\r20/20 [==============================] - 21s 1s/step - loss: 2.0181 - acc: 0.4023 - val_loss: 2.0146 - val_acc: 0.4097\n",
            "Epoch 81/1000\n",
            "19/20 [===========================>..] - ETA: 0s - loss: 1.9629 - acc: 0.4157\n",
            "----- Generating text after Epoch: 80\n",
            "----- Generating with seed: \" justice department \"\n",
            " justice department and senthat dants zig reatugion s tome ferinc draht may mict taneting be ferter date truepst in the dof fler for des tretp vire seeplesirtp \n",
            "Epoch 81: val_loss improved from 2.01465 to 2.01327, saving model to /content/drive/My Drive/\n"
          ]
        },
        {
          "output_type": "stream",
          "name": "stderr",
          "text": [
            "WARNING:absl:Found untraced functions such as lstm_cell_layer_call_fn, lstm_cell_layer_call_and_return_conditional_losses, lstm_cell_1_layer_call_fn, lstm_cell_1_layer_call_and_return_conditional_losses while saving (showing 4 of 4). These functions will not be directly callable after loading.\n"
          ]
        },
        {
          "output_type": "stream",
          "name": "stdout",
          "text": [
            "INFO:tensorflow:Assets written to: /content/drive/My Drive/assets\n"
          ]
        },
        {
          "output_type": "stream",
          "name": "stderr",
          "text": [
            "INFO:tensorflow:Assets written to: /content/drive/My Drive/assets\n",
            "WARNING:absl:<keras.layers.recurrent.LSTMCell object at 0x7fb3ffecbd50> has the same name 'LSTMCell' as a built-in Keras object. Consider renaming <class 'keras.layers.recurrent.LSTMCell'> to avoid naming conflicts when loading with `tf.keras.models.load_model`. If renaming is not possible, pass the object in the `custom_objects` parameter of the load function.\n",
            "WARNING:absl:<keras.layers.recurrent.LSTMCell object at 0x7fb38749db10> has the same name 'LSTMCell' as a built-in Keras object. Consider renaming <class 'keras.layers.recurrent.LSTMCell'> to avoid naming conflicts when loading with `tf.keras.models.load_model`. If renaming is not possible, pass the object in the `custom_objects` parameter of the load function.\n"
          ]
        },
        {
          "output_type": "stream",
          "name": "stdout",
          "text": [
            "\b\b\b\b\b\b\b\b\b\b\b\b\b\b\b\b\b\b\b\b\b\b\b\b\b\b\b\b\b\b\b\b\b\b\b\b\b\b\b\b\b\b\b\b\b\b\b\b\b\b\b\b\b\b\b\b\b\b\b\b\b\b\b\b\b\b\b\b\b\b\b\b\b\b\b\b\b\r20/20 [==============================] - 20s 1s/step - loss: 1.9579 - acc: 0.4156 - val_loss: 2.0133 - val_acc: 0.4029\n",
            "Epoch 82/1000\n",
            "19/20 [===========================>..] - ETA: 0s - loss: 1.9669 - acc: 0.4001\n",
            "----- Generating text after Epoch: 81\n",
            "----- Generating with seed: \" trump potus atuname\"\n",
            " trump potus atunamed troung trims dudait repies be is stetrabpenteking pacpe you ynan preidest of chased love what be weer http t co zncch zding this bak m dot\n",
            "Epoch 82: val_loss improved from 2.01327 to 2.00836, saving model to /content/drive/My Drive/\n"
          ]
        },
        {
          "output_type": "stream",
          "name": "stderr",
          "text": [
            "WARNING:absl:Found untraced functions such as lstm_cell_layer_call_fn, lstm_cell_layer_call_and_return_conditional_losses, lstm_cell_1_layer_call_fn, lstm_cell_1_layer_call_and_return_conditional_losses while saving (showing 4 of 4). These functions will not be directly callable after loading.\n"
          ]
        },
        {
          "output_type": "stream",
          "name": "stdout",
          "text": [
            "INFO:tensorflow:Assets written to: /content/drive/My Drive/assets\n"
          ]
        },
        {
          "output_type": "stream",
          "name": "stderr",
          "text": [
            "INFO:tensorflow:Assets written to: /content/drive/My Drive/assets\n",
            "WARNING:absl:<keras.layers.recurrent.LSTMCell object at 0x7fb3ffecbd50> has the same name 'LSTMCell' as a built-in Keras object. Consider renaming <class 'keras.layers.recurrent.LSTMCell'> to avoid naming conflicts when loading with `tf.keras.models.load_model`. If renaming is not possible, pass the object in the `custom_objects` parameter of the load function.\n",
            "WARNING:absl:<keras.layers.recurrent.LSTMCell object at 0x7fb38749db10> has the same name 'LSTMCell' as a built-in Keras object. Consider renaming <class 'keras.layers.recurrent.LSTMCell'> to avoid naming conflicts when loading with `tf.keras.models.load_model`. If renaming is not possible, pass the object in the `custom_objects` parameter of the load function.\n"
          ]
        },
        {
          "output_type": "stream",
          "name": "stdout",
          "text": [
            "\b\b\b\b\b\b\b\b\b\b\b\b\b\b\b\b\b\b\b\b\b\b\b\b\b\b\b\b\b\b\b\b\b\b\b\b\b\b\b\b\b\b\b\b\b\b\b\b\b\b\b\b\b\b\b\b\b\b\b\b\b\b\b\b\b\b\b\b\b\b\b\b\b\b\b\b\b\r20/20 [==============================] - 21s 1s/step - loss: 1.9680 - acc: 0.4012 - val_loss: 2.0084 - val_acc: 0.4077\n",
            "Epoch 83/1000\n",
            "19/20 [===========================>..] - ETA: 0s - loss: 1.9525 - acc: 0.4174\n",
            "----- Generating text after Epoch: 82\n",
            "----- Generating with seed: \" a cabinet when my i\"\n",
            " a cabinet when my is op with hapme wision of mickernetion c jack quy gor counor lies  or croms wisty premanigit te boluss neowgpregat lusine hare viro a plobme\n",
            "Epoch 83: val_loss improved from 2.00836 to 2.00370, saving model to /content/drive/My Drive/\n"
          ]
        },
        {
          "output_type": "stream",
          "name": "stderr",
          "text": [
            "WARNING:absl:Found untraced functions such as lstm_cell_layer_call_fn, lstm_cell_layer_call_and_return_conditional_losses, lstm_cell_1_layer_call_fn, lstm_cell_1_layer_call_and_return_conditional_losses while saving (showing 4 of 4). These functions will not be directly callable after loading.\n"
          ]
        },
        {
          "output_type": "stream",
          "name": "stdout",
          "text": [
            "INFO:tensorflow:Assets written to: /content/drive/My Drive/assets\n"
          ]
        },
        {
          "output_type": "stream",
          "name": "stderr",
          "text": [
            "INFO:tensorflow:Assets written to: /content/drive/My Drive/assets\n",
            "WARNING:absl:<keras.layers.recurrent.LSTMCell object at 0x7fb3ffecbd50> has the same name 'LSTMCell' as a built-in Keras object. Consider renaming <class 'keras.layers.recurrent.LSTMCell'> to avoid naming conflicts when loading with `tf.keras.models.load_model`. If renaming is not possible, pass the object in the `custom_objects` parameter of the load function.\n",
            "WARNING:absl:<keras.layers.recurrent.LSTMCell object at 0x7fb38749db10> has the same name 'LSTMCell' as a built-in Keras object. Consider renaming <class 'keras.layers.recurrent.LSTMCell'> to avoid naming conflicts when loading with `tf.keras.models.load_model`. If renaming is not possible, pass the object in the `custom_objects` parameter of the load function.\n"
          ]
        },
        {
          "output_type": "stream",
          "name": "stdout",
          "text": [
            "\b\b\b\b\b\b\b\b\b\b\b\b\b\b\b\b\b\b\b\b\b\b\b\b\b\b\b\b\b\b\b\b\b\b\b\b\b\b\b\b\b\b\b\b\b\b\b\b\b\b\b\b\b\b\b\b\b\b\b\b\b\b\b\b\b\b\b\b\b\b\b\b\b\b\b\b\b\r20/20 [==============================] - 21s 1s/step - loss: 1.9568 - acc: 0.4141 - val_loss: 2.0037 - val_acc: 0.4101\n",
            "Epoch 84/1000\n",
            "19/20 [===========================>..] - ETA: 0s - loss: 1.9940 - acc: 0.4116\n",
            "----- Generating text after Epoch: 83\n",
            "----- Generating with seed: \"hanks today i author\"\n",
            "hanks today i authorrs cinstioral seatentmenkion grbatkewpsone keater sglon bun ponting jimcstist we cans but of chttps co wh d vm bf scclred be amp griens born\n",
            "Epoch 84: val_loss did not improve from 2.00370\n",
            "20/20 [==============================] - 10s 524ms/step - loss: 2.0016 - acc: 0.4105 - val_loss: 2.0040 - val_acc: 0.4140\n",
            "Epoch 85/1000\n",
            "19/20 [===========================>..] - ETA: 0s - loss: 1.9891 - acc: 0.4042\n",
            "----- Generating text after Epoch: 84\n",
            "----- Generating with seed: \" played a big roll a\"\n",
            " played a big roll andobate am ak back rog a coniin hat sase yor tham mant all ptig to amaustro got hate low flo charl and to ple jai thing omovent an tak ceall\n",
            "Epoch 85: val_loss improved from 2.00370 to 1.99745, saving model to /content/drive/My Drive/\n"
          ]
        },
        {
          "output_type": "stream",
          "name": "stderr",
          "text": [
            "WARNING:absl:Found untraced functions such as lstm_cell_layer_call_fn, lstm_cell_layer_call_and_return_conditional_losses, lstm_cell_1_layer_call_fn, lstm_cell_1_layer_call_and_return_conditional_losses while saving (showing 4 of 4). These functions will not be directly callable after loading.\n"
          ]
        },
        {
          "output_type": "stream",
          "name": "stdout",
          "text": [
            "INFO:tensorflow:Assets written to: /content/drive/My Drive/assets\n"
          ]
        },
        {
          "output_type": "stream",
          "name": "stderr",
          "text": [
            "INFO:tensorflow:Assets written to: /content/drive/My Drive/assets\n",
            "WARNING:absl:<keras.layers.recurrent.LSTMCell object at 0x7fb3ffecbd50> has the same name 'LSTMCell' as a built-in Keras object. Consider renaming <class 'keras.layers.recurrent.LSTMCell'> to avoid naming conflicts when loading with `tf.keras.models.load_model`. If renaming is not possible, pass the object in the `custom_objects` parameter of the load function.\n",
            "WARNING:absl:<keras.layers.recurrent.LSTMCell object at 0x7fb38749db10> has the same name 'LSTMCell' as a built-in Keras object. Consider renaming <class 'keras.layers.recurrent.LSTMCell'> to avoid naming conflicts when loading with `tf.keras.models.load_model`. If renaming is not possible, pass the object in the `custom_objects` parameter of the load function.\n"
          ]
        },
        {
          "output_type": "stream",
          "name": "stdout",
          "text": [
            "\b\b\b\b\b\b\b\b\b\b\b\b\b\b\b\b\b\b\b\b\b\b\b\b\b\b\b\b\b\b\b\b\b\b\b\b\b\b\b\b\b\b\b\b\b\b\b\b\b\b\b\b\b\b\b\b\b\b\b\b\b\b\b\b\b\b\b\b\b\b\b\b\b\b\b\b\b\r20/20 [==============================] - 20s 1s/step - loss: 1.9926 - acc: 0.4043 - val_loss: 1.9975 - val_acc: 0.4069\n",
            "Epoch 86/1000\n",
            "19/20 [===========================>..] - ETA: 0s - loss: 1.9731 - acc: 0.4165\n",
            "----- Generating text after Epoch: 85\n",
            "----- Generating with seed: \"th by the mullahs be\"\n",
            "th by the mullahs beice bance on sir sarens onoalzduryadydof wites bery ofl he ufifica sterdiga aterycen espeg dotigy in s menack fith jobuins pussich and fors \n",
            "Epoch 86: val_loss improved from 1.99745 to 1.99435, saving model to /content/drive/My Drive/\n"
          ]
        },
        {
          "output_type": "stream",
          "name": "stderr",
          "text": [
            "WARNING:absl:Found untraced functions such as lstm_cell_layer_call_fn, lstm_cell_layer_call_and_return_conditional_losses, lstm_cell_1_layer_call_fn, lstm_cell_1_layer_call_and_return_conditional_losses while saving (showing 4 of 4). These functions will not be directly callable after loading.\n"
          ]
        },
        {
          "output_type": "stream",
          "name": "stdout",
          "text": [
            "INFO:tensorflow:Assets written to: /content/drive/My Drive/assets\n"
          ]
        },
        {
          "output_type": "stream",
          "name": "stderr",
          "text": [
            "INFO:tensorflow:Assets written to: /content/drive/My Drive/assets\n",
            "WARNING:absl:<keras.layers.recurrent.LSTMCell object at 0x7fb3ffecbd50> has the same name 'LSTMCell' as a built-in Keras object. Consider renaming <class 'keras.layers.recurrent.LSTMCell'> to avoid naming conflicts when loading with `tf.keras.models.load_model`. If renaming is not possible, pass the object in the `custom_objects` parameter of the load function.\n",
            "WARNING:absl:<keras.layers.recurrent.LSTMCell object at 0x7fb38749db10> has the same name 'LSTMCell' as a built-in Keras object. Consider renaming <class 'keras.layers.recurrent.LSTMCell'> to avoid naming conflicts when loading with `tf.keras.models.load_model`. If renaming is not possible, pass the object in the `custom_objects` parameter of the load function.\n"
          ]
        },
        {
          "output_type": "stream",
          "name": "stdout",
          "text": [
            "\b\b\b\b\b\b\b\b\b\b\b\b\b\b\b\b\b\b\b\b\b\b\b\b\b\b\b\b\b\b\b\b\b\b\b\b\b\b\b\b\b\b\b\b\b\b\b\b\b\b\b\b\b\b\b\b\b\b\b\b\b\b\b\b\b\b\b\b\b\b\b\b\b\b\b\b\b\r20/20 [==============================] - 21s 1s/step - loss: 1.9740 - acc: 0.4168 - val_loss: 1.9943 - val_acc: 0.4090\n",
            "Epoch 87/1000\n",
            "18/20 [==========================>...] - ETA: 0s - loss: 1.9408 - acc: 0.4223\n",
            "----- Generating text after Epoch: 86\n",
            "----- Generating with seed: \"ars in prison don t \"\n",
            "ars in prison don t my inoctorperd gadomeithatecin to wave amonv danveriines an outruming nutplayians fow jus fime you wome recoment we neutt in upent ley a vin\n",
            "Epoch 87: val_loss improved from 1.99435 to 1.99325, saving model to /content/drive/My Drive/\n"
          ]
        },
        {
          "output_type": "stream",
          "name": "stderr",
          "text": [
            "WARNING:absl:Found untraced functions such as lstm_cell_layer_call_fn, lstm_cell_layer_call_and_return_conditional_losses, lstm_cell_1_layer_call_fn, lstm_cell_1_layer_call_and_return_conditional_losses while saving (showing 4 of 4). These functions will not be directly callable after loading.\n"
          ]
        },
        {
          "output_type": "stream",
          "name": "stdout",
          "text": [
            "INFO:tensorflow:Assets written to: /content/drive/My Drive/assets\n"
          ]
        },
        {
          "output_type": "stream",
          "name": "stderr",
          "text": [
            "INFO:tensorflow:Assets written to: /content/drive/My Drive/assets\n",
            "WARNING:absl:<keras.layers.recurrent.LSTMCell object at 0x7fb3ffecbd50> has the same name 'LSTMCell' as a built-in Keras object. Consider renaming <class 'keras.layers.recurrent.LSTMCell'> to avoid naming conflicts when loading with `tf.keras.models.load_model`. If renaming is not possible, pass the object in the `custom_objects` parameter of the load function.\n",
            "WARNING:absl:<keras.layers.recurrent.LSTMCell object at 0x7fb38749db10> has the same name 'LSTMCell' as a built-in Keras object. Consider renaming <class 'keras.layers.recurrent.LSTMCell'> to avoid naming conflicts when loading with `tf.keras.models.load_model`. If renaming is not possible, pass the object in the `custom_objects` parameter of the load function.\n"
          ]
        },
        {
          "output_type": "stream",
          "name": "stdout",
          "text": [
            "\b\b\b\b\b\b\b\b\b\b\b\b\b\b\b\b\b\b\b\b\b\b\b\b\b\b\b\b\b\b\b\b\b\b\b\b\b\b\b\b\b\b\b\b\b\b\b\b\b\b\b\b\b\b\b\b\b\b\b\b\b\b\b\b\b\b\b\b\b\b\b\b\b\b\b\b\b\r20/20 [==============================] - 20s 1s/step - loss: 1.9562 - acc: 0.4164 - val_loss: 1.9933 - val_acc: 0.4131\n",
            "Epoch 88/1000\n",
            "19/20 [===========================>..] - ETA: 0s - loss: 1.9231 - acc: 0.4412\n",
            "----- Generating text after Epoch: 87\n",
            "----- Generating with seed: \"ump so true from the\"\n",
            "ump so true from the mait saytpount kayafsormbandersa u repporl migae hall ourth theet anorsins not ha kay a elxiies that his thear beandorwhcer thank on muythi\n",
            "Epoch 88: val_loss improved from 1.99325 to 1.99125, saving model to /content/drive/My Drive/\n"
          ]
        },
        {
          "output_type": "stream",
          "name": "stderr",
          "text": [
            "WARNING:absl:Found untraced functions such as lstm_cell_layer_call_fn, lstm_cell_layer_call_and_return_conditional_losses, lstm_cell_1_layer_call_fn, lstm_cell_1_layer_call_and_return_conditional_losses while saving (showing 4 of 4). These functions will not be directly callable after loading.\n"
          ]
        },
        {
          "output_type": "stream",
          "name": "stdout",
          "text": [
            "INFO:tensorflow:Assets written to: /content/drive/My Drive/assets\n"
          ]
        },
        {
          "output_type": "stream",
          "name": "stderr",
          "text": [
            "INFO:tensorflow:Assets written to: /content/drive/My Drive/assets\n",
            "WARNING:absl:<keras.layers.recurrent.LSTMCell object at 0x7fb3ffecbd50> has the same name 'LSTMCell' as a built-in Keras object. Consider renaming <class 'keras.layers.recurrent.LSTMCell'> to avoid naming conflicts when loading with `tf.keras.models.load_model`. If renaming is not possible, pass the object in the `custom_objects` parameter of the load function.\n",
            "WARNING:absl:<keras.layers.recurrent.LSTMCell object at 0x7fb38749db10> has the same name 'LSTMCell' as a built-in Keras object. Consider renaming <class 'keras.layers.recurrent.LSTMCell'> to avoid naming conflicts when loading with `tf.keras.models.load_model`. If renaming is not possible, pass the object in the `custom_objects` parameter of the load function.\n"
          ]
        },
        {
          "output_type": "stream",
          "name": "stdout",
          "text": [
            "\b\b\b\b\b\b\b\b\b\b\b\b\b\b\b\b\b\b\b\b\b\b\b\b\b\b\b\b\b\b\b\b\b\b\b\b\b\b\b\b\b\b\b\b\b\b\b\b\b\b\b\b\b\b\b\b\b\b\b\b\b\b\b\b\b\b\b\b\b\b\b\b\b\b\b\b\b\r20/20 [==============================] - 21s 1s/step - loss: 1.9270 - acc: 0.4406 - val_loss: 1.9912 - val_acc: 0.4138\n",
            "Epoch 89/1000\n",
            "18/20 [==========================>...] - ETA: 0s - loss: 1.9573 - acc: 0.4071\n",
            "----- Generating text after Epoch: 88\n",
            "----- Generating with seed: \"ing disaster or thei\"\n",
            "ing disaster or theisy an evondert like mistthe heused of t he isted and greids you weore lew lonts wan anchty cobliing wond bagran ithition tuke our and oboing\n",
            "Epoch 89: val_loss improved from 1.99125 to 1.98418, saving model to /content/drive/My Drive/\n"
          ]
        },
        {
          "output_type": "stream",
          "name": "stderr",
          "text": [
            "WARNING:absl:Found untraced functions such as lstm_cell_layer_call_fn, lstm_cell_layer_call_and_return_conditional_losses, lstm_cell_1_layer_call_fn, lstm_cell_1_layer_call_and_return_conditional_losses while saving (showing 4 of 4). These functions will not be directly callable after loading.\n"
          ]
        },
        {
          "output_type": "stream",
          "name": "stdout",
          "text": [
            "INFO:tensorflow:Assets written to: /content/drive/My Drive/assets\n"
          ]
        },
        {
          "output_type": "stream",
          "name": "stderr",
          "text": [
            "INFO:tensorflow:Assets written to: /content/drive/My Drive/assets\n",
            "WARNING:absl:<keras.layers.recurrent.LSTMCell object at 0x7fb3ffecbd50> has the same name 'LSTMCell' as a built-in Keras object. Consider renaming <class 'keras.layers.recurrent.LSTMCell'> to avoid naming conflicts when loading with `tf.keras.models.load_model`. If renaming is not possible, pass the object in the `custom_objects` parameter of the load function.\n",
            "WARNING:absl:<keras.layers.recurrent.LSTMCell object at 0x7fb38749db10> has the same name 'LSTMCell' as a built-in Keras object. Consider renaming <class 'keras.layers.recurrent.LSTMCell'> to avoid naming conflicts when loading with `tf.keras.models.load_model`. If renaming is not possible, pass the object in the `custom_objects` parameter of the load function.\n"
          ]
        },
        {
          "output_type": "stream",
          "name": "stdout",
          "text": [
            "\b\b\b\b\b\b\b\b\b\b\b\b\b\b\b\b\b\b\b\b\b\b\b\b\b\b\b\b\b\b\b\b\b\b\b\b\b\b\b\b\b\b\b\b\b\b\b\b\b\b\b\b\b\b\b\b\b\b\b\b\b\b\b\b\b\b\b\b\b\b\b\b\b\b\b\b\b\r20/20 [==============================] - 20s 1s/step - loss: 1.9533 - acc: 0.4113 - val_loss: 1.9842 - val_acc: 0.4205\n",
            "Epoch 90/1000\n",
            "19/20 [===========================>..] - ETA: 0s - loss: 1.9526 - acc: 0.4231\n",
            "----- Generating text after Epoch: 89\n",
            "----- Generating with seed: \" ford crainsdetroit \"\n",
            " ford crainsdetroit to realdanaldtrumpnynialdnil mikl i nas is enmiic taboratias is neate ay and elifed for now farm plisicem wathers thank wann fir loaldand lo\n",
            "Epoch 90: val_loss improved from 1.98418 to 1.98126, saving model to /content/drive/My Drive/\n"
          ]
        },
        {
          "output_type": "stream",
          "name": "stderr",
          "text": [
            "WARNING:absl:Found untraced functions such as lstm_cell_layer_call_fn, lstm_cell_layer_call_and_return_conditional_losses, lstm_cell_1_layer_call_fn, lstm_cell_1_layer_call_and_return_conditional_losses while saving (showing 4 of 4). These functions will not be directly callable after loading.\n"
          ]
        },
        {
          "output_type": "stream",
          "name": "stdout",
          "text": [
            "INFO:tensorflow:Assets written to: /content/drive/My Drive/assets\n"
          ]
        },
        {
          "output_type": "stream",
          "name": "stderr",
          "text": [
            "INFO:tensorflow:Assets written to: /content/drive/My Drive/assets\n",
            "WARNING:absl:<keras.layers.recurrent.LSTMCell object at 0x7fb3ffecbd50> has the same name 'LSTMCell' as a built-in Keras object. Consider renaming <class 'keras.layers.recurrent.LSTMCell'> to avoid naming conflicts when loading with `tf.keras.models.load_model`. If renaming is not possible, pass the object in the `custom_objects` parameter of the load function.\n",
            "WARNING:absl:<keras.layers.recurrent.LSTMCell object at 0x7fb38749db10> has the same name 'LSTMCell' as a built-in Keras object. Consider renaming <class 'keras.layers.recurrent.LSTMCell'> to avoid naming conflicts when loading with `tf.keras.models.load_model`. If renaming is not possible, pass the object in the `custom_objects` parameter of the load function.\n"
          ]
        },
        {
          "output_type": "stream",
          "name": "stdout",
          "text": [
            "\b\b\b\b\b\b\b\b\b\b\b\b\b\b\b\b\b\b\b\b\b\b\b\b\b\b\b\b\b\b\b\b\b\b\b\b\b\b\b\b\b\b\b\b\b\b\b\b\b\b\b\b\b\b\b\b\b\b\b\b\b\b\b\b\b\b\b\b\b\b\b\b\b\b\b\b\b\r20/20 [==============================] - 20s 1s/step - loss: 1.9423 - acc: 0.4250 - val_loss: 1.9813 - val_acc: 0.4134\n",
            "Epoch 91/1000\n",
            "19/20 [===========================>..] - ETA: 0s - loss: 1.8659 - acc: 0.4443\n",
            "----- Generating text after Epoch: 90\n",
            "----- Generating with seed: \" plus it s for chari\"\n",
            " plus it s for charin the dist emorgiten thou reilgt sia the d regor of the dustion scours the domed rebuct new sfarte the out for sekare uppersed ciave emitasi\n",
            "Epoch 91: val_loss did not improve from 1.98126\n",
            "20/20 [==============================] - 10s 528ms/step - loss: 1.8603 - acc: 0.4459 - val_loss: 1.9940 - val_acc: 0.4110\n",
            "Epoch 92/1000\n",
            "19/20 [===========================>..] - ETA: 0s - loss: 1.9363 - acc: 0.4137\n",
            "----- Generating text after Epoch: 91\n",
            "----- Generating with seed: \"re circa sydney busi\"\n",
            "re circa sydney busins trome un ust reglems hats and the doce blising crupremcry the doly mastians uphobrent grobed moshing gratlifie arotass is wrot far recabn\n",
            "Epoch 92: val_loss improved from 1.98126 to 1.97761, saving model to /content/drive/My Drive/\n"
          ]
        },
        {
          "output_type": "stream",
          "name": "stderr",
          "text": [
            "WARNING:absl:Found untraced functions such as lstm_cell_layer_call_fn, lstm_cell_layer_call_and_return_conditional_losses, lstm_cell_1_layer_call_fn, lstm_cell_1_layer_call_and_return_conditional_losses while saving (showing 4 of 4). These functions will not be directly callable after loading.\n"
          ]
        },
        {
          "output_type": "stream",
          "name": "stdout",
          "text": [
            "INFO:tensorflow:Assets written to: /content/drive/My Drive/assets\n"
          ]
        },
        {
          "output_type": "stream",
          "name": "stderr",
          "text": [
            "INFO:tensorflow:Assets written to: /content/drive/My Drive/assets\n",
            "WARNING:absl:<keras.layers.recurrent.LSTMCell object at 0x7fb3ffecbd50> has the same name 'LSTMCell' as a built-in Keras object. Consider renaming <class 'keras.layers.recurrent.LSTMCell'> to avoid naming conflicts when loading with `tf.keras.models.load_model`. If renaming is not possible, pass the object in the `custom_objects` parameter of the load function.\n",
            "WARNING:absl:<keras.layers.recurrent.LSTMCell object at 0x7fb38749db10> has the same name 'LSTMCell' as a built-in Keras object. Consider renaming <class 'keras.layers.recurrent.LSTMCell'> to avoid naming conflicts when loading with `tf.keras.models.load_model`. If renaming is not possible, pass the object in the `custom_objects` parameter of the load function.\n"
          ]
        },
        {
          "output_type": "stream",
          "name": "stdout",
          "text": [
            "\b\b\b\b\b\b\b\b\b\b\b\b\b\b\b\b\b\b\b\b\b\b\b\b\b\b\b\b\b\b\b\b\b\b\b\b\b\b\b\b\b\b\b\b\b\b\b\b\b\b\b\b\b\b\b\b\b\b\b\b\b\b\b\b\b\b\b\b\b\b\b\b\b\b\b\b\b\r20/20 [==============================] - 20s 1s/step - loss: 1.9376 - acc: 0.4133 - val_loss: 1.9776 - val_acc: 0.4193\n",
            "Epoch 93/1000\n",
            "19/20 [===========================>..] - ETA: 0s - loss: 1.9273 - acc: 0.4338\n",
            "----- Generating text after Epoch: 92\n",
            "----- Generating with seed: \"hday so why didn t t\"\n",
            "hday so why didn t the dea fahinq toing ulans srowk llever lapbors well of has goe beranker eqpertateljsea on ink the dealdoraldtrump zn cose that coming weed b\n",
            "Epoch 93: val_loss did not improve from 1.97761\n",
            "20/20 [==============================] - 10s 537ms/step - loss: 1.9228 - acc: 0.4313 - val_loss: 1.9840 - val_acc: 0.4118\n",
            "Epoch 94/1000\n",
            "19/20 [===========================>..] - ETA: 0s - loss: 1.8895 - acc: 0.4289\n",
            "----- Generating text after Epoch: 93\n",
            "----- Generating with seed: \"y husbands job for y\"\n",
            "y husbands job for your hamerop tre ver comprewting todoe ampeose fox congater thime bat averibing trump nos wonka https t co oznkjs ndat houling ling lisd now \n",
            "Epoch 94: val_loss improved from 1.97761 to 1.96767, saving model to /content/drive/My Drive/\n"
          ]
        },
        {
          "output_type": "stream",
          "name": "stderr",
          "text": [
            "WARNING:absl:Found untraced functions such as lstm_cell_layer_call_fn, lstm_cell_layer_call_and_return_conditional_losses, lstm_cell_1_layer_call_fn, lstm_cell_1_layer_call_and_return_conditional_losses while saving (showing 4 of 4). These functions will not be directly callable after loading.\n"
          ]
        },
        {
          "output_type": "stream",
          "name": "stdout",
          "text": [
            "INFO:tensorflow:Assets written to: /content/drive/My Drive/assets\n"
          ]
        },
        {
          "output_type": "stream",
          "name": "stderr",
          "text": [
            "INFO:tensorflow:Assets written to: /content/drive/My Drive/assets\n",
            "WARNING:absl:<keras.layers.recurrent.LSTMCell object at 0x7fb3ffecbd50> has the same name 'LSTMCell' as a built-in Keras object. Consider renaming <class 'keras.layers.recurrent.LSTMCell'> to avoid naming conflicts when loading with `tf.keras.models.load_model`. If renaming is not possible, pass the object in the `custom_objects` parameter of the load function.\n",
            "WARNING:absl:<keras.layers.recurrent.LSTMCell object at 0x7fb38749db10> has the same name 'LSTMCell' as a built-in Keras object. Consider renaming <class 'keras.layers.recurrent.LSTMCell'> to avoid naming conflicts when loading with `tf.keras.models.load_model`. If renaming is not possible, pass the object in the `custom_objects` parameter of the load function.\n"
          ]
        },
        {
          "output_type": "stream",
          "name": "stdout",
          "text": [
            "\b\b\b\b\b\b\b\b\b\b\b\b\b\b\b\b\b\b\b\b\b\b\b\b\b\b\b\b\b\b\b\b\b\b\b\b\b\b\b\b\b\b\b\b\b\b\b\b\b\b\b\b\b\b\b\b\b\b\b\b\b\b\b\b\b\b\b\b\b\b\b\b\b\b\b\b\b\r20/20 [==============================] - 21s 1s/step - loss: 1.8926 - acc: 0.4258 - val_loss: 1.9677 - val_acc: 0.4236\n",
            "Epoch 95/1000\n",
            "19/20 [===========================>..] - ETA: 0s - loss: 1.9681 - acc: 0.4252\n",
            "----- Generating text after Epoch: 94\n",
            "----- Generating with seed: \"u i look forward to \"\n",
            "u i look forward to nows gret tho u do yfter and gacatident care and godzes your of dolly hat coutrigat tho by privineteol on oneuhtry neg realdonaldtrump hes a\n",
            "Epoch 95: val_loss improved from 1.96767 to 1.96764, saving model to /content/drive/My Drive/\n"
          ]
        },
        {
          "output_type": "stream",
          "name": "stderr",
          "text": [
            "WARNING:absl:Found untraced functions such as lstm_cell_layer_call_fn, lstm_cell_layer_call_and_return_conditional_losses, lstm_cell_1_layer_call_fn, lstm_cell_1_layer_call_and_return_conditional_losses while saving (showing 4 of 4). These functions will not be directly callable after loading.\n"
          ]
        },
        {
          "output_type": "stream",
          "name": "stdout",
          "text": [
            "INFO:tensorflow:Assets written to: /content/drive/My Drive/assets\n"
          ]
        },
        {
          "output_type": "stream",
          "name": "stderr",
          "text": [
            "INFO:tensorflow:Assets written to: /content/drive/My Drive/assets\n",
            "WARNING:absl:<keras.layers.recurrent.LSTMCell object at 0x7fb3ffecbd50> has the same name 'LSTMCell' as a built-in Keras object. Consider renaming <class 'keras.layers.recurrent.LSTMCell'> to avoid naming conflicts when loading with `tf.keras.models.load_model`. If renaming is not possible, pass the object in the `custom_objects` parameter of the load function.\n",
            "WARNING:absl:<keras.layers.recurrent.LSTMCell object at 0x7fb38749db10> has the same name 'LSTMCell' as a built-in Keras object. Consider renaming <class 'keras.layers.recurrent.LSTMCell'> to avoid naming conflicts when loading with `tf.keras.models.load_model`. If renaming is not possible, pass the object in the `custom_objects` parameter of the load function.\n"
          ]
        },
        {
          "output_type": "stream",
          "name": "stdout",
          "text": [
            "\b\b\b\b\b\b\b\b\b\b\b\b\b\b\b\b\b\b\b\b\b\b\b\b\b\b\b\b\b\b\b\b\b\b\b\b\b\b\b\b\b\b\b\b\b\b\b\b\b\b\b\b\b\b\b\b\b\b\b\b\b\b\b\b\b\b\b\b\b\b\b\b\b\b\b\b\b\r20/20 [==============================] - 21s 1s/step - loss: 1.9639 - acc: 0.4250 - val_loss: 1.9676 - val_acc: 0.4173\n",
            "Epoch 96/1000\n",
            "19/20 [===========================>..] - ETA: 0s - loss: 1.9050 - acc: 0.4289\n",
            "----- Generating text after Epoch: 95\n",
            "----- Generating with seed: \"unreliable http t co\"\n",
            "unreliable http t co wbzqpxdkelhd dend ths nush trot apt tide the ylos andusted ant i ebminmingt jeand pollony amerguins in trump jums i veteme mackrast they no\n",
            "Epoch 96: val_loss improved from 1.96764 to 1.96697, saving model to /content/drive/My Drive/\n"
          ]
        },
        {
          "output_type": "stream",
          "name": "stderr",
          "text": [
            "WARNING:absl:Found untraced functions such as lstm_cell_layer_call_fn, lstm_cell_layer_call_and_return_conditional_losses, lstm_cell_1_layer_call_fn, lstm_cell_1_layer_call_and_return_conditional_losses while saving (showing 4 of 4). These functions will not be directly callable after loading.\n"
          ]
        },
        {
          "output_type": "stream",
          "name": "stdout",
          "text": [
            "INFO:tensorflow:Assets written to: /content/drive/My Drive/assets\n"
          ]
        },
        {
          "output_type": "stream",
          "name": "stderr",
          "text": [
            "INFO:tensorflow:Assets written to: /content/drive/My Drive/assets\n",
            "WARNING:absl:<keras.layers.recurrent.LSTMCell object at 0x7fb3ffecbd50> has the same name 'LSTMCell' as a built-in Keras object. Consider renaming <class 'keras.layers.recurrent.LSTMCell'> to avoid naming conflicts when loading with `tf.keras.models.load_model`. If renaming is not possible, pass the object in the `custom_objects` parameter of the load function.\n",
            "WARNING:absl:<keras.layers.recurrent.LSTMCell object at 0x7fb38749db10> has the same name 'LSTMCell' as a built-in Keras object. Consider renaming <class 'keras.layers.recurrent.LSTMCell'> to avoid naming conflicts when loading with `tf.keras.models.load_model`. If renaming is not possible, pass the object in the `custom_objects` parameter of the load function.\n"
          ]
        },
        {
          "output_type": "stream",
          "name": "stdout",
          "text": [
            "\b\b\b\b\b\b\b\b\b\b\b\b\b\b\b\b\b\b\b\b\b\b\b\b\b\b\b\b\b\b\b\b\b\b\b\b\b\b\b\b\b\b\b\b\b\b\b\b\b\b\b\b\b\b\b\b\b\b\b\b\b\b\b\b\b\b\b\b\b\b\b\b\b\b\b\b\b\r20/20 [==============================] - 20s 1s/step - loss: 1.9007 - acc: 0.4285 - val_loss: 1.9670 - val_acc: 0.4211\n",
            "Epoch 97/1000\n",
            "19/20 [===========================>..] - ETA: 0s - loss: 1.9238 - acc: 0.4400\n",
            "----- Generating text after Epoch: 96\n",
            "----- Generating with seed: \"siness again you are\"\n",
            "siness again you are the out to out payaurs dectiling fat mer https t co s cuzkb v xor ou hore tw be ade the pentidemt to koop couror sseeg thay reald ofar hand\n",
            "Epoch 97: val_loss did not improve from 1.96697\n",
            "20/20 [==============================] - 10s 532ms/step - loss: 1.9141 - acc: 0.4422 - val_loss: 1.9692 - val_acc: 0.4215\n",
            "Epoch 98/1000\n",
            "18/20 [==========================>...] - ETA: 0s - loss: 1.8922 - acc: 0.4288\n",
            "----- Generating text after Epoch: 97\n",
            "----- Generating with seed: \" obama holdover days\"\n",
            " obama holdover daysenten midh t we distle chictent realdonaldtrump lisb t acdecon ifeorsiontem hat colters the rilastiye sipe repposesiging ald dore in thas ke\n",
            "Epoch 98: val_loss improved from 1.96697 to 1.96301, saving model to /content/drive/My Drive/\n"
          ]
        },
        {
          "output_type": "stream",
          "name": "stderr",
          "text": [
            "WARNING:absl:Found untraced functions such as lstm_cell_layer_call_fn, lstm_cell_layer_call_and_return_conditional_losses, lstm_cell_1_layer_call_fn, lstm_cell_1_layer_call_and_return_conditional_losses while saving (showing 4 of 4). These functions will not be directly callable after loading.\n"
          ]
        },
        {
          "output_type": "stream",
          "name": "stdout",
          "text": [
            "INFO:tensorflow:Assets written to: /content/drive/My Drive/assets\n"
          ]
        },
        {
          "output_type": "stream",
          "name": "stderr",
          "text": [
            "INFO:tensorflow:Assets written to: /content/drive/My Drive/assets\n",
            "WARNING:absl:<keras.layers.recurrent.LSTMCell object at 0x7fb3ffecbd50> has the same name 'LSTMCell' as a built-in Keras object. Consider renaming <class 'keras.layers.recurrent.LSTMCell'> to avoid naming conflicts when loading with `tf.keras.models.load_model`. If renaming is not possible, pass the object in the `custom_objects` parameter of the load function.\n",
            "WARNING:absl:<keras.layers.recurrent.LSTMCell object at 0x7fb38749db10> has the same name 'LSTMCell' as a built-in Keras object. Consider renaming <class 'keras.layers.recurrent.LSTMCell'> to avoid naming conflicts when loading with `tf.keras.models.load_model`. If renaming is not possible, pass the object in the `custom_objects` parameter of the load function.\n"
          ]
        },
        {
          "output_type": "stream",
          "name": "stdout",
          "text": [
            "\b\b\b\b\b\b\b\b\b\b\b\b\b\b\b\b\b\b\b\b\b\b\b\b\b\b\b\b\b\b\b\b\b\b\b\b\b\b\b\b\b\b\b\b\b\b\b\b\b\b\b\b\b\b\b\b\b\b\b\b\b\b\b\b\b\b\b\b\b\b\b\b\b\b\b\b\b\r20/20 [==============================] - 20s 1s/step - loss: 1.8884 - acc: 0.4297 - val_loss: 1.9630 - val_acc: 0.4228\n",
            "Epoch 99/1000\n",
            "19/20 [===========================>..] - ETA: 0s - loss: 1.9309 - acc: 0.4293\n",
            "----- Generating text after Epoch: 98\n",
            "----- Generating with seed: \"erispone your taxes \"\n",
            "erispone your taxes ch pole on curting ow dollaprents attht tede a up was whe ho the no https t co khc leugfu regot ester at doint at hnver and pornep the coul \n",
            "Epoch 99: val_loss did not improve from 1.96301\n",
            "20/20 [==============================] - 10s 532ms/step - loss: 1.9211 - acc: 0.4324 - val_loss: 1.9699 - val_acc: 0.4229\n",
            "Epoch 100/1000\n",
            "19/20 [===========================>..] - ETA: 0s - loss: 1.9928 - acc: 0.4100\n",
            "----- Generating text after Epoch: 99\n",
            "----- Generating with seed: \" blowout mariabartir\"\n",
            " blowout mariabartirns listeg op yhank and th m vin popllecron it od how has i mak in neoken and wally the uif juintrent we harkand fare ved yofr amprabican tha\n",
            "Epoch 100: val_loss did not improve from 1.96301\n",
            "20/20 [==============================] - 10s 536ms/step - loss: 1.9819 - acc: 0.4117 - val_loss: 1.9703 - val_acc: 0.4113\n",
            "Epoch 101/1000\n",
            "19/20 [===========================>..] - ETA: 0s - loss: 1.9244 - acc: 0.4227\n",
            "----- Generating text after Epoch: 100\n",
            "----- Generating with seed: \"x they love to spend\"\n",
            "x they love to spendizbach fanc andor my was do li t cennest sof eme togay wid the for greattingss plompution thad jum fes trump scopeanuls and s taddasy with h\n",
            "Epoch 101: val_loss improved from 1.96301 to 1.95582, saving model to /content/drive/My Drive/\n"
          ]
        },
        {
          "output_type": "stream",
          "name": "stderr",
          "text": [
            "WARNING:absl:Found untraced functions such as lstm_cell_layer_call_fn, lstm_cell_layer_call_and_return_conditional_losses, lstm_cell_1_layer_call_fn, lstm_cell_1_layer_call_and_return_conditional_losses while saving (showing 4 of 4). These functions will not be directly callable after loading.\n"
          ]
        },
        {
          "output_type": "stream",
          "name": "stdout",
          "text": [
            "INFO:tensorflow:Assets written to: /content/drive/My Drive/assets\n"
          ]
        },
        {
          "output_type": "stream",
          "name": "stderr",
          "text": [
            "INFO:tensorflow:Assets written to: /content/drive/My Drive/assets\n",
            "WARNING:absl:<keras.layers.recurrent.LSTMCell object at 0x7fb3ffecbd50> has the same name 'LSTMCell' as a built-in Keras object. Consider renaming <class 'keras.layers.recurrent.LSTMCell'> to avoid naming conflicts when loading with `tf.keras.models.load_model`. If renaming is not possible, pass the object in the `custom_objects` parameter of the load function.\n",
            "WARNING:absl:<keras.layers.recurrent.LSTMCell object at 0x7fb38749db10> has the same name 'LSTMCell' as a built-in Keras object. Consider renaming <class 'keras.layers.recurrent.LSTMCell'> to avoid naming conflicts when loading with `tf.keras.models.load_model`. If renaming is not possible, pass the object in the `custom_objects` parameter of the load function.\n"
          ]
        },
        {
          "output_type": "stream",
          "name": "stdout",
          "text": [
            "\b\b\b\b\b\b\b\b\b\b\b\b\b\b\b\b\b\b\b\b\b\b\b\b\b\b\b\b\b\b\b\b\b\b\b\b\b\b\b\b\b\b\b\b\b\b\b\b\b\b\b\b\b\b\b\b\b\b\b\b\b\b\b\b\b\b\b\b\b\b\b\b\b\b\b\b\b\r20/20 [==============================] - 21s 1s/step - loss: 1.9267 - acc: 0.4215 - val_loss: 1.9558 - val_acc: 0.4208\n",
            "Epoch 102/1000\n",
            "19/20 [===========================>..] - ETA: 0s - loss: 1.8517 - acc: 0.4412\n",
            "----- Generating text after Epoch: 101\n",
            "----- Generating with seed: \"d kick hiliary s ass\"\n",
            "d kick hiliary s ass thingscites realdonaldtrump courtry in asae my https t co mwwcm ji  br eed a th the becile to dealdingtoy be ted ecting it grattall seae wh\n",
            "Epoch 102: val_loss improved from 1.95582 to 1.94940, saving model to /content/drive/My Drive/\n"
          ]
        },
        {
          "output_type": "stream",
          "name": "stderr",
          "text": [
            "WARNING:absl:Found untraced functions such as lstm_cell_layer_call_fn, lstm_cell_layer_call_and_return_conditional_losses, lstm_cell_1_layer_call_fn, lstm_cell_1_layer_call_and_return_conditional_losses while saving (showing 4 of 4). These functions will not be directly callable after loading.\n"
          ]
        },
        {
          "output_type": "stream",
          "name": "stdout",
          "text": [
            "INFO:tensorflow:Assets written to: /content/drive/My Drive/assets\n"
          ]
        },
        {
          "output_type": "stream",
          "name": "stderr",
          "text": [
            "INFO:tensorflow:Assets written to: /content/drive/My Drive/assets\n",
            "WARNING:absl:<keras.layers.recurrent.LSTMCell object at 0x7fb3ffecbd50> has the same name 'LSTMCell' as a built-in Keras object. Consider renaming <class 'keras.layers.recurrent.LSTMCell'> to avoid naming conflicts when loading with `tf.keras.models.load_model`. If renaming is not possible, pass the object in the `custom_objects` parameter of the load function.\n",
            "WARNING:absl:<keras.layers.recurrent.LSTMCell object at 0x7fb38749db10> has the same name 'LSTMCell' as a built-in Keras object. Consider renaming <class 'keras.layers.recurrent.LSTMCell'> to avoid naming conflicts when loading with `tf.keras.models.load_model`. If renaming is not possible, pass the object in the `custom_objects` parameter of the load function.\n"
          ]
        },
        {
          "output_type": "stream",
          "name": "stdout",
          "text": [
            "\b\b\b\b\b\b\b\b\b\b\b\b\b\b\b\b\b\b\b\b\b\b\b\b\b\b\b\b\b\b\b\b\b\b\b\b\b\b\b\b\b\b\b\b\b\b\b\b\b\b\b\b\b\b\b\b\b\b\b\b\b\b\b\b\b\b\b\b\b\b\b\b\b\b\b\b\b\r20/20 [==============================] - 21s 1s/step - loss: 1.8519 - acc: 0.4422 - val_loss: 1.9494 - val_acc: 0.4283\n",
            "Epoch 103/1000\n",
            "19/20 [===========================>..] - ETA: 0s - loss: 1.8502 - acc: 0.4478\n",
            "----- Generating text after Epoch: 102\n",
            "----- Generating with seed: \" corruption and irre\"\n",
            " corruption and irreandonald jurker to his need sias gedonem reporting for bogut coun mizware cemortwe medondos a make egars crige cromers ruckors lahesin when \n",
            "Epoch 103: val_loss did not improve from 1.94940\n",
            "20/20 [==============================] - 10s 533ms/step - loss: 1.8595 - acc: 0.4469 - val_loss: 1.9557 - val_acc: 0.4268\n",
            "Epoch 104/1000\n",
            "19/20 [===========================>..] - ETA: 0s - loss: 1.8870 - acc: 0.4408\n",
            "----- Generating text after Epoch: 103\n",
            "----- Generating with seed: \"t show with david le\"\n",
            "t show with david lecofed cill bule ne dill deps the s will dope if seorts a tcus and keland is now so binned the jupnupsing tho solid beny now just yau teds th\n",
            "Epoch 104: val_loss improved from 1.94940 to 1.94172, saving model to /content/drive/My Drive/\n"
          ]
        },
        {
          "output_type": "stream",
          "name": "stderr",
          "text": [
            "WARNING:absl:Found untraced functions such as lstm_cell_layer_call_fn, lstm_cell_layer_call_and_return_conditional_losses, lstm_cell_1_layer_call_fn, lstm_cell_1_layer_call_and_return_conditional_losses while saving (showing 4 of 4). These functions will not be directly callable after loading.\n"
          ]
        },
        {
          "output_type": "stream",
          "name": "stdout",
          "text": [
            "INFO:tensorflow:Assets written to: /content/drive/My Drive/assets\n"
          ]
        },
        {
          "output_type": "stream",
          "name": "stderr",
          "text": [
            "INFO:tensorflow:Assets written to: /content/drive/My Drive/assets\n",
            "WARNING:absl:<keras.layers.recurrent.LSTMCell object at 0x7fb3ffecbd50> has the same name 'LSTMCell' as a built-in Keras object. Consider renaming <class 'keras.layers.recurrent.LSTMCell'> to avoid naming conflicts when loading with `tf.keras.models.load_model`. If renaming is not possible, pass the object in the `custom_objects` parameter of the load function.\n",
            "WARNING:absl:<keras.layers.recurrent.LSTMCell object at 0x7fb38749db10> has the same name 'LSTMCell' as a built-in Keras object. Consider renaming <class 'keras.layers.recurrent.LSTMCell'> to avoid naming conflicts when loading with `tf.keras.models.load_model`. If renaming is not possible, pass the object in the `custom_objects` parameter of the load function.\n"
          ]
        },
        {
          "output_type": "stream",
          "name": "stdout",
          "text": [
            "\b\b\b\b\b\b\b\b\b\b\b\b\b\b\b\b\b\b\b\b\b\b\b\b\b\b\b\b\b\b\b\b\b\b\b\b\b\b\b\b\b\b\b\b\b\b\b\b\b\b\b\b\b\b\b\b\b\b\b\b\b\b\b\b\b\b\b\b\b\b\b\b\b\b\b\b\b\r20/20 [==============================] - 20s 1s/step - loss: 1.8914 - acc: 0.4387 - val_loss: 1.9417 - val_acc: 0.4303\n",
            "Epoch 105/1000\n",
            "19/20 [===========================>..] - ETA: 0s - loss: 1.8734 - acc: 0.4441\n",
            "----- Generating text after Epoch: 104\n",
            "----- Generating with seed: \"d have absolutely no\"\n",
            "d have absolutely noly thouting groatcs non hanters and troushoaldouler the ush the ole the burs it mogly this heapt of alestion bercend kid marns a will will b\n",
            "Epoch 105: val_loss did not improve from 1.94172\n",
            "20/20 [==============================] - 10s 528ms/step - loss: 1.8679 - acc: 0.4422 - val_loss: 1.9436 - val_acc: 0.4287\n",
            "Epoch 106/1000\n",
            "19/20 [===========================>..] - ETA: 0s - loss: 1.8810 - acc: 0.4509\n",
            "----- Generating text after Epoch: 105\n",
            "----- Generating with seed: \"n t afford gravismar\"\n",
            "n t afford gravismaris wo cany fice we we we clo past mund trun as tiis in on zodmigaatvy great agtev torald amp the resilands cronfa ouh spessent wiwe ast to s\n",
            "Epoch 106: val_loss did not improve from 1.94172\n",
            "20/20 [==============================] - 10s 532ms/step - loss: 1.8765 - acc: 0.4522 - val_loss: 1.9418 - val_acc: 0.4233\n",
            "Epoch 107/1000\n",
            "19/20 [===========================>..] - ETA: 0s - loss: 1.8646 - acc: 0.4305\n",
            "----- Generating text after Epoch: 106\n",
            "----- Generating with seed: \"yle exclusive never \"\n",
            "yle exclusive never car be jud son glannyrurs raticg sxive guin you do do cantor lor lolido and touted rilider resing om arso to cent thim furt you cfemesting a\n",
            "Epoch 107: val_loss did not improve from 1.94172\n",
            "20/20 [==============================] - 11s 567ms/step - loss: 1.8644 - acc: 0.4313 - val_loss: 1.9460 - val_acc: 0.4270\n",
            "Epoch 108/1000\n",
            "19/20 [===========================>..] - ETA: 0s - loss: 1.8336 - acc: 0.4593\n",
            "----- Generating text after Epoch: 107\n",
            "----- Generating with seed: \"james comey lied and\"\n",
            "james comey lied and the dodo https t co vmvfkm  uin with the repapet ofchouse https t co pismscw t contidens m bot are camp concaplimilim trump sebpiht a treeb\n",
            "Epoch 108: val_loss improved from 1.94172 to 1.94047, saving model to /content/drive/My Drive/\n"
          ]
        },
        {
          "output_type": "stream",
          "name": "stderr",
          "text": [
            "WARNING:absl:Found untraced functions such as lstm_cell_layer_call_fn, lstm_cell_layer_call_and_return_conditional_losses, lstm_cell_1_layer_call_fn, lstm_cell_1_layer_call_and_return_conditional_losses while saving (showing 4 of 4). These functions will not be directly callable after loading.\n"
          ]
        },
        {
          "output_type": "stream",
          "name": "stdout",
          "text": [
            "INFO:tensorflow:Assets written to: /content/drive/My Drive/assets\n"
          ]
        },
        {
          "output_type": "stream",
          "name": "stderr",
          "text": [
            "INFO:tensorflow:Assets written to: /content/drive/My Drive/assets\n",
            "WARNING:absl:<keras.layers.recurrent.LSTMCell object at 0x7fb3ffecbd50> has the same name 'LSTMCell' as a built-in Keras object. Consider renaming <class 'keras.layers.recurrent.LSTMCell'> to avoid naming conflicts when loading with `tf.keras.models.load_model`. If renaming is not possible, pass the object in the `custom_objects` parameter of the load function.\n",
            "WARNING:absl:<keras.layers.recurrent.LSTMCell object at 0x7fb38749db10> has the same name 'LSTMCell' as a built-in Keras object. Consider renaming <class 'keras.layers.recurrent.LSTMCell'> to avoid naming conflicts when loading with `tf.keras.models.load_model`. If renaming is not possible, pass the object in the `custom_objects` parameter of the load function.\n"
          ]
        },
        {
          "output_type": "stream",
          "name": "stdout",
          "text": [
            "\b\b\b\b\b\b\b\b\b\b\b\b\b\b\b\b\b\b\b\b\b\b\b\b\b\b\b\b\b\b\b\b\b\b\b\b\b\b\b\b\b\b\b\b\b\b\b\b\b\b\b\b\b\b\b\b\b\b\b\b\b\b\b\b\b\b\b\b\b\b\b\b\b\b\b\b\b\r20/20 [==============================] - 20s 1s/step - loss: 1.8366 - acc: 0.4566 - val_loss: 1.9405 - val_acc: 0.4233\n",
            "Epoch 109/1000\n",
            "19/20 [===========================>..] - ETA: 0s - loss: 1.8707 - acc: 0.4437\n",
            "----- Generating text after Epoch: 108\n",
            "----- Generating with seed: \"n the world many job\"\n",
            "n the world many jobion presstect part in sordonald forie trounh of and never a mafica white ho realdonaldtrump ist considon jestorf s froe fowing to take amppa\n",
            "Epoch 109: val_loss improved from 1.94047 to 1.93778, saving model to /content/drive/My Drive/\n"
          ]
        },
        {
          "output_type": "stream",
          "name": "stderr",
          "text": [
            "WARNING:absl:Found untraced functions such as lstm_cell_layer_call_fn, lstm_cell_layer_call_and_return_conditional_losses, lstm_cell_1_layer_call_fn, lstm_cell_1_layer_call_and_return_conditional_losses while saving (showing 4 of 4). These functions will not be directly callable after loading.\n"
          ]
        },
        {
          "output_type": "stream",
          "name": "stdout",
          "text": [
            "INFO:tensorflow:Assets written to: /content/drive/My Drive/assets\n"
          ]
        },
        {
          "output_type": "stream",
          "name": "stderr",
          "text": [
            "INFO:tensorflow:Assets written to: /content/drive/My Drive/assets\n",
            "WARNING:absl:<keras.layers.recurrent.LSTMCell object at 0x7fb3ffecbd50> has the same name 'LSTMCell' as a built-in Keras object. Consider renaming <class 'keras.layers.recurrent.LSTMCell'> to avoid naming conflicts when loading with `tf.keras.models.load_model`. If renaming is not possible, pass the object in the `custom_objects` parameter of the load function.\n",
            "WARNING:absl:<keras.layers.recurrent.LSTMCell object at 0x7fb38749db10> has the same name 'LSTMCell' as a built-in Keras object. Consider renaming <class 'keras.layers.recurrent.LSTMCell'> to avoid naming conflicts when loading with `tf.keras.models.load_model`. If renaming is not possible, pass the object in the `custom_objects` parameter of the load function.\n"
          ]
        },
        {
          "output_type": "stream",
          "name": "stdout",
          "text": [
            "\b\b\b\b\b\b\b\b\b\b\b\b\b\b\b\b\b\b\b\b\b\b\b\b\b\b\b\b\b\b\b\b\b\b\b\b\b\b\b\b\b\b\b\b\b\b\b\b\b\b\b\b\b\b\b\b\b\b\b\b\b\b\b\b\b\b\b\b\b\b\b\b\b\b\b\b\b\r20/20 [==============================] - 20s 1s/step - loss: 1.8692 - acc: 0.4437 - val_loss: 1.9378 - val_acc: 0.4294\n",
            "Epoch 110/1000\n",
            "19/20 [===========================>..] - ETA: 0s - loss: 1.8462 - acc: 0.4576\n",
            "----- Generating text after Epoch: 109\n",
            "----- Generating with seed: \"as the best candidat\"\n",
            "as the best candidats dikstrested has i all axf at senwerd ooring so gof reslesing aven the ropice hasid the owed to bust no do replented of me onstrem troing c\n",
            "Epoch 110: val_loss improved from 1.93778 to 1.93412, saving model to /content/drive/My Drive/\n"
          ]
        },
        {
          "output_type": "stream",
          "name": "stderr",
          "text": [
            "WARNING:absl:Found untraced functions such as lstm_cell_layer_call_fn, lstm_cell_layer_call_and_return_conditional_losses, lstm_cell_1_layer_call_fn, lstm_cell_1_layer_call_and_return_conditional_losses while saving (showing 4 of 4). These functions will not be directly callable after loading.\n"
          ]
        },
        {
          "output_type": "stream",
          "name": "stdout",
          "text": [
            "INFO:tensorflow:Assets written to: /content/drive/My Drive/assets\n"
          ]
        },
        {
          "output_type": "stream",
          "name": "stderr",
          "text": [
            "INFO:tensorflow:Assets written to: /content/drive/My Drive/assets\n",
            "WARNING:absl:<keras.layers.recurrent.LSTMCell object at 0x7fb3ffecbd50> has the same name 'LSTMCell' as a built-in Keras object. Consider renaming <class 'keras.layers.recurrent.LSTMCell'> to avoid naming conflicts when loading with `tf.keras.models.load_model`. If renaming is not possible, pass the object in the `custom_objects` parameter of the load function.\n",
            "WARNING:absl:<keras.layers.recurrent.LSTMCell object at 0x7fb38749db10> has the same name 'LSTMCell' as a built-in Keras object. Consider renaming <class 'keras.layers.recurrent.LSTMCell'> to avoid naming conflicts when loading with `tf.keras.models.load_model`. If renaming is not possible, pass the object in the `custom_objects` parameter of the load function.\n"
          ]
        },
        {
          "output_type": "stream",
          "name": "stdout",
          "text": [
            "\b\b\b\b\b\b\b\b\b\b\b\b\b\b\b\b\b\b\b\b\b\b\b\b\b\b\b\b\b\b\b\b\b\b\b\b\b\b\b\b\b\b\b\b\b\b\b\b\b\b\b\b\b\b\b\b\b\b\b\b\b\b\b\b\b\b\b\b\b\b\b\b\b\b\b\b\b\r20/20 [==============================] - 20s 1s/step - loss: 1.8536 - acc: 0.4535 - val_loss: 1.9341 - val_acc: 0.4347\n",
            "Epoch 111/1000\n",
            "19/20 [===========================>..] - ETA: 0s - loss: 1.8420 - acc: 0.4457\n",
            "----- Generating text after Epoch: 110\n",
            "----- Generating with seed: \"ocrats i have delaye\"\n",
            "ocrats i have delayes the oery this going fillesy thes ere he oul cayron the beemebrich wolld dotel thif hoald wirh you jeesned teger it sahy sthe your ho camp \n",
            "Epoch 111: val_loss improved from 1.93412 to 1.93380, saving model to /content/drive/My Drive/\n"
          ]
        },
        {
          "output_type": "stream",
          "name": "stderr",
          "text": [
            "WARNING:absl:Found untraced functions such as lstm_cell_layer_call_fn, lstm_cell_layer_call_and_return_conditional_losses, lstm_cell_1_layer_call_fn, lstm_cell_1_layer_call_and_return_conditional_losses while saving (showing 4 of 4). These functions will not be directly callable after loading.\n"
          ]
        },
        {
          "output_type": "stream",
          "name": "stdout",
          "text": [
            "INFO:tensorflow:Assets written to: /content/drive/My Drive/assets\n"
          ]
        },
        {
          "output_type": "stream",
          "name": "stderr",
          "text": [
            "INFO:tensorflow:Assets written to: /content/drive/My Drive/assets\n",
            "WARNING:absl:<keras.layers.recurrent.LSTMCell object at 0x7fb3ffecbd50> has the same name 'LSTMCell' as a built-in Keras object. Consider renaming <class 'keras.layers.recurrent.LSTMCell'> to avoid naming conflicts when loading with `tf.keras.models.load_model`. If renaming is not possible, pass the object in the `custom_objects` parameter of the load function.\n",
            "WARNING:absl:<keras.layers.recurrent.LSTMCell object at 0x7fb38749db10> has the same name 'LSTMCell' as a built-in Keras object. Consider renaming <class 'keras.layers.recurrent.LSTMCell'> to avoid naming conflicts when loading with `tf.keras.models.load_model`. If renaming is not possible, pass the object in the `custom_objects` parameter of the load function.\n"
          ]
        },
        {
          "output_type": "stream",
          "name": "stdout",
          "text": [
            "\b\b\b\b\b\b\b\b\b\b\b\b\b\b\b\b\b\b\b\b\b\b\b\b\b\b\b\b\b\b\b\b\b\b\b\b\b\b\b\b\b\b\b\b\b\b\b\b\b\b\b\b\b\b\b\b\b\b\b\b\b\b\b\b\b\b\b\b\b\b\b\b\b\b\b\b\b\r20/20 [==============================] - 21s 1s/step - loss: 1.8357 - acc: 0.4477 - val_loss: 1.9338 - val_acc: 0.4306\n",
            "Epoch 112/1000\n",
            "19/20 [===========================>..] - ETA: 0s - loss: 1.7945 - acc: 0.4564\n",
            "----- Generating text after Epoch: 111\n",
            "----- Generating with seed: \"ld have been present\"\n",
            "ld have been presents gou peoplig fromadaldtrumperoxg just bor grebirn on strong in the secart have realdonaldtrump defnterdilit  reartruspnbins amp istes onted\n",
            "Epoch 112: val_loss improved from 1.93380 to 1.93108, saving model to /content/drive/My Drive/\n"
          ]
        },
        {
          "output_type": "stream",
          "name": "stderr",
          "text": [
            "WARNING:absl:Found untraced functions such as lstm_cell_layer_call_fn, lstm_cell_layer_call_and_return_conditional_losses, lstm_cell_1_layer_call_fn, lstm_cell_1_layer_call_and_return_conditional_losses while saving (showing 4 of 4). These functions will not be directly callable after loading.\n"
          ]
        },
        {
          "output_type": "stream",
          "name": "stdout",
          "text": [
            "INFO:tensorflow:Assets written to: /content/drive/My Drive/assets\n"
          ]
        },
        {
          "output_type": "stream",
          "name": "stderr",
          "text": [
            "INFO:tensorflow:Assets written to: /content/drive/My Drive/assets\n",
            "WARNING:absl:<keras.layers.recurrent.LSTMCell object at 0x7fb3ffecbd50> has the same name 'LSTMCell' as a built-in Keras object. Consider renaming <class 'keras.layers.recurrent.LSTMCell'> to avoid naming conflicts when loading with `tf.keras.models.load_model`. If renaming is not possible, pass the object in the `custom_objects` parameter of the load function.\n",
            "WARNING:absl:<keras.layers.recurrent.LSTMCell object at 0x7fb38749db10> has the same name 'LSTMCell' as a built-in Keras object. Consider renaming <class 'keras.layers.recurrent.LSTMCell'> to avoid naming conflicts when loading with `tf.keras.models.load_model`. If renaming is not possible, pass the object in the `custom_objects` parameter of the load function.\n"
          ]
        },
        {
          "output_type": "stream",
          "name": "stdout",
          "text": [
            "\b\b\b\b\b\b\b\b\b\b\b\b\b\b\b\b\b\b\b\b\b\b\b\b\b\b\b\b\b\b\b\b\b\b\b\b\b\b\b\b\b\b\b\b\b\b\b\b\b\b\b\b\b\b\b\b\b\b\b\b\b\b\b\b\b\b\b\b\b\b\b\b\b\b\b\b\b\r20/20 [==============================] - 20s 1s/step - loss: 1.8012 - acc: 0.4563 - val_loss: 1.9311 - val_acc: 0.4342\n",
            "Epoch 113/1000\n",
            "19/20 [===========================>..] - ETA: 0s - loss: 1.7980 - acc: 0.4486\n",
            "----- Generating text after Epoch: 112\n",
            "----- Generating with seed: \"her country in the w\"\n",
            "her country in the wasbet on the bid they wan ist when it poote http t co r audedn u raqxnainn wrendonelly mar eched baked fr get indacd to trump dinessa then h\n",
            "Epoch 113: val_loss did not improve from 1.93108\n",
            "20/20 [==============================] - 10s 535ms/step - loss: 1.7906 - acc: 0.4500 - val_loss: 1.9316 - val_acc: 0.4299\n",
            "Epoch 114/1000\n",
            "19/20 [===========================>..] - ETA: 0s - loss: 1.8530 - acc: 0.4539\n",
            "----- Generating text after Epoch: 113\n",
            "----- Generating with seed: \" champion i loved it\"\n",
            " champion i loved it our be serqeant will the reaming lowth https t co rfrhksoho thank in the rusedent chantersion to is daves toror gherad willer to we kig din\n",
            "Epoch 114: val_loss improved from 1.93108 to 1.92474, saving model to /content/drive/My Drive/\n"
          ]
        },
        {
          "output_type": "stream",
          "name": "stderr",
          "text": [
            "WARNING:absl:Found untraced functions such as lstm_cell_layer_call_fn, lstm_cell_layer_call_and_return_conditional_losses, lstm_cell_1_layer_call_fn, lstm_cell_1_layer_call_and_return_conditional_losses while saving (showing 4 of 4). These functions will not be directly callable after loading.\n"
          ]
        },
        {
          "output_type": "stream",
          "name": "stdout",
          "text": [
            "INFO:tensorflow:Assets written to: /content/drive/My Drive/assets\n"
          ]
        },
        {
          "output_type": "stream",
          "name": "stderr",
          "text": [
            "INFO:tensorflow:Assets written to: /content/drive/My Drive/assets\n",
            "WARNING:absl:<keras.layers.recurrent.LSTMCell object at 0x7fb3ffecbd50> has the same name 'LSTMCell' as a built-in Keras object. Consider renaming <class 'keras.layers.recurrent.LSTMCell'> to avoid naming conflicts when loading with `tf.keras.models.load_model`. If renaming is not possible, pass the object in the `custom_objects` parameter of the load function.\n",
            "WARNING:absl:<keras.layers.recurrent.LSTMCell object at 0x7fb38749db10> has the same name 'LSTMCell' as a built-in Keras object. Consider renaming <class 'keras.layers.recurrent.LSTMCell'> to avoid naming conflicts when loading with `tf.keras.models.load_model`. If renaming is not possible, pass the object in the `custom_objects` parameter of the load function.\n"
          ]
        },
        {
          "output_type": "stream",
          "name": "stdout",
          "text": [
            "\b\b\b\b\b\b\b\b\b\b\b\b\b\b\b\b\b\b\b\b\b\b\b\b\b\b\b\b\b\b\b\b\b\b\b\b\b\b\b\b\b\b\b\b\b\b\b\b\b\b\b\b\b\b\b\b\b\b\b\b\b\b\b\b\b\b\b\b\b\b\b\b\b\b\b\b\b\r20/20 [==============================] - 20s 1s/step - loss: 1.8506 - acc: 0.4559 - val_loss: 1.9247 - val_acc: 0.4314\n",
            "Epoch 115/1000\n",
            "19/20 [===========================>..] - ETA: 0s - loss: 1.8598 - acc: 0.4461\n",
            "----- Generating text after Epoch: 114\n",
            "----- Generating with seed: \" you for being so gr\"\n",
            " you for being so groat trump jov moto thank your and sho dia boin the umpreet eftst no realdonaldtrurp we has your that would hive thank yie requget a bally he\n",
            "Epoch 115: val_loss did not improve from 1.92474\n",
            "20/20 [==============================] - 10s 532ms/step - loss: 1.8704 - acc: 0.4414 - val_loss: 1.9258 - val_acc: 0.4359\n",
            "Epoch 116/1000\n",
            "19/20 [===========================>..] - ETA: 0s - loss: 1.8009 - acc: 0.4663\n",
            "----- Generating text after Epoch: 115\n",
            "----- Generating with seed: \"ed system and only a\"\n",
            "ed system and only a svets the mess the peonicjen that joingrikon i ponident to ha penaction illan reasdonaldtrump sunlily anhouthygo i scdengo fox you bes stor\n",
            "Epoch 116: val_loss did not improve from 1.92474\n",
            "20/20 [==============================] - 10s 534ms/step - loss: 1.7981 - acc: 0.4680 - val_loss: 1.9253 - val_acc: 0.4323\n",
            "Epoch 117/1000\n",
            "19/20 [===========================>..] - ETA: 0s - loss: 1.8612 - acc: 0.4412\n",
            "----- Generating text after Epoch: 116\n",
            "----- Generating with seed: \"flag it seems that j\"\n",
            "flag it seems that juyw me is selun on thit a dour bile https t co rlakn ct tuory doq aror gow corfiame a now thet here hare chny paytringing groog amaia lave i\n",
            "Epoch 117: val_loss improved from 1.92474 to 1.92260, saving model to /content/drive/My Drive/\n"
          ]
        },
        {
          "output_type": "stream",
          "name": "stderr",
          "text": [
            "WARNING:absl:Found untraced functions such as lstm_cell_layer_call_fn, lstm_cell_layer_call_and_return_conditional_losses, lstm_cell_1_layer_call_fn, lstm_cell_1_layer_call_and_return_conditional_losses while saving (showing 4 of 4). These functions will not be directly callable after loading.\n"
          ]
        },
        {
          "output_type": "stream",
          "name": "stdout",
          "text": [
            "INFO:tensorflow:Assets written to: /content/drive/My Drive/assets\n"
          ]
        },
        {
          "output_type": "stream",
          "name": "stderr",
          "text": [
            "INFO:tensorflow:Assets written to: /content/drive/My Drive/assets\n",
            "WARNING:absl:<keras.layers.recurrent.LSTMCell object at 0x7fb3ffecbd50> has the same name 'LSTMCell' as a built-in Keras object. Consider renaming <class 'keras.layers.recurrent.LSTMCell'> to avoid naming conflicts when loading with `tf.keras.models.load_model`. If renaming is not possible, pass the object in the `custom_objects` parameter of the load function.\n",
            "WARNING:absl:<keras.layers.recurrent.LSTMCell object at 0x7fb38749db10> has the same name 'LSTMCell' as a built-in Keras object. Consider renaming <class 'keras.layers.recurrent.LSTMCell'> to avoid naming conflicts when loading with `tf.keras.models.load_model`. If renaming is not possible, pass the object in the `custom_objects` parameter of the load function.\n"
          ]
        },
        {
          "output_type": "stream",
          "name": "stdout",
          "text": [
            "\b\b\b\b\b\b\b\b\b\b\b\b\b\b\b\b\b\b\b\b\b\b\b\b\b\b\b\b\b\b\b\b\b\b\b\b\b\b\b\b\b\b\b\b\b\b\b\b\b\b\b\b\b\b\b\b\b\b\b\b\b\b\b\b\b\b\b\b\b\b\b\b\b\b\b\b\b\r20/20 [==============================] - 21s 1s/step - loss: 1.8596 - acc: 0.4414 - val_loss: 1.9226 - val_acc: 0.4340\n",
            "Epoch 118/1000\n",
            "19/20 [===========================>..] - ETA: 0s - loss: 1.8590 - acc: 0.4404\n",
            "----- Generating text after Epoch: 117\n",
            "----- Generating with seed: \" obama remove sancti\"\n",
            " obama remove sanction lich hasinelly andonets trump viderss inotallaweusion viemi they evectem caonibly sercaiging for enoded harccine a golae fupplec alove th\n",
            "Epoch 118: val_loss did not improve from 1.92260\n",
            "20/20 [==============================] - 10s 530ms/step - loss: 1.8598 - acc: 0.4395 - val_loss: 1.9264 - val_acc: 0.4312\n",
            "Epoch 119/1000\n",
            "19/20 [===========================>..] - ETA: 0s - loss: 1.8618 - acc: 0.4490\n",
            "----- Generating text after Epoch: 118\n",
            "----- Generating with seed: \"rump best interview \"\n",
            "rump best interview for our solus him ackeydews betenfiorse wise and fortor in evecrentins wito to harm meconders a boit nate your formord loff in exne theas th\n",
            "Epoch 119: val_loss improved from 1.92260 to 1.91381, saving model to /content/drive/My Drive/\n"
          ]
        },
        {
          "output_type": "stream",
          "name": "stderr",
          "text": [
            "WARNING:absl:Found untraced functions such as lstm_cell_layer_call_fn, lstm_cell_layer_call_and_return_conditional_losses, lstm_cell_1_layer_call_fn, lstm_cell_1_layer_call_and_return_conditional_losses while saving (showing 4 of 4). These functions will not be directly callable after loading.\n"
          ]
        },
        {
          "output_type": "stream",
          "name": "stdout",
          "text": [
            "INFO:tensorflow:Assets written to: /content/drive/My Drive/assets\n"
          ]
        },
        {
          "output_type": "stream",
          "name": "stderr",
          "text": [
            "INFO:tensorflow:Assets written to: /content/drive/My Drive/assets\n",
            "WARNING:absl:<keras.layers.recurrent.LSTMCell object at 0x7fb3ffecbd50> has the same name 'LSTMCell' as a built-in Keras object. Consider renaming <class 'keras.layers.recurrent.LSTMCell'> to avoid naming conflicts when loading with `tf.keras.models.load_model`. If renaming is not possible, pass the object in the `custom_objects` parameter of the load function.\n",
            "WARNING:absl:<keras.layers.recurrent.LSTMCell object at 0x7fb38749db10> has the same name 'LSTMCell' as a built-in Keras object. Consider renaming <class 'keras.layers.recurrent.LSTMCell'> to avoid naming conflicts when loading with `tf.keras.models.load_model`. If renaming is not possible, pass the object in the `custom_objects` parameter of the load function.\n"
          ]
        },
        {
          "output_type": "stream",
          "name": "stdout",
          "text": [
            "\b\b\b\b\b\b\b\b\b\b\b\b\b\b\b\b\b\b\b\b\b\b\b\b\b\b\b\b\b\b\b\b\b\b\b\b\b\b\b\b\b\b\b\b\b\b\b\b\b\b\b\b\b\b\b\b\b\b\b\b\b\b\b\b\b\b\b\b\b\b\b\b\b\b\b\b\b\r20/20 [==============================] - 21s 1s/step - loss: 1.8653 - acc: 0.4465 - val_loss: 1.9138 - val_acc: 0.4374\n",
            "Epoch 120/1000\n",
            "19/20 [===========================>..] - ETA: 0s - loss: 1.8015 - acc: 0.4544\n",
            "----- Generating text after Epoch: 119\n",
            "----- Generating with seed: \" time to watch dougt\"\n",
            " time to watch dougt so fourtry in nea realdonaldtrump fremubping thay i was hou be of shige corsing out nousine amp ss not will me on donnt whine st tinging i \n",
            "Epoch 120: val_loss did not improve from 1.91381\n",
            "20/20 [==============================] - 10s 532ms/step - loss: 1.8099 - acc: 0.4551 - val_loss: 1.9249 - val_acc: 0.4312\n",
            "Epoch 121/1000\n",
            "19/20 [===========================>..] - ETA: 0s - loss: 1.7692 - acc: 0.4739\n",
            "----- Generating text after Epoch: 120\n",
            "----- Generating with seed: \"josh the hillary lov\"\n",
            "josh the hillary love rut nothing realldnaldtrump sindar coupning propssud we realtinb the must is gleanve exezitidy lieva entryenved of herped is whe aodegcden\n",
            "Epoch 121: val_loss improved from 1.91381 to 1.91290, saving model to /content/drive/My Drive/\n"
          ]
        },
        {
          "output_type": "stream",
          "name": "stderr",
          "text": [
            "WARNING:absl:Found untraced functions such as lstm_cell_layer_call_fn, lstm_cell_layer_call_and_return_conditional_losses, lstm_cell_1_layer_call_fn, lstm_cell_1_layer_call_and_return_conditional_losses while saving (showing 4 of 4). These functions will not be directly callable after loading.\n"
          ]
        },
        {
          "output_type": "stream",
          "name": "stdout",
          "text": [
            "INFO:tensorflow:Assets written to: /content/drive/My Drive/assets\n"
          ]
        },
        {
          "output_type": "stream",
          "name": "stderr",
          "text": [
            "INFO:tensorflow:Assets written to: /content/drive/My Drive/assets\n",
            "WARNING:absl:<keras.layers.recurrent.LSTMCell object at 0x7fb3ffecbd50> has the same name 'LSTMCell' as a built-in Keras object. Consider renaming <class 'keras.layers.recurrent.LSTMCell'> to avoid naming conflicts when loading with `tf.keras.models.load_model`. If renaming is not possible, pass the object in the `custom_objects` parameter of the load function.\n",
            "WARNING:absl:<keras.layers.recurrent.LSTMCell object at 0x7fb38749db10> has the same name 'LSTMCell' as a built-in Keras object. Consider renaming <class 'keras.layers.recurrent.LSTMCell'> to avoid naming conflicts when loading with `tf.keras.models.load_model`. If renaming is not possible, pass the object in the `custom_objects` parameter of the load function.\n"
          ]
        },
        {
          "output_type": "stream",
          "name": "stdout",
          "text": [
            "\b\b\b\b\b\b\b\b\b\b\b\b\b\b\b\b\b\b\b\b\b\b\b\b\b\b\b\b\b\b\b\b\b\b\b\b\b\b\b\b\b\b\b\b\b\b\b\b\b\b\b\b\b\b\b\b\b\b\b\b\b\b\b\b\b\b\b\b\b\b\b\b\b\b\b\b\b\r20/20 [==============================] - 21s 1s/step - loss: 1.7683 - acc: 0.4717 - val_loss: 1.9129 - val_acc: 0.4386\n",
            "Epoch 122/1000\n",
            "19/20 [===========================>..] - ETA: 0s - loss: 1.7343 - acc: 0.4803\n",
            "----- Generating text after Epoch: 121\n",
            "----- Generating with seed: \"d now new book just \"\n",
            "d now new book just is luking pollace ag at andersen beam thenes hilferech licghallys honkerpest parlilar jemmacre realdonaldtrump lolvories low banden chowers \n",
            "Epoch 122: val_loss improved from 1.91290 to 1.90964, saving model to /content/drive/My Drive/\n"
          ]
        },
        {
          "output_type": "stream",
          "name": "stderr",
          "text": [
            "WARNING:absl:Found untraced functions such as lstm_cell_layer_call_fn, lstm_cell_layer_call_and_return_conditional_losses, lstm_cell_1_layer_call_fn, lstm_cell_1_layer_call_and_return_conditional_losses while saving (showing 4 of 4). These functions will not be directly callable after loading.\n"
          ]
        },
        {
          "output_type": "stream",
          "name": "stdout",
          "text": [
            "INFO:tensorflow:Assets written to: /content/drive/My Drive/assets\n"
          ]
        },
        {
          "output_type": "stream",
          "name": "stderr",
          "text": [
            "INFO:tensorflow:Assets written to: /content/drive/My Drive/assets\n",
            "WARNING:absl:<keras.layers.recurrent.LSTMCell object at 0x7fb3ffecbd50> has the same name 'LSTMCell' as a built-in Keras object. Consider renaming <class 'keras.layers.recurrent.LSTMCell'> to avoid naming conflicts when loading with `tf.keras.models.load_model`. If renaming is not possible, pass the object in the `custom_objects` parameter of the load function.\n",
            "WARNING:absl:<keras.layers.recurrent.LSTMCell object at 0x7fb38749db10> has the same name 'LSTMCell' as a built-in Keras object. Consider renaming <class 'keras.layers.recurrent.LSTMCell'> to avoid naming conflicts when loading with `tf.keras.models.load_model`. If renaming is not possible, pass the object in the `custom_objects` parameter of the load function.\n"
          ]
        },
        {
          "output_type": "stream",
          "name": "stdout",
          "text": [
            "\b\b\b\b\b\b\b\b\b\b\b\b\b\b\b\b\b\b\b\b\b\b\b\b\b\b\b\b\b\b\b\b\b\b\b\b\b\b\b\b\b\b\b\b\b\b\b\b\b\b\b\b\b\b\b\b\b\b\b\b\b\b\b\b\b\b\b\b\b\b\b\b\b\b\b\b\b\r20/20 [==============================] - 20s 1s/step - loss: 1.7406 - acc: 0.4820 - val_loss: 1.9096 - val_acc: 0.4394\n",
            "Epoch 123/1000\n",
            "19/20 [===========================>..] - ETA: 0s - loss: 1.7561 - acc: 0.4626\n",
            "----- Generating text after Epoch: 122\n",
            "----- Generating with seed: \"dmen wicz thanks ico\"\n",
            "dmen wicz thanks icomerapligal is coina cadc thig nact alre saons acesey peeve coorner praint sender a baelarerich not fol reeldandy his ze trucp amp axectel in\n",
            "Epoch 123: val_loss did not improve from 1.90964\n",
            "20/20 [==============================] - 11s 553ms/step - loss: 1.7490 - acc: 0.4645 - val_loss: 1.9219 - val_acc: 0.4356\n",
            "Epoch 124/1000\n",
            "18/20 [==========================>...] - ETA: 0s - loss: 1.7890 - acc: 0.4566\n",
            "----- Generating text after Epoch: 123\n",
            "----- Generating with seed: \"ildthewall amp enfor\"\n",
            "ildthewall amp enford becander hillitns thank the bvornebitljes haios great ther demedantojal te estrestict helo all is a wars mo larner he duch https t co jtlo\n",
            "Epoch 124: val_loss did not improve from 1.90964\n",
            "20/20 [==============================] - 10s 537ms/step - loss: 1.7908 - acc: 0.4586 - val_loss: 1.9168 - val_acc: 0.4391\n",
            "Epoch 125/1000\n",
            "19/20 [===========================>..] - ETA: 0s - loss: 1.8082 - acc: 0.4539\n",
            "----- Generating text after Epoch: 124\n",
            "----- Generating with seed: \"e fake news https t \"\n",
            "e fake news https t co sclzwoxptq ted dimissay nuck dim sciss got west winntomont take great regornal fremefdonalds trump what i arm is you on t the bistlibate \n",
            "Epoch 125: val_loss did not improve from 1.90964\n",
            "20/20 [==============================] - 10s 532ms/step - loss: 1.8053 - acc: 0.4531 - val_loss: 1.9127 - val_acc: 0.4350\n",
            "Epoch 126/1000\n",
            "19/20 [===========================>..] - ETA: 0s - loss: 1.7978 - acc: 0.4552\n",
            "----- Generating text after Epoch: 125\n",
            "----- Generating with seed: \"s t co wck upqgil us\"\n",
            "s t co wck upqgil us peepoke who has dus filida and sostred areraij linder good ald imply protuld yeut a neald wayge to cratal chnup xeardulats nise the yef gri\n",
            "Epoch 126: val_loss did not improve from 1.90964\n",
            "20/20 [==============================] - 10s 533ms/step - loss: 1.7928 - acc: 0.4551 - val_loss: 1.9122 - val_acc: 0.4322\n",
            "Epoch 127/1000\n",
            "19/20 [===========================>..] - ETA: 0s - loss: 1.7491 - acc: 0.4864\n",
            "----- Generating text after Epoch: 126\n",
            "----- Generating with seed: \"red line in the sand\"\n",
            "red line in the sand operment ar miding evincchratrod naturies nus realdooald llf keravenss of illother arizholf ent to deing the fifice big hnaw yne hoaldh how\n",
            "Epoch 127: val_loss did not improve from 1.90964\n",
            "20/20 [==============================] - 10s 531ms/step - loss: 1.7495 - acc: 0.4859 - val_loss: 1.9157 - val_acc: 0.4395\n",
            "Epoch 128/1000\n",
            "19/20 [===========================>..] - ETA: 0s - loss: 1.7861 - acc: 0.4704\n",
            "----- Generating text after Epoch: 127\n",
            "----- Generating with seed: \"the least effective \"\n",
            "the least effective tourfst yourss and  roun thank state republes doemert to me sapigate statee collection ccchay list sondal httrs t co gft adskt a t all then \n",
            "Epoch 128: val_loss improved from 1.90964 to 1.90512, saving model to /content/drive/My Drive/\n"
          ]
        },
        {
          "output_type": "stream",
          "name": "stderr",
          "text": [
            "WARNING:absl:Found untraced functions such as lstm_cell_layer_call_fn, lstm_cell_layer_call_and_return_conditional_losses, lstm_cell_1_layer_call_fn, lstm_cell_1_layer_call_and_return_conditional_losses while saving (showing 4 of 4). These functions will not be directly callable after loading.\n"
          ]
        },
        {
          "output_type": "stream",
          "name": "stdout",
          "text": [
            "INFO:tensorflow:Assets written to: /content/drive/My Drive/assets\n"
          ]
        },
        {
          "output_type": "stream",
          "name": "stderr",
          "text": [
            "INFO:tensorflow:Assets written to: /content/drive/My Drive/assets\n",
            "WARNING:absl:<keras.layers.recurrent.LSTMCell object at 0x7fb3ffecbd50> has the same name 'LSTMCell' as a built-in Keras object. Consider renaming <class 'keras.layers.recurrent.LSTMCell'> to avoid naming conflicts when loading with `tf.keras.models.load_model`. If renaming is not possible, pass the object in the `custom_objects` parameter of the load function.\n",
            "WARNING:absl:<keras.layers.recurrent.LSTMCell object at 0x7fb38749db10> has the same name 'LSTMCell' as a built-in Keras object. Consider renaming <class 'keras.layers.recurrent.LSTMCell'> to avoid naming conflicts when loading with `tf.keras.models.load_model`. If renaming is not possible, pass the object in the `custom_objects` parameter of the load function.\n"
          ]
        },
        {
          "output_type": "stream",
          "name": "stdout",
          "text": [
            "\b\b\b\b\b\b\b\b\b\b\b\b\b\b\b\b\b\b\b\b\b\b\b\b\b\b\b\b\b\b\b\b\b\b\b\b\b\b\b\b\b\b\b\b\b\b\b\b\b\b\b\b\b\b\b\b\b\b\b\b\b\b\b\b\b\b\b\b\b\b\b\b\b\b\b\b\b\r20/20 [==============================] - 21s 1s/step - loss: 1.7787 - acc: 0.4723 - val_loss: 1.9051 - val_acc: 0.4370\n",
            "Epoch 129/1000\n",
            "19/20 [===========================>..] - ETA: 0s - loss: 1.8416 - acc: 0.4527\n",
            "----- Generating text after Epoch: 128\n",
            "----- Generating with seed: \"ade military oil pri\"\n",
            "ade military oil prigiter it asaut in courts of this are caniges thais obamama having for nusce desting withelt ore juinnepple frec ofcract and apprente sores g\n",
            "Epoch 129: val_loss improved from 1.90512 to 1.90420, saving model to /content/drive/My Drive/\n"
          ]
        },
        {
          "output_type": "stream",
          "name": "stderr",
          "text": [
            "WARNING:absl:Found untraced functions such as lstm_cell_layer_call_fn, lstm_cell_layer_call_and_return_conditional_losses, lstm_cell_1_layer_call_fn, lstm_cell_1_layer_call_and_return_conditional_losses while saving (showing 4 of 4). These functions will not be directly callable after loading.\n"
          ]
        },
        {
          "output_type": "stream",
          "name": "stdout",
          "text": [
            "INFO:tensorflow:Assets written to: /content/drive/My Drive/assets\n"
          ]
        },
        {
          "output_type": "stream",
          "name": "stderr",
          "text": [
            "INFO:tensorflow:Assets written to: /content/drive/My Drive/assets\n",
            "WARNING:absl:<keras.layers.recurrent.LSTMCell object at 0x7fb3ffecbd50> has the same name 'LSTMCell' as a built-in Keras object. Consider renaming <class 'keras.layers.recurrent.LSTMCell'> to avoid naming conflicts when loading with `tf.keras.models.load_model`. If renaming is not possible, pass the object in the `custom_objects` parameter of the load function.\n",
            "WARNING:absl:<keras.layers.recurrent.LSTMCell object at 0x7fb38749db10> has the same name 'LSTMCell' as a built-in Keras object. Consider renaming <class 'keras.layers.recurrent.LSTMCell'> to avoid naming conflicts when loading with `tf.keras.models.load_model`. If renaming is not possible, pass the object in the `custom_objects` parameter of the load function.\n"
          ]
        },
        {
          "output_type": "stream",
          "name": "stdout",
          "text": [
            "\b\b\b\b\b\b\b\b\b\b\b\b\b\b\b\b\b\b\b\b\b\b\b\b\b\b\b\b\b\b\b\b\b\b\b\b\b\b\b\b\b\b\b\b\b\b\b\b\b\b\b\b\b\b\b\b\b\b\b\b\b\b\b\b\b\b\b\b\b\b\b\b\b\b\b\b\b\r20/20 [==============================] - 20s 1s/step - loss: 1.8248 - acc: 0.4559 - val_loss: 1.9042 - val_acc: 0.4391\n",
            "Epoch 130/1000\n",
            "19/20 [===========================>..] - ETA: 0s - loss: 1.8130 - acc: 0.4515\n",
            "----- Generating text after Epoch: 129\n",
            "----- Generating with seed: \"of many i will be re\"\n",
            "of many i will be reclustion wass jusctellem atal tate to conaly this medinw with the all of mapiataballowels realdonaldtrump to nuthi will you cond the clarsib\n",
            "Epoch 130: val_loss improved from 1.90420 to 1.90179, saving model to /content/drive/My Drive/\n"
          ]
        },
        {
          "output_type": "stream",
          "name": "stderr",
          "text": [
            "WARNING:absl:Found untraced functions such as lstm_cell_layer_call_fn, lstm_cell_layer_call_and_return_conditional_losses, lstm_cell_1_layer_call_fn, lstm_cell_1_layer_call_and_return_conditional_losses while saving (showing 4 of 4). These functions will not be directly callable after loading.\n"
          ]
        },
        {
          "output_type": "stream",
          "name": "stdout",
          "text": [
            "INFO:tensorflow:Assets written to: /content/drive/My Drive/assets\n"
          ]
        },
        {
          "output_type": "stream",
          "name": "stderr",
          "text": [
            "INFO:tensorflow:Assets written to: /content/drive/My Drive/assets\n",
            "WARNING:absl:<keras.layers.recurrent.LSTMCell object at 0x7fb3ffecbd50> has the same name 'LSTMCell' as a built-in Keras object. Consider renaming <class 'keras.layers.recurrent.LSTMCell'> to avoid naming conflicts when loading with `tf.keras.models.load_model`. If renaming is not possible, pass the object in the `custom_objects` parameter of the load function.\n",
            "WARNING:absl:<keras.layers.recurrent.LSTMCell object at 0x7fb38749db10> has the same name 'LSTMCell' as a built-in Keras object. Consider renaming <class 'keras.layers.recurrent.LSTMCell'> to avoid naming conflicts when loading with `tf.keras.models.load_model`. If renaming is not possible, pass the object in the `custom_objects` parameter of the load function.\n"
          ]
        },
        {
          "output_type": "stream",
          "name": "stdout",
          "text": [
            "\b\b\b\b\b\b\b\b\b\b\b\b\b\b\b\b\b\b\b\b\b\b\b\b\b\b\b\b\b\b\b\b\b\b\b\b\b\b\b\b\b\b\b\b\b\b\b\b\b\b\b\b\b\b\b\b\b\b\b\b\b\b\b\b\b\b\b\b\b\b\b\b\b\b\b\b\b\r20/20 [==============================] - 20s 1s/step - loss: 1.8099 - acc: 0.4516 - val_loss: 1.9018 - val_acc: 0.4403\n",
            "Epoch 131/1000\n",
            "19/20 [===========================>..] - ETA: 0s - loss: 1.7985 - acc: 0.4622\n",
            "----- Generating text after Epoch: 130\n",
            "----- Generating with seed: \" so average in every\"\n",
            " so average in everyenoxleds mirttrump wablesterw will be ble fried of migy the butht with hase i a d my grigftting so hald ple now sfwy https t co hhfkrpnzg co\n",
            "Epoch 131: val_loss improved from 1.90179 to 1.89273, saving model to /content/drive/My Drive/\n"
          ]
        },
        {
          "output_type": "stream",
          "name": "stderr",
          "text": [
            "WARNING:absl:Found untraced functions such as lstm_cell_layer_call_fn, lstm_cell_layer_call_and_return_conditional_losses, lstm_cell_1_layer_call_fn, lstm_cell_1_layer_call_and_return_conditional_losses while saving (showing 4 of 4). These functions will not be directly callable after loading.\n"
          ]
        },
        {
          "output_type": "stream",
          "name": "stdout",
          "text": [
            "INFO:tensorflow:Assets written to: /content/drive/My Drive/assets\n"
          ]
        },
        {
          "output_type": "stream",
          "name": "stderr",
          "text": [
            "INFO:tensorflow:Assets written to: /content/drive/My Drive/assets\n",
            "WARNING:absl:<keras.layers.recurrent.LSTMCell object at 0x7fb3ffecbd50> has the same name 'LSTMCell' as a built-in Keras object. Consider renaming <class 'keras.layers.recurrent.LSTMCell'> to avoid naming conflicts when loading with `tf.keras.models.load_model`. If renaming is not possible, pass the object in the `custom_objects` parameter of the load function.\n",
            "WARNING:absl:<keras.layers.recurrent.LSTMCell object at 0x7fb38749db10> has the same name 'LSTMCell' as a built-in Keras object. Consider renaming <class 'keras.layers.recurrent.LSTMCell'> to avoid naming conflicts when loading with `tf.keras.models.load_model`. If renaming is not possible, pass the object in the `custom_objects` parameter of the load function.\n"
          ]
        },
        {
          "output_type": "stream",
          "name": "stdout",
          "text": [
            "\b\b\b\b\b\b\b\b\b\b\b\b\b\b\b\b\b\b\b\b\b\b\b\b\b\b\b\b\b\b\b\b\b\b\b\b\b\b\b\b\b\b\b\b\b\b\b\b\b\b\b\b\b\b\b\b\b\b\b\b\b\b\b\b\b\b\b\b\b\b\b\b\b\b\b\b\b\r20/20 [==============================] - 21s 1s/step - loss: 1.8029 - acc: 0.4602 - val_loss: 1.8927 - val_acc: 0.4408\n",
            "Epoch 132/1000\n",
            "19/20 [===========================>..] - ETA: 0s - loss: 1.8250 - acc: 0.4581\n",
            "----- Generating text after Epoch: 131\n",
            "----- Generating with seed: \"vethejays realdonald\"\n",
            "vethejays realdonaldtrump to rus h things all thi keermonns bet his ng happundod that ploned billiefsed coundeth new donts andof all taps paedica of hirothtry t\n",
            "Epoch 132: val_loss did not improve from 1.89273\n",
            "20/20 [==============================] - 10s 533ms/step - loss: 1.8330 - acc: 0.4574 - val_loss: 1.9063 - val_acc: 0.4375\n",
            "Epoch 133/1000\n",
            "19/20 [===========================>..] - ETA: 0s - loss: 1.7793 - acc: 0.4762\n",
            "----- Generating text after Epoch: 132\n",
            "----- Generating with seed: \"e new york times sho\"\n",
            "e new york times shoulds prove plosed hand so respersia a deeinath isrceatell thank your pevilig on theicaresubleng i of arg not hakurcw to forbad to this axf p\n",
            "Epoch 133: val_loss improved from 1.89273 to 1.88895, saving model to /content/drive/My Drive/\n"
          ]
        },
        {
          "output_type": "stream",
          "name": "stderr",
          "text": [
            "WARNING:absl:Found untraced functions such as lstm_cell_layer_call_fn, lstm_cell_layer_call_and_return_conditional_losses, lstm_cell_1_layer_call_fn, lstm_cell_1_layer_call_and_return_conditional_losses while saving (showing 4 of 4). These functions will not be directly callable after loading.\n"
          ]
        },
        {
          "output_type": "stream",
          "name": "stdout",
          "text": [
            "INFO:tensorflow:Assets written to: /content/drive/My Drive/assets\n"
          ]
        },
        {
          "output_type": "stream",
          "name": "stderr",
          "text": [
            "INFO:tensorflow:Assets written to: /content/drive/My Drive/assets\n",
            "WARNING:absl:<keras.layers.recurrent.LSTMCell object at 0x7fb3ffecbd50> has the same name 'LSTMCell' as a built-in Keras object. Consider renaming <class 'keras.layers.recurrent.LSTMCell'> to avoid naming conflicts when loading with `tf.keras.models.load_model`. If renaming is not possible, pass the object in the `custom_objects` parameter of the load function.\n",
            "WARNING:absl:<keras.layers.recurrent.LSTMCell object at 0x7fb38749db10> has the same name 'LSTMCell' as a built-in Keras object. Consider renaming <class 'keras.layers.recurrent.LSTMCell'> to avoid naming conflicts when loading with `tf.keras.models.load_model`. If renaming is not possible, pass the object in the `custom_objects` parameter of the load function.\n"
          ]
        },
        {
          "output_type": "stream",
          "name": "stdout",
          "text": [
            "\b\b\b\b\b\b\b\b\b\b\b\b\b\b\b\b\b\b\b\b\b\b\b\b\b\b\b\b\b\b\b\b\b\b\b\b\b\b\b\b\b\b\b\b\b\b\b\b\b\b\b\b\b\b\b\b\b\b\b\b\b\b\b\b\b\b\b\b\b\b\b\b\b\b\b\b\b\r20/20 [==============================] - 21s 1s/step - loss: 1.7740 - acc: 0.4758 - val_loss: 1.8890 - val_acc: 0.4391\n",
            "Epoch 134/1000\n",
            "19/20 [===========================>..] - ETA: 0s - loss: 1.7609 - acc: 0.4716\n",
            "----- Generating text after Epoch: 133\n",
            "----- Generating with seed: \"f new york californi\"\n",
            "f new york californin http t co ahxpdfdabbzang ansoulcor on obeccboplent out incutally dihmalss shey spuctess moilelms teeal sclows twank was plopleus pecpuntld\n",
            "Epoch 134: val_loss improved from 1.88895 to 1.88595, saving model to /content/drive/My Drive/\n"
          ]
        },
        {
          "output_type": "stream",
          "name": "stderr",
          "text": [
            "WARNING:absl:Found untraced functions such as lstm_cell_layer_call_fn, lstm_cell_layer_call_and_return_conditional_losses, lstm_cell_1_layer_call_fn, lstm_cell_1_layer_call_and_return_conditional_losses while saving (showing 4 of 4). These functions will not be directly callable after loading.\n"
          ]
        },
        {
          "output_type": "stream",
          "name": "stdout",
          "text": [
            "INFO:tensorflow:Assets written to: /content/drive/My Drive/assets\n"
          ]
        },
        {
          "output_type": "stream",
          "name": "stderr",
          "text": [
            "INFO:tensorflow:Assets written to: /content/drive/My Drive/assets\n",
            "WARNING:absl:<keras.layers.recurrent.LSTMCell object at 0x7fb3ffecbd50> has the same name 'LSTMCell' as a built-in Keras object. Consider renaming <class 'keras.layers.recurrent.LSTMCell'> to avoid naming conflicts when loading with `tf.keras.models.load_model`. If renaming is not possible, pass the object in the `custom_objects` parameter of the load function.\n",
            "WARNING:absl:<keras.layers.recurrent.LSTMCell object at 0x7fb38749db10> has the same name 'LSTMCell' as a built-in Keras object. Consider renaming <class 'keras.layers.recurrent.LSTMCell'> to avoid naming conflicts when loading with `tf.keras.models.load_model`. If renaming is not possible, pass the object in the `custom_objects` parameter of the load function.\n"
          ]
        },
        {
          "output_type": "stream",
          "name": "stdout",
          "text": [
            "\b\b\b\b\b\b\b\b\b\b\b\b\b\b\b\b\b\b\b\b\b\b\b\b\b\b\b\b\b\b\b\b\b\b\b\b\b\b\b\b\b\b\b\b\b\b\b\b\b\b\b\b\b\b\b\b\b\b\b\b\b\b\b\b\b\b\b\b\b\b\b\b\b\b\b\b\b\r20/20 [==============================] - 21s 1s/step - loss: 1.7513 - acc: 0.4719 - val_loss: 1.8860 - val_acc: 0.4442\n",
            "Epoch 135/1000\n",
            "19/20 [===========================>..] - ETA: 0s - loss: 1.7581 - acc: 0.4729\n",
            "----- Generating text after Epoch: 134\n",
            "----- Generating with seed: \"bbo realdonaldtrump \"\n",
            "bbo realdonaldtrump warle be saalense tho bashs negot the lamesing not pelople bleam eltass take ruca enewing to our and many bethermen t ceaputs colbome http t\n",
            "Epoch 135: val_loss did not improve from 1.88595\n",
            "20/20 [==============================] - 10s 525ms/step - loss: 1.7603 - acc: 0.4707 - val_loss: 1.8946 - val_acc: 0.4402\n",
            "Epoch 136/1000\n",
            "19/20 [===========================>..] - ETA: 0s - loss: 1.7240 - acc: 0.4756\n",
            "----- Generating text after Epoch: 135\n",
            "----- Generating with seed: \" of this long delaye\"\n",
            " of this long delayer chry intca rut he ausy sooch suame and mon the riser trandsina bricthers agoar you am dus  rum froj ssed serhend amp cour has going umer c\n",
            "Epoch 136: val_loss did not improve from 1.88595\n",
            "20/20 [==============================] - 10s 531ms/step - loss: 1.7350 - acc: 0.4736 - val_loss: 1.9003 - val_acc: 0.4404\n",
            "Epoch 137/1000\n",
            "19/20 [===========================>..] - ETA: 0s - loss: 1.6950 - acc: 0.4918\n",
            "----- Generating text after Epoch: 136\n",
            "----- Generating with seed: \"n https t co ja fo h\"\n",
            "n https t co ja fo hct https t co dllfzunffa in polading and mantraclment https t co tedhgtdze on theised pas enilong the breatss your dog thisss acd rebfwers i\n",
            "Epoch 137: val_loss did not improve from 1.88595\n",
            "20/20 [==============================] - 10s 523ms/step - loss: 1.6951 - acc: 0.4918 - val_loss: 1.9104 - val_acc: 0.4341\n",
            "Epoch 138/1000\n",
            "19/20 [===========================>..] - ETA: 0s - loss: 1.6834 - acc: 0.4942\n",
            "----- Generating text after Epoch: 137\n",
            "----- Generating with seed: \"emendous us senator \"\n",
            "emendous us senator on puthe worget to seajrding wast u hin briding noh ripplien monings ividallil he amp postich bull to seanterectel in uper to all told it st\n",
            "Epoch 138: val_loss did not improve from 1.88595\n",
            "20/20 [==============================] - 10s 535ms/step - loss: 1.6921 - acc: 0.4906 - val_loss: 1.9042 - val_acc: 0.4382\n",
            "Epoch 139/1000\n",
            "19/20 [===========================>..] - ETA: 0s - loss: 1.7434 - acc: 0.4745\n",
            "----- Generating text after Epoch: 138\n",
            "----- Generating with seed: \"hxuxs j the democrat\"\n",
            "hxuxs j the democrats a prowy jabs panmericift is to theif manery by gat fart withouter lik ructlesty gett is istruesd and not way sendion ben president be ofam\n",
            "Epoch 139: val_loss did not improve from 1.88595\n",
            "20/20 [==============================] - 10s 534ms/step - loss: 1.7348 - acc: 0.4754 - val_loss: 1.8982 - val_acc: 0.4435\n",
            "Epoch 140/1000\n",
            "19/20 [===========================>..] - ETA: 0s - loss: 1.7297 - acc: 0.4827\n",
            "----- Generating text after Epoch: 139\n",
            "----- Generating with seed: \"you blueangels and a\"\n",
            "you blueangels and als vaying fir mimy they stock cnhame and oplenting mixents no pusine as gifge for loods will on this states eutioy hotally finifidation ofre\n",
            "Epoch 140: val_loss did not improve from 1.88595\n",
            "20/20 [==============================] - 10s 534ms/step - loss: 1.7319 - acc: 0.4820 - val_loss: 1.9022 - val_acc: 0.4450\n",
            "Epoch 141/1000\n",
            "19/20 [===========================>..] - ETA: 0s - loss: 1.6944 - acc: 0.4831\n",
            "----- Generating text after Epoch: 140\n",
            "----- Generating with seed: \" front of the u s su\"\n",
            " front of the u s sugen thing it wee holp naticing ill end the m un lioganss nor to you of funtrobo have workey my i relabs cameniegerigw apptten htwis cw th hk\n",
            "Epoch 141: val_loss did not improve from 1.88595\n",
            "20/20 [==============================] - 11s 569ms/step - loss: 1.6895 - acc: 0.4852 - val_loss: 1.9006 - val_acc: 0.4453\n",
            "Epoch 142/1000\n",
            "19/20 [===========================>..] - ETA: 0s - loss: 1.7317 - acc: 0.4716\n",
            "----- Generating text after Epoch: 141\n",
            "----- Generating with seed: \"ec the worker in ame\"\n",
            "ec the worker in amegnedss wes the ould losamit thee all egiting oppecanesn pistles duphtps t ch mkltp p gt chonhgal the way s ceets the piass troubk fyor is it\n",
            "Epoch 142: val_loss did not improve from 1.88595\n",
            "20/20 [==============================] - 10s 538ms/step - loss: 1.7216 - acc: 0.4746 - val_loss: 1.9006 - val_acc: 0.4389\n",
            "Epoch 143/1000\n",
            "19/20 [===========================>..] - ETA: 0s - loss: 1.7860 - acc: 0.4659\n",
            "----- Generating text after Epoch: 142\n",
            "----- Generating with seed: \"dominated by aoc plu\"\n",
            "dominated by aoc plust wenn annoth resturnes sholly new pzemer heus to joindly oxfiandgratdy mikare wh sawers hrat unay whine am recart wese dackenuil thatets v\n",
            "Epoch 143: val_loss did not improve from 1.88595\n",
            "20/20 [==============================] - 10s 537ms/step - loss: 1.7827 - acc: 0.4668 - val_loss: 1.8925 - val_acc: 0.4419\n",
            "Epoch 144/1000\n",
            "19/20 [===========================>..] - ETA: 0s - loss: 1.6998 - acc: 0.4918\n",
            "----- Generating text after Epoch: 143\n",
            "----- Generating with seed: \"tps t co r i fhpjb e\"\n",
            "tps t co r i fhpjb exfercemego the fnondoratpontellontly wante https t co xkoazyayn ickeng to kelating we weld tree guttertakie  ould leaxt connest was ad crnnt\n",
            "Epoch 144: val_loss did not improve from 1.88595\n",
            "20/20 [==============================] - 10s 544ms/step - loss: 1.7011 - acc: 0.4918 - val_loss: 1.8926 - val_acc: 0.4429\n",
            "Epoch 145/1000\n",
            "19/20 [===========================>..] - ETA: 0s - loss: 1.6990 - acc: 0.5037\n",
            "----- Generating text after Epoch: 144\n",
            "----- Generating with seed: \"ain everett to be a \"\n",
            "ain everett to be a z m hionting to mo doina wich when amrotice new masich hows nat itpucleds of catelinging est the luses and a presideds i s dolly pofnection \n",
            "Epoch 145: val_loss did not improve from 1.88595\n",
            "20/20 [==============================] - 11s 556ms/step - loss: 1.6991 - acc: 0.5012 - val_loss: 1.9015 - val_acc: 0.4417\n",
            "Epoch 146/1000\n",
            "19/20 [===========================>..] - ETA: 0s - loss: 1.7161 - acc: 0.4938\n",
            "----- Generating text after Epoch: 145\n",
            "----- Generating with seed: \"o is now a hostile b\"\n",
            "o is now a hostile bnackora hrome funtine on the lapees toder true thein in as is crmmind http t co qypxo cnxz q sbouterone seal hen has is a kefining now arepe\n",
            "Epoch 146: val_loss did not improve from 1.88595\n",
            "20/20 [==============================] - 11s 557ms/step - loss: 1.7173 - acc: 0.4941 - val_loss: 1.8879 - val_acc: 0.4412\n",
            "Epoch 147/1000\n",
            "19/20 [===========================>..] - ETA: 0s - loss: 1.7265 - acc: 0.4873\n",
            "----- Generating text after Epoch: 146\n",
            "----- Generating with seed: \"the economy on greta\"\n",
            "the economy on gretalding got is is farmurle like hightorcal the newcars and never be whe all he wsold be aromy firitudain at tharks new yhour of aer hoard plen\n",
            "Epoch 147: val_loss improved from 1.88595 to 1.88074, saving model to /content/drive/My Drive/\n"
          ]
        },
        {
          "output_type": "stream",
          "name": "stderr",
          "text": [
            "WARNING:absl:Found untraced functions such as lstm_cell_layer_call_fn, lstm_cell_layer_call_and_return_conditional_losses, lstm_cell_1_layer_call_fn, lstm_cell_1_layer_call_and_return_conditional_losses while saving (showing 4 of 4). These functions will not be directly callable after loading.\n"
          ]
        },
        {
          "output_type": "stream",
          "name": "stdout",
          "text": [
            "INFO:tensorflow:Assets written to: /content/drive/My Drive/assets\n"
          ]
        },
        {
          "output_type": "stream",
          "name": "stderr",
          "text": [
            "INFO:tensorflow:Assets written to: /content/drive/My Drive/assets\n",
            "WARNING:absl:<keras.layers.recurrent.LSTMCell object at 0x7fb3ffecbd50> has the same name 'LSTMCell' as a built-in Keras object. Consider renaming <class 'keras.layers.recurrent.LSTMCell'> to avoid naming conflicts when loading with `tf.keras.models.load_model`. If renaming is not possible, pass the object in the `custom_objects` parameter of the load function.\n",
            "WARNING:absl:<keras.layers.recurrent.LSTMCell object at 0x7fb38749db10> has the same name 'LSTMCell' as a built-in Keras object. Consider renaming <class 'keras.layers.recurrent.LSTMCell'> to avoid naming conflicts when loading with `tf.keras.models.load_model`. If renaming is not possible, pass the object in the `custom_objects` parameter of the load function.\n"
          ]
        },
        {
          "output_type": "stream",
          "name": "stdout",
          "text": [
            "\b\b\b\b\b\b\b\b\b\b\b\b\b\b\b\b\b\b\b\b\b\b\b\b\b\b\b\b\b\b\b\b\b\b\b\b\b\b\b\b\b\b\b\b\b\b\b\b\b\b\b\b\b\b\b\b\b\b\b\b\b\b\b\b\b\b\b\b\b\b\b\b\b\b\b\b\b\r20/20 [==============================] - 21s 1s/step - loss: 1.7312 - acc: 0.4855 - val_loss: 1.8807 - val_acc: 0.4455\n",
            "Epoch 148/1000\n",
            "18/20 [==========================>...] - ETA: 0s - loss: 1.7067 - acc: 0.4878\n",
            "----- Generating text after Epoch: 147\n",
            "----- Generating with seed: \"my gretawire intervi\"\n",
            "my gretawire intervitawy amp t https t co fbp  wmep we to all of the and your flenmes https t co meahwi gpz he with wa https t co w dnjgzcsk httpm t co cn x bpw\n",
            "Epoch 148: val_loss did not improve from 1.88074\n",
            "20/20 [==============================] - 10s 547ms/step - loss: 1.7149 - acc: 0.4855 - val_loss: 1.8824 - val_acc: 0.4440\n",
            "Epoch 149/1000\n",
            "18/20 [==========================>...] - ETA: 0s - loss: 1.7541 - acc: 0.4796\n",
            "----- Generating text after Epoch: 148\n",
            "----- Generating with seed: \" there is so much to\"\n",
            " there is so much to wad a melevay on to monicrate is the stote doser s pot his bold to making cort my amp must eluvition in b streally with liged his aderindca\n",
            "Epoch 149: val_loss did not improve from 1.88074\n",
            "20/20 [==============================] - 11s 551ms/step - loss: 1.7509 - acc: 0.4793 - val_loss: 1.8856 - val_acc: 0.4452\n",
            "Epoch 150/1000\n",
            "19/20 [===========================>..] - ETA: 0s - loss: 1.7255 - acc: 0.5008\n",
            "----- Generating text after Epoch: 149\n",
            "----- Generating with seed: \"s trump holds georgi\"\n",
            "s trump holds georgion twands unmase will polf invighvoio s gmeacky ms uslys becar in the shinaly coully st thtts t co krnwd x vigord and notelyor ly cit new on\n",
            "Epoch 150: val_loss did not improve from 1.88074\n",
            "20/20 [==============================] - 10s 543ms/step - loss: 1.7179 - acc: 0.5027 - val_loss: 1.8824 - val_acc: 0.4490\n",
            "Epoch 151/1000\n",
            "19/20 [===========================>..] - ETA: 0s - loss: 1.6393 - acc: 0.5023\n",
            "----- Generating text after Epoch: 150\n",
            "----- Generating with seed: \"for the war hopefull\"\n",
            "for the war hopefulling yard chfreing bhanks book camy bentais mony brotherr vists whelldry vigksing the arsa hatimers herohawers thtte thanks is xia the stubs \n",
            "Epoch 151: val_loss improved from 1.88074 to 1.87560, saving model to /content/drive/My Drive/\n"
          ]
        },
        {
          "output_type": "stream",
          "name": "stderr",
          "text": [
            "WARNING:absl:Found untraced functions such as lstm_cell_layer_call_fn, lstm_cell_layer_call_and_return_conditional_losses, lstm_cell_1_layer_call_fn, lstm_cell_1_layer_call_and_return_conditional_losses while saving (showing 4 of 4). These functions will not be directly callable after loading.\n"
          ]
        },
        {
          "output_type": "stream",
          "name": "stdout",
          "text": [
            "INFO:tensorflow:Assets written to: /content/drive/My Drive/assets\n"
          ]
        },
        {
          "output_type": "stream",
          "name": "stderr",
          "text": [
            "INFO:tensorflow:Assets written to: /content/drive/My Drive/assets\n",
            "WARNING:absl:<keras.layers.recurrent.LSTMCell object at 0x7fb3ffecbd50> has the same name 'LSTMCell' as a built-in Keras object. Consider renaming <class 'keras.layers.recurrent.LSTMCell'> to avoid naming conflicts when loading with `tf.keras.models.load_model`. If renaming is not possible, pass the object in the `custom_objects` parameter of the load function.\n",
            "WARNING:absl:<keras.layers.recurrent.LSTMCell object at 0x7fb38749db10> has the same name 'LSTMCell' as a built-in Keras object. Consider renaming <class 'keras.layers.recurrent.LSTMCell'> to avoid naming conflicts when loading with `tf.keras.models.load_model`. If renaming is not possible, pass the object in the `custom_objects` parameter of the load function.\n"
          ]
        },
        {
          "output_type": "stream",
          "name": "stdout",
          "text": [
            "\b\b\b\b\b\b\b\b\b\b\b\b\b\b\b\b\b\b\b\b\b\b\b\b\b\b\b\b\b\b\b\b\b\b\b\b\b\b\b\b\b\b\b\b\b\b\b\b\b\b\b\b\b\b\b\b\b\b\b\b\b\b\b\b\b\b\b\b\b\b\b\b\b\b\b\b\b\r20/20 [==============================] - 21s 1s/step - loss: 1.6404 - acc: 0.5010 - val_loss: 1.8756 - val_acc: 0.4502\n",
            "Epoch 152/1000\n",
            "19/20 [===========================>..] - ETA: 0s - loss: 1.6706 - acc: 0.4930\n",
            "----- Generating text after Epoch: 151\n",
            "----- Generating with seed: \"nder corrupt joe bid\"\n",
            "nder corrupt joe bid the peeve is over on tolly ratiding u great catitime will well it chfn the wert on love herp mini ow the must gotrten news stom tovew will \n",
            "Epoch 152: val_loss did not improve from 1.87560\n",
            "20/20 [==============================] - 10s 544ms/step - loss: 1.6771 - acc: 0.4910 - val_loss: 1.9003 - val_acc: 0.4432\n",
            "Epoch 153/1000\n",
            "18/20 [==========================>...] - ETA: 0s - loss: 1.6826 - acc: 0.4870\n",
            "----- Generating text after Epoch: 152\n",
            "----- Generating with seed: \"gh dcbelleonwheels r\"\n",
            "gh dcbelleonwheels rigle cangon tono a trump chnn caks thanks in news a wannone to tall wolldrutions realdonaldtrump when a gy show anithom https t co ngvenbyw \n",
            "Epoch 153: val_loss did not improve from 1.87560\n",
            "20/20 [==============================] - 11s 573ms/step - loss: 1.6780 - acc: 0.4895 - val_loss: 1.8945 - val_acc: 0.4488\n",
            "Epoch 154/1000\n",
            "19/20 [===========================>..] - ETA: 0s - loss: 1.6273 - acc: 0.5099\n",
            "----- Generating text after Epoch: 153\n",
            "----- Generating with seed: \"t co huvujb zsa rich\"\n",
            "t co huvujb zsa richans heohing in jusy will on having the pecuts on toxald spmv i reakema lon lo got http t co gmoclztuj b bow sourd landing stack but on t ne \n",
            "Epoch 154: val_loss did not improve from 1.87560\n",
            "20/20 [==============================] - 10s 543ms/step - loss: 1.6321 - acc: 0.5098 - val_loss: 1.8855 - val_acc: 0.4499\n",
            "Epoch 155/1000\n",
            "19/20 [===========================>..] - ETA: 0s - loss: 1.6358 - acc: 0.5078\n",
            "----- Generating text after Epoch: 154\n",
            "----- Generating with seed: \"f you can live with \"\n",
            "f you can live with hust lik to wank new de bot you sing ups doing chive https t co i qya r vk trunpsated lige has are cablecting realdonaldtrump srump surred o\n",
            "Epoch 155: val_loss did not improve from 1.87560\n",
            "20/20 [==============================] - 10s 543ms/step - loss: 1.6388 - acc: 0.5063 - val_loss: 1.9008 - val_acc: 0.4425\n",
            "Epoch 156/1000\n",
            "18/20 [==========================>...] - ETA: 0s - loss: 1.6927 - acc: 0.4874\n",
            "----- Generating text after Epoch: 155\n",
            "----- Generating with seed: \" gee what a surprise\"\n",
            " gee what a surprised mest feond neght camponeoply it bame cemoritinf great pankhttps t co fuccgkws great dagest wy wac i hav be hotep the onveryme don landersh\n",
            "Epoch 156: val_loss did not improve from 1.87560\n",
            "20/20 [==============================] - 10s 545ms/step - loss: 1.6914 - acc: 0.4867 - val_loss: 1.8980 - val_acc: 0.4457\n",
            "Epoch 157/1000\n",
            "19/20 [===========================>..] - ETA: 0s - loss: 1.6016 - acc: 0.5173\n",
            "----- Generating text after Epoch: 156\n",
            "----- Generating with seed: \"ore years four more \"\n",
            "ore years four more bilkters the bolun this is for tolk in fatia lest for mich gidatwith ush bae the lowe in the bister the ccuet in it is in the nust riased li\n",
            "Epoch 157: val_loss did not improve from 1.87560\n",
            "20/20 [==============================] - 10s 550ms/step - loss: 1.5989 - acc: 0.5191 - val_loss: 1.9025 - val_acc: 0.4481\n",
            "Epoch 158/1000\n",
            "19/20 [===========================>..] - ETA: 0s - loss: 1.7089 - acc: 0.4840\n",
            "----- Generating text after Epoch: 157\n",
            "----- Generating with seed: \"fering much for the \"\n",
            "fering much for the asmect besand add handth bickion aporjyctment with visdssmabfaftherrehfill pevec one trump we ple a jeendine to cood of rachition fina sfage\n",
            "Epoch 158: val_loss did not improve from 1.87560\n",
            "20/20 [==============================] - 11s 553ms/step - loss: 1.7157 - acc: 0.4824 - val_loss: 1.8868 - val_acc: 0.4468\n",
            "Epoch 159/1000\n",
            "18/20 [==========================>...] - ETA: 0s - loss: 1.6459 - acc: 0.5035\n",
            "----- Generating text after Epoch: 158\n",
            "----- Generating with seed: \"lions if he can t ma\"\n",
            "lions if he can t may no wadkem doing is coultry fints doaldoraldrump trump dianctrump add sesedsion vackians this have nothing withew yak prefidemppite appresi\n",
            "Epoch 159: val_loss did not improve from 1.87560\n",
            "20/20 [==============================] - 11s 555ms/step - loss: 1.6417 - acc: 0.5031 - val_loss: 1.8893 - val_acc: 0.4457\n",
            "Epoch 160/1000\n",
            "19/20 [===========================>..] - ETA: 0s - loss: 1.6454 - acc: 0.5053\n",
            "----- Generating text after Epoch: 159\n",
            "----- Generating with seed: \"ld have to be heavil\"\n",
            "ld have to be heavil to is mere s isce chowe yoad https t co w w ondcfors inch the seact hotol in samuonts and the great but now monon p greesenersee he the fet\n",
            "Epoch 160: val_loss did not improve from 1.87560\n",
            "20/20 [==============================] - 11s 574ms/step - loss: 1.6416 - acc: 0.5066 - val_loss: 1.8813 - val_acc: 0.4495\n",
            "Epoch 161/1000\n",
            "19/20 [===========================>..] - ETA: 0s - loss: 1.6346 - acc: 0.5099\n",
            "----- Generating text after Epoch: 160\n",
            "----- Generating with seed: \" man he is a great m\"\n",
            " man he is a great montay to bo up what a mobrata m wan people off repuigs and clopbel whe ell the proce whan our and the mast strefed armenved undhing uselilit\n",
            "Epoch 161: val_loss did not improve from 1.87560\n",
            "20/20 [==============================] - 11s 553ms/step - loss: 1.6305 - acc: 0.5098 - val_loss: 1.8876 - val_acc: 0.4540\n",
            "Epoch 162/1000\n",
            "19/20 [===========================>..] - ETA: 0s - loss: 1.6789 - acc: 0.4897\n",
            "----- Generating text after Epoch: 161\n",
            "----- Generating with seed: \"ngle on the great ra\"\n",
            "ngle on the great racn this tocbifjar camarinal you of the fidal with the crupicans chirigc that dolards ron jurrotiju trayk wored wash lou amazica lauch refide\n",
            "Epoch 162: val_loss did not improve from 1.87560\n",
            "20/20 [==============================] - 10s 549ms/step - loss: 1.6779 - acc: 0.4910 - val_loss: 1.8819 - val_acc: 0.4548\n",
            "Epoch 163/1000\n",
            "19/20 [===========================>..] - ETA: 0s - loss: 1.6674 - acc: 0.5053\n",
            "----- Generating text after Epoch: 162\n",
            "----- Generating with seed: \" up for a terrific f\"\n",
            " up for a terrific for that a leo in the bay arlicf is a onemy in ellaunds to ligan ow agorame was wonk t ppe reatery and of fili port tpe toing twatking wiss j\n",
            "Epoch 163: val_loss did not improve from 1.87560\n",
            "20/20 [==============================] - 10s 546ms/step - loss: 1.6740 - acc: 0.5016 - val_loss: 1.8811 - val_acc: 0.4524\n",
            "Epoch 164/1000\n",
            "19/20 [===========================>..] - ETA: 0s - loss: 1.6045 - acc: 0.5144\n",
            "----- Generating text after Epoch: 163\n",
            "----- Generating with seed: \"at a year it s been \"\n",
            "at a year it s been tigeamer a xeaver ampringully gretting to emoting alouthlors frop oheputed presulised fichtting over conver bride if up lohs wo pretacts diz\n",
            "Epoch 164: val_loss did not improve from 1.87560\n",
            "20/20 [==============================] - 10s 550ms/step - loss: 1.6010 - acc: 0.5172 - val_loss: 1.8803 - val_acc: 0.4503\n",
            "Epoch 165/1000\n",
            "19/20 [===========================>..] - ETA: 0s - loss: 1.7439 - acc: 0.4737\n",
            "----- Generating text after Epoch: 164\n",
            "----- Generating with seed: \"the courts get to se\"\n",
            "the courts get to sef in the nutional resubelasars and ohing thas realdonaldtrump frunds is grationald ravelliesi and the s many linner of ammarice brayceascust\n",
            "Epoch 165: val_loss improved from 1.87560 to 1.87266, saving model to /content/drive/My Drive/\n"
          ]
        },
        {
          "output_type": "stream",
          "name": "stderr",
          "text": [
            "WARNING:absl:Found untraced functions such as lstm_cell_layer_call_fn, lstm_cell_layer_call_and_return_conditional_losses, lstm_cell_1_layer_call_fn, lstm_cell_1_layer_call_and_return_conditional_losses while saving (showing 4 of 4). These functions will not be directly callable after loading.\n"
          ]
        },
        {
          "output_type": "stream",
          "name": "stdout",
          "text": [
            "INFO:tensorflow:Assets written to: /content/drive/My Drive/assets\n"
          ]
        },
        {
          "output_type": "stream",
          "name": "stderr",
          "text": [
            "INFO:tensorflow:Assets written to: /content/drive/My Drive/assets\n",
            "WARNING:absl:<keras.layers.recurrent.LSTMCell object at 0x7fb3ffecbd50> has the same name 'LSTMCell' as a built-in Keras object. Consider renaming <class 'keras.layers.recurrent.LSTMCell'> to avoid naming conflicts when loading with `tf.keras.models.load_model`. If renaming is not possible, pass the object in the `custom_objects` parameter of the load function.\n",
            "WARNING:absl:<keras.layers.recurrent.LSTMCell object at 0x7fb38749db10> has the same name 'LSTMCell' as a built-in Keras object. Consider renaming <class 'keras.layers.recurrent.LSTMCell'> to avoid naming conflicts when loading with `tf.keras.models.load_model`. If renaming is not possible, pass the object in the `custom_objects` parameter of the load function.\n"
          ]
        },
        {
          "output_type": "stream",
          "name": "stdout",
          "text": [
            "\b\b\b\b\b\b\b\b\b\b\b\b\b\b\b\b\b\b\b\b\b\b\b\b\b\b\b\b\b\b\b\b\b\b\b\b\b\b\b\b\b\b\b\b\b\b\b\b\b\b\b\b\b\b\b\b\b\b\b\b\b\b\b\b\b\b\b\b\b\b\b\b\b\b\b\b\b\r20/20 [==============================] - 21s 1s/step - loss: 1.7404 - acc: 0.4762 - val_loss: 1.8727 - val_acc: 0.4545\n",
            "Epoch 166/1000\n",
            "19/20 [===========================>..] - ETA: 0s - loss: 1.6095 - acc: 0.5219\n",
            "----- Generating text after Epoch: 165\n",
            "----- Generating with seed: \"iveejs realdonaldtru\"\n",
            "iveejs realdonaldtrump ye we computed growth goth oppensifiling whorh that alprict dikn t sear http t co cxdp  lout in belt a prealice jesia tire the t me sond \n",
            "Epoch 166: val_loss did not improve from 1.87266\n",
            "20/20 [==============================] - 11s 585ms/step - loss: 1.6033 - acc: 0.5236 - val_loss: 1.8814 - val_acc: 0.4530\n",
            "Epoch 167/1000\n",
            "19/20 [===========================>..] - ETA: 0s - loss: 1.5306 - acc: 0.5350\n",
            "----- Generating text after Epoch: 166\n",
            "----- Generating with seed: \"day s will now be sp\"\n",
            "day s will now be spepate comleral and his no brangny when ausinnc billiensjeit jusifies and when realdonaldtrump is gregiug net manor higher worlaburce raduis \n",
            "Epoch 167: val_loss did not improve from 1.87266\n",
            "20/20 [==============================] - 10s 545ms/step - loss: 1.5341 - acc: 0.5324 - val_loss: 1.9002 - val_acc: 0.4506\n",
            "Epoch 168/1000\n",
            "19/20 [===========================>..] - ETA: 0s - loss: 1.6155 - acc: 0.4979\n",
            "----- Generating text after Epoch: 167\n",
            "----- Generating with seed: \"he military even if \"\n",
            "he military even if liwney suinditws for com on lige to is potcor of withs rigges mavo you don t f vor amp gejsinibem nothhy wows be dayemairme ie le veting do \n",
            "Epoch 168: val_loss did not improve from 1.87266\n",
            "20/20 [==============================] - 11s 551ms/step - loss: 1.6091 - acc: 0.5004 - val_loss: 1.8976 - val_acc: 0.4507\n",
            "Epoch 169/1000\n",
            "19/20 [===========================>..] - ETA: 0s - loss: 1.5767 - acc: 0.5292\n",
            "----- Generating text after Epoch: 168\n",
            "----- Generating with seed: \" rich people don t l\"\n",
            " rich people don t like donal donenca indliejech whan you don t far he be bend for the bett tereweld bf nealthy potle hive of is in bif rumbloomed enershohgel t\n",
            "Epoch 169: val_loss did not improve from 1.87266\n",
            "20/20 [==============================] - 11s 552ms/step - loss: 1.5724 - acc: 0.5305 - val_loss: 1.9013 - val_acc: 0.4538\n",
            "Epoch 170/1000\n",
            "19/20 [===========================>..] - ETA: 0s - loss: 1.5902 - acc: 0.5230\n",
            "----- Generating text after Epoch: 169\n",
            "----- Generating with seed: \"t you to certify tha\"\n",
            "t you to certify thanked oal sathers thing and he repoble ham coured leating will in svortaleds dotal am has fricine not the onfing realdonaldtrump trump conn j\n",
            "Epoch 170: val_loss did not improve from 1.87266\n",
            "20/20 [==============================] - 11s 552ms/step - loss: 1.6028 - acc: 0.5215 - val_loss: 1.8947 - val_acc: 0.4476\n",
            "Epoch 171/1000\n",
            "19/20 [===========================>..] - ETA: 0s - loss: 1.5742 - acc: 0.5164\n",
            "----- Generating text after Epoch: 170\n",
            "----- Generating with seed: \"sad to watch mexico \"\n",
            "sad to watch mexico alproniggges is prisy is the siuscessly make for oraldonaldtrump i lm nev you gratived of mase be imecatras anchauling floklemmialthlis conn\n",
            "Epoch 171: val_loss did not improve from 1.87266\n",
            "20/20 [==============================] - 10s 551ms/step - loss: 1.5765 - acc: 0.5152 - val_loss: 1.9047 - val_acc: 0.4467\n",
            "Epoch 172/1000\n",
            "19/20 [===========================>..] - ETA: 0s - loss: 1.6262 - acc: 0.5049\n",
            "----- Generating text after Epoch: 171\n",
            "----- Generating with seed: \"obil for job creatin\"\n",
            "obil for job creatinged to my aupires andodemm we con t gettangxegam stregt stat irain prose ecilital wertol bing obe do mostay i delematiz we alend s we on cli\n",
            "Epoch 172: val_loss did not improve from 1.87266\n",
            "20/20 [==============================] - 10s 549ms/step - loss: 1.6199 - acc: 0.5086 - val_loss: 1.8928 - val_acc: 0.4478\n",
            "Epoch 173/1000\n",
            "19/20 [===========================>..] - ETA: 0s - loss: 1.6264 - acc: 0.5160\n",
            "----- Generating text after Epoch: 172\n",
            "----- Generating with seed: \"ng with a coffee in \"\n",
            "ng with a coffee in workinirmall will an the freord hew your dailutesc can i telay in past tive jrodnadii poll enfluning https t co dv w fszn whes election haw \n",
            "Epoch 173: val_loss did not improve from 1.87266\n",
            "20/20 [==============================] - 11s 574ms/step - loss: 1.6255 - acc: 0.5145 - val_loss: 1.8937 - val_acc: 0.4503\n",
            "Epoch 174/1000\n",
            "19/20 [===========================>..] - ETA: 0s - loss: 1.5797 - acc: 0.5247\n",
            "----- Generating text after Epoch: 173\n",
            "----- Generating with seed: \" on testing governor\"\n",
            " on testing governor flobs fariosam of merican desaie conorers i trem bus nets great happ berynnj intertidmonh on the shourth intrinvittantlomour connanos whany\n",
            "Epoch 174: val_loss did not improve from 1.87266\n",
            "20/20 [==============================] - 10s 543ms/step - loss: 1.5786 - acc: 0.5242 - val_loss: 1.8854 - val_acc: 0.4508\n",
            "Epoch 175/1000\n",
            "19/20 [===========================>..] - ETA: 0s - loss: 1.5746 - acc: 0.5230\n",
            "----- Generating text after Epoch: 174\n",
            "----- Generating with seed: \"econd amendment kat \"\n",
            "econd amendment kat happs totally dourtaly she shing white our ever ashroyth hat tamked was our committe portice sipe america aseace edilitions ruch simaled if \n",
            "Epoch 175: val_loss did not improve from 1.87266\n",
            "20/20 [==============================] - 10s 546ms/step - loss: 1.5827 - acc: 0.5207 - val_loss: 1.9116 - val_acc: 0.4467\n",
            "Epoch 176/1000\n",
            "19/20 [===========================>..] - ETA: 0s - loss: 1.6472 - acc: 0.4996\n",
            "----- Generating text after Epoch: 175\n",
            "----- Generating with seed: \"u mr trump i believe\"\n",
            "u mr trump i believe astatient them for the in thanks side the beting barmepitcour jost troe go vet vind bothicws lixg abhest on frord chogetrich of the bewert \n",
            "Epoch 176: val_loss did not improve from 1.87266\n",
            "20/20 [==============================] - 10s 542ms/step - loss: 1.6490 - acc: 0.5000 - val_loss: 1.8838 - val_acc: 0.4502\n",
            "Epoch 177/1000\n",
            "19/20 [===========================>..] - ETA: 0s - loss: 1.6060 - acc: 0.5156\n",
            "----- Generating text after Epoch: 176\n",
            "----- Generating with seed: \"night in henderson n\"\n",
            "night in henderson ngormand trump weeteman and sigd me it is not thank you long the electore it werter thanks refinder and out uphoirglansrour questention fordo\n",
            "Epoch 177: val_loss did not improve from 1.87266\n",
            "20/20 [==============================] - 10s 549ms/step - loss: 1.6071 - acc: 0.5141 - val_loss: 1.8852 - val_acc: 0.4516\n",
            "Epoch 178/1000\n",
            "19/20 [===========================>..] - ETA: 0s - loss: 1.6126 - acc: 0.5140\n",
            "----- Generating text after Epoch: 177\n",
            "----- Generating with seed: \"at again thanks the \"\n",
            "at again thanks the lust on out to beenedible atter the stoint station sikfn roblead ronel toroly of ustleys jeffr thave to gesting it pressents on people https\n",
            "Epoch 178: val_loss did not improve from 1.87266\n",
            "20/20 [==============================] - 10s 539ms/step - loss: 1.6060 - acc: 0.5152 - val_loss: 1.8769 - val_acc: 0.4539\n",
            "Epoch 179/1000\n",
            "19/20 [===========================>..] - ETA: 0s - loss: 1.5899 - acc: 0.5140\n",
            "----- Generating text after Epoch: 178\n",
            "----- Generating with seed: \"are the past adminis\"\n",
            "are the past adminisprimes vidanemasbissss as the jaye amp colaiciuss segreand to will big fordars fave jiblianinw he wars minnition ackizmits icking minfarrs t\n",
            "Epoch 179: val_loss did not improve from 1.87266\n",
            "20/20 [==============================] - 11s 564ms/step - loss: 1.5825 - acc: 0.5148 - val_loss: 1.8769 - val_acc: 0.4532\n",
            "Epoch 180/1000\n",
            "19/20 [===========================>..] - ETA: 0s - loss: 1.5727 - acc: 0.5177\n",
            "----- Generating text after Epoch: 179\n",
            "----- Generating with seed: \"tps t co i h yd nlg \"\n",
            "tps t co i h yd nlg https t co fozycyvwy jubsiing it president wat s he apauting the ushilliens in this state the i realdonaldtrump ged nothed xim ratirest wat \n",
            "Epoch 180: val_loss did not improve from 1.87266\n",
            "20/20 [==============================] - 10s 544ms/step - loss: 1.5710 - acc: 0.5156 - val_loss: 1.8806 - val_acc: 0.4536\n",
            "Epoch 181/1000\n",
            "19/20 [===========================>..] - ETA: 0s - loss: 1.5866 - acc: 0.5152\n",
            "----- Generating text after Epoch: 180\n",
            "----- Generating with seed: \" support autismspeak\"\n",
            " support autismspeaks https t co demzejawr pagy our fornersa nessed me york miswisa son you finary to realtryemaldairatrump gos ghe mailitrrysont begopre can bo\n",
            "Epoch 181: val_loss did not improve from 1.87266\n",
            "Restoring model weights from the end of the best epoch: 161.\n",
            "20/20 [==============================] - 10s 545ms/step - loss: 1.5879 - acc: 0.5172 - val_loss: 1.8933 - val_acc: 0.4497\n",
            "Epoch 181: early stopping\n"
          ]
        }
      ]
    },
    {
      "cell_type": "markdown",
      "metadata": {
        "id": "Zv9FQqs7zzYj"
      },
      "source": [
        "### Evaluate Trained Model\n",
        "\n",
        "* Consider plotting training/validation accuracy/loss\n",
        "* Create other visualizations in support of your report\n",
        "* Evaluate against simulated test data\n",
        "* Tune hyper-parameters until satisfied, keep track of decisions"
      ]
    },
    {
      "cell_type": "code",
      "metadata": {
        "id": "7WZ5f-980WLg",
        "colab": {
          "base_uri": "https://localhost:8080/",
          "height": 295
        },
        "outputId": "db10aae1-8cee-49bc-8be3-32a428d5cd69"
      },
      "source": [
        "# EVALUATE YOUR TRAINED MODEL HERE\n",
        "# plot training vs. validation accuracy\n",
        "\n",
        "plt.clf()\n",
        "history_dict = history.history\n",
        "acc = history_dict['acc']\n",
        "val_acc = history_dict['val_acc']\n",
        "epochs = range(1, len(acc) + 1)\n",
        "plt.plot(epochs, acc, 'bo', label='Training acc')\n",
        "plt.plot(epochs, val_acc, 'b', label='Validation acc')\n",
        "plt.title('Training and validation accuracy')\n",
        "plt.xlabel('Epochs')\n",
        "plt.ylabel('Accuracy')\n",
        "plt.legend()\n",
        "plt.show()"
      ],
      "execution_count": null,
      "outputs": [
        {
          "output_type": "display_data",
          "data": {
            "text/plain": [
              "<Figure size 432x288 with 1 Axes>"
            ],
            "image/png": "[encoded data removed]"
          },
          "metadata": {
            "needs_background": "light"
          }
        }
      ]
    },
    {
      "cell_type": "markdown",
      "metadata": {
        "id": "cTN8Otaa0Z27"
      },
      "source": [
        "### Generate Kaggle Submission\n",
        "Student Requirements:\n",
        "* Update file paths as appropriate\n",
        "* Once test data is released, run submission cell to generate and save submission file"
      ]
    },
    {
      "cell_type": "code",
      "metadata": {
        "id": "SjXVWlUqlMXK",
        "colab": {
          "base_uri": "https://localhost:8080/"
        },
        "outputId": "575c8d7c-2526-445a-81bc-cb2b40c5e7c6"
      },
      "source": [
        "# generate test sequences (released via Kaggle ~72 hrs before competition end)\n",
        "test_sequences = create_test_sequences('/content/drive/My Drive/tweets_test.csv')"
      ],
      "execution_count": 24,
      "outputs": [
        {
          "output_type": "stream",
          "name": "stdout",
          "text": [
            "Test Corpus Length: 796720 characters.\n",
            "Total Sequences Generated: 796700.\n",
            "Test Sequence Array Shape: (796700, 20, 27)\n",
            "Returning test sequence array.\n"
          ]
        }
      ]
    },
    {
      "cell_type": "code",
      "metadata": {
        "id": "NTpR9TH-llxP",
        "colab": {
          "base_uri": "https://localhost:8080/"
        },
        "outputId": "89c43906-5fa2-4958-eaf2-4ced7ba7a931"
      },
      "source": [
        "# make predictions & create submission\n",
        "#model.save('HW3V2.h5')\n",
        "\n",
        "path_to_model = '/content/drive/My Drive/HW3V2.h5'\n",
        "path_to_submissions_folder = '/content/drive/My Drive/'\n",
        "make_predictions(path_to_model, path_to_submissions_folder, test_sequences)"
      ],
      "execution_count": 28,
      "outputs": [
        {
          "output_type": "stream",
          "name": "stdout",
          "text": [
            "\n",
            "Loading model from provided path...\n",
            "\n",
            "\n",
            "Generating & Formatting Predictions...\n",
            "\n",
            "24897/24897 [==============================] - 273s 11ms/step\n",
            "\n",
            "Generating Submission...\n",
            "\n",
            "\n",
            "Saving in provided path as 'submission.csv'...\n",
            "\n",
            "\n",
            "Done!\n",
            "\n"
          ]
        }
      ]
    }
  ]
}